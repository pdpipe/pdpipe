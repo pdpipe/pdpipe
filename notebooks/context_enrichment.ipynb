{
 "cells": [
  {
   "cell_type": "code",
   "execution_count": 1,
   "id": "8aa67864",
   "metadata": {},
   "outputs": [],
   "source": [
    "import numpy as np; import pandas as pd; import pdpipe as pdp;"
   ]
  },
  {
   "cell_type": "code",
   "execution_count": 18,
   "id": "3c2a2ad4",
   "metadata": {},
   "outputs": [],
   "source": [
    "tdf = pd.DataFrame({'a': ['a','b','c','d'], 'b':[5,6,7,1]})"
   ]
  },
  {
   "cell_type": "code",
   "execution_count": 11,
   "id": "7b0882b0",
   "metadata": {},
   "outputs": [],
   "source": [
    "pline = pdp.PdPipeline([\n",
    "    pdp.ApplicationContextEnricher(\n",
    "        numeric_means=lambda df: df.select_dtypes(include=np.number).mean().to_dict(),\n",
    "    ),\n",
    "    pdp.ApplyByCols(\n",
    "        columns=pdp.cq.OfNumericDtypes(),\n",
    "        func=lambda x, label, application_context: 'DROP' if x < application_context['numeric_means'][label] else x,\n",
    "    ),\n",
    "    pdp.ValDrop(['DROP']),\n",
    "])"
   ]
  },
  {
   "cell_type": "code",
   "execution_count": 13,
   "id": "4c6b06c3",
   "metadata": {
    "scrolled": true
   },
   "outputs": [
    {
     "data": {
      "text/html": [
       "<div>\n",
       "<style scoped>\n",
       "    .dataframe tbody tr th:only-of-type {\n",
       "        vertical-align: middle;\n",
       "    }\n",
       "\n",
       "    .dataframe tbody tr th {\n",
       "        vertical-align: top;\n",
       "    }\n",
       "\n",
       "    .dataframe thead th {\n",
       "        text-align: right;\n",
       "    }\n",
       "</style>\n",
       "<table border=\"1\" class=\"dataframe\">\n",
       "  <thead>\n",
       "    <tr style=\"text-align: right;\">\n",
       "      <th></th>\n",
       "      <th>a</th>\n",
       "      <th>b</th>\n",
       "    </tr>\n",
       "  </thead>\n",
       "  <tbody>\n",
       "    <tr>\n",
       "      <th>0</th>\n",
       "      <td>a</td>\n",
       "      <td>5</td>\n",
       "    </tr>\n",
       "    <tr>\n",
       "      <th>1</th>\n",
       "      <td>b</td>\n",
       "      <td>6</td>\n",
       "    </tr>\n",
       "    <tr>\n",
       "      <th>2</th>\n",
       "      <td>c</td>\n",
       "      <td>7</td>\n",
       "    </tr>\n",
       "  </tbody>\n",
       "</table>\n",
       "</div>"
      ],
      "text/plain": [
       "   a  b\n",
       "0  a  5\n",
       "1  b  6\n",
       "2  c  7"
      ]
     },
     "execution_count": 13,
     "metadata": {},
     "output_type": "execute_result"
    }
   ],
   "source": [
    "pline(tdf)"
   ]
  },
  {
   "cell_type": "code",
   "execution_count": 23,
   "id": "5a718d6e",
   "metadata": {},
   "outputs": [],
   "source": [
    "pline2 = pdp.PdPipeline([\n",
    "    pdp.ColByFrameFunc(\n",
    "        column='b',\n",
    "        func=lambda df: tdf['b'].apply(lambda x: 'DROP' if x < tdf['b'].mean() else x)\n",
    "    ),\n",
    "    pdp.ValDrop(['DROP']),\n",
    "])"
   ]
  },
  {
   "cell_type": "code",
   "execution_count": 24,
   "id": "b35cbbd1",
   "metadata": {},
   "outputs": [
    {
     "data": {
      "text/html": [
       "<div>\n",
       "<style scoped>\n",
       "    .dataframe tbody tr th:only-of-type {\n",
       "        vertical-align: middle;\n",
       "    }\n",
       "\n",
       "    .dataframe tbody tr th {\n",
       "        vertical-align: top;\n",
       "    }\n",
       "\n",
       "    .dataframe thead th {\n",
       "        text-align: right;\n",
       "    }\n",
       "</style>\n",
       "<table border=\"1\" class=\"dataframe\">\n",
       "  <thead>\n",
       "    <tr style=\"text-align: right;\">\n",
       "      <th></th>\n",
       "      <th>a</th>\n",
       "      <th>b</th>\n",
       "    </tr>\n",
       "  </thead>\n",
       "  <tbody>\n",
       "    <tr>\n",
       "      <th>0</th>\n",
       "      <td>a</td>\n",
       "      <td>5</td>\n",
       "    </tr>\n",
       "    <tr>\n",
       "      <th>1</th>\n",
       "      <td>b</td>\n",
       "      <td>6</td>\n",
       "    </tr>\n",
       "    <tr>\n",
       "      <th>2</th>\n",
       "      <td>c</td>\n",
       "      <td>7</td>\n",
       "    </tr>\n",
       "  </tbody>\n",
       "</table>\n",
       "</div>"
      ],
      "text/plain": [
       "   a  b\n",
       "0  a  5\n",
       "1  b  6\n",
       "2  c  7"
      ]
     },
     "execution_count": 24,
     "metadata": {},
     "output_type": "execute_result"
    }
   ],
   "source": [
    "pline2(tdf)"
   ]
  },
  {
   "cell_type": "code",
   "execution_count": 19,
   "id": "35d19b1b",
   "metadata": {
    "scrolled": true
   },
   "outputs": [
    {
     "data": {
      "text/plain": [
       "0       5\n",
       "1       6\n",
       "2       7\n",
       "3    DROP\n",
       "Name: b, dtype: object"
      ]
     },
     "execution_count": 19,
     "metadata": {},
     "output_type": "execute_result"
    }
   ],
   "source": [
    "tdf['b'].apply(lambda x: 'DROP' if x < tdf['b'].mean() else x)"
   ]
  },
  {
   "cell_type": "code",
   "execution_count": 15,
   "id": "b748b14a",
   "metadata": {},
   "outputs": [
    {
     "data": {
      "text/plain": [
       "5"
      ]
     },
     "execution_count": 15,
     "metadata": {},
     "output_type": "execute_result"
    }
   ],
   "source": [
    "tdf['b'][0]"
   ]
  },
  {
   "cell_type": "code",
   "execution_count": null,
   "id": "2724d127",
   "metadata": {},
   "outputs": [],
   "source": []
  }
 ],
 "metadata": {
  "kernelspec": {
   "display_name": "py3",
   "language": "python",
   "name": "py3"
  },
  "language_info": {
   "codemirror_mode": {
    "name": "ipython",
    "version": 3
   },
   "file_extension": ".py",
   "mimetype": "text/x-python",
   "name": "python",
   "nbconvert_exporter": "python",
   "pygments_lexer": "ipython3",
   "version": "3.10.2"
  }
 },
 "nbformat": 4,
 "nbformat_minor": 5
}
