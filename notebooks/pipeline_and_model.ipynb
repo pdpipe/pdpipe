{
 "cells": [
  {
   "cell_type": "markdown",
   "metadata": {},
   "source": [
    "# PdPipeline + Sklearn Model"
   ]
  },
  {
   "cell_type": "markdown",
   "metadata": {},
   "source": [
    "## The Data"
   ]
  },
  {
   "cell_type": "code",
   "execution_count": 1,
   "metadata": {},
   "outputs": [],
   "source": [
    "import pandas as pd"
   ]
  },
  {
   "cell_type": "code",
   "execution_count": 2,
   "metadata": {},
   "outputs": [],
   "source": [
    "df = pd.DataFrame(\n",
    "    data=[\n",
    "        [23, 'Jo', 'M', True, 0.07, 'USA', 'Living life to its fullest'],\n",
    "        [52, 'Regina', 'F', False, 0.26, 'Germany', 'I hate cats'],\n",
    "        [23, 'Dana', 'F', True, 0.3, 'USA', 'the pen is mightier then the sword'],\n",
    "        [25, 'Bo', 'M', False, 2.3, 'Greece', 'all for one and one for all'],\n",
    "        [80, 'Richy', 'M', False, 100.2, 'Finland', 'I gots the dollarz'],\n",
    "        [60, 'Paul', 'M', True, 1.87, 'Denmark', 'blah'],\n",
    "        [44, 'Derek', 'M', True, 1.1, 'Denmark', 'every life is precious'],\n",
    "        [72, 'Regina', 'F', True, 7.1, 'Greece', 'all of you get off my porch'],\n",
    "        [50, 'Jim', 'M', False, 0.2, 'Germany', 'boy do I love dogs and cats'],\n",
    "        [80, 'Wealthus', 'F', False, 123.2, 'Finland', 'me likey them moniez'],\n",
    "    ],\n",
    "    columns=['Age', 'Name', 'Gender', 'Smoking', 'Savings', 'Country', 'Quote'],\n",
    ")"
   ]
  },
  {
   "cell_type": "code",
   "execution_count": 3,
   "metadata": {},
   "outputs": [
    {
     "data": {
      "text/html": [
       "<div>\n",
       "<style scoped>\n",
       "    .dataframe tbody tr th:only-of-type {\n",
       "        vertical-align: middle;\n",
       "    }\n",
       "\n",
       "    .dataframe tbody tr th {\n",
       "        vertical-align: top;\n",
       "    }\n",
       "\n",
       "    .dataframe thead th {\n",
       "        text-align: right;\n",
       "    }\n",
       "</style>\n",
       "<table border=\"1\" class=\"dataframe\">\n",
       "  <thead>\n",
       "    <tr style=\"text-align: right;\">\n",
       "      <th></th>\n",
       "      <th>Age</th>\n",
       "      <th>Name</th>\n",
       "      <th>Gender</th>\n",
       "      <th>Smoking</th>\n",
       "      <th>Savings</th>\n",
       "      <th>Country</th>\n",
       "      <th>Quote</th>\n",
       "    </tr>\n",
       "  </thead>\n",
       "  <tbody>\n",
       "    <tr>\n",
       "      <th>0</th>\n",
       "      <td>23</td>\n",
       "      <td>Jo</td>\n",
       "      <td>M</td>\n",
       "      <td>True</td>\n",
       "      <td>0.07</td>\n",
       "      <td>USA</td>\n",
       "      <td>Living life to its fullest</td>\n",
       "    </tr>\n",
       "    <tr>\n",
       "      <th>1</th>\n",
       "      <td>52</td>\n",
       "      <td>Regina</td>\n",
       "      <td>F</td>\n",
       "      <td>False</td>\n",
       "      <td>0.26</td>\n",
       "      <td>Germany</td>\n",
       "      <td>I hate cats</td>\n",
       "    </tr>\n",
       "    <tr>\n",
       "      <th>2</th>\n",
       "      <td>23</td>\n",
       "      <td>Dana</td>\n",
       "      <td>F</td>\n",
       "      <td>True</td>\n",
       "      <td>0.30</td>\n",
       "      <td>USA</td>\n",
       "      <td>the pen is mightier then the sword</td>\n",
       "    </tr>\n",
       "    <tr>\n",
       "      <th>3</th>\n",
       "      <td>25</td>\n",
       "      <td>Bo</td>\n",
       "      <td>M</td>\n",
       "      <td>False</td>\n",
       "      <td>2.30</td>\n",
       "      <td>Greece</td>\n",
       "      <td>all for one and one for all</td>\n",
       "    </tr>\n",
       "    <tr>\n",
       "      <th>4</th>\n",
       "      <td>80</td>\n",
       "      <td>Richy</td>\n",
       "      <td>M</td>\n",
       "      <td>False</td>\n",
       "      <td>100.20</td>\n",
       "      <td>Finland</td>\n",
       "      <td>I gots the dollarz</td>\n",
       "    </tr>\n",
       "    <tr>\n",
       "      <th>5</th>\n",
       "      <td>60</td>\n",
       "      <td>Paul</td>\n",
       "      <td>M</td>\n",
       "      <td>True</td>\n",
       "      <td>1.87</td>\n",
       "      <td>Denmark</td>\n",
       "      <td>blah</td>\n",
       "    </tr>\n",
       "    <tr>\n",
       "      <th>6</th>\n",
       "      <td>44</td>\n",
       "      <td>Derek</td>\n",
       "      <td>M</td>\n",
       "      <td>True</td>\n",
       "      <td>1.10</td>\n",
       "      <td>Denmark</td>\n",
       "      <td>every life is precious</td>\n",
       "    </tr>\n",
       "    <tr>\n",
       "      <th>7</th>\n",
       "      <td>72</td>\n",
       "      <td>Regina</td>\n",
       "      <td>F</td>\n",
       "      <td>True</td>\n",
       "      <td>7.10</td>\n",
       "      <td>Greece</td>\n",
       "      <td>all of you get off my porch</td>\n",
       "    </tr>\n",
       "    <tr>\n",
       "      <th>8</th>\n",
       "      <td>50</td>\n",
       "      <td>Jim</td>\n",
       "      <td>M</td>\n",
       "      <td>False</td>\n",
       "      <td>0.20</td>\n",
       "      <td>Germany</td>\n",
       "      <td>boy do I love dogs and cats</td>\n",
       "    </tr>\n",
       "    <tr>\n",
       "      <th>9</th>\n",
       "      <td>80</td>\n",
       "      <td>Wealthus</td>\n",
       "      <td>F</td>\n",
       "      <td>False</td>\n",
       "      <td>123.20</td>\n",
       "      <td>Finland</td>\n",
       "      <td>me likey them moniez</td>\n",
       "    </tr>\n",
       "  </tbody>\n",
       "</table>\n",
       "</div>"
      ],
      "text/plain": [
       "   Age      Name Gender  Smoking  Savings  Country  \\\n",
       "0   23        Jo      M     True     0.07      USA   \n",
       "1   52    Regina      F    False     0.26  Germany   \n",
       "2   23      Dana      F     True     0.30      USA   \n",
       "3   25        Bo      M    False     2.30   Greece   \n",
       "4   80     Richy      M    False   100.20  Finland   \n",
       "5   60      Paul      M     True     1.87  Denmark   \n",
       "6   44     Derek      M     True     1.10  Denmark   \n",
       "7   72    Regina      F     True     7.10   Greece   \n",
       "8   50       Jim      M    False     0.20  Germany   \n",
       "9   80  Wealthus      F    False   123.20  Finland   \n",
       "\n",
       "                                Quote  \n",
       "0          Living life to its fullest  \n",
       "1                         I hate cats  \n",
       "2  the pen is mightier then the sword  \n",
       "3         all for one and one for all  \n",
       "4                  I gots the dollarz  \n",
       "5                                blah  \n",
       "6              every life is precious  \n",
       "7         all of you get off my porch  \n",
       "8         boy do I love dogs and cats  \n",
       "9                me likey them moniez  "
      ]
     },
     "execution_count": 3,
     "metadata": {},
     "output_type": "execute_result"
    }
   ],
   "source": [
    "df"
   ]
  },
  {
   "cell_type": "markdown",
   "metadata": {},
   "source": [
    "## Defining a combined object"
   ]
  },
  {
   "cell_type": "code",
   "execution_count": 4,
   "metadata": {},
   "outputs": [],
   "source": [
    "from typing import Optional"
   ]
  },
  {
   "cell_type": "code",
   "execution_count": 5,
   "metadata": {},
   "outputs": [],
   "source": [
    "from sklearn.linear_model import LogisticRegression"
   ]
  },
  {
   "cell_type": "code",
   "execution_count": 6,
   "metadata": {},
   "outputs": [],
   "source": [
    "import pdpipe as pdp\n",
    "from pdpipe.skintegrate import PdPipelineAndSklearnEstimator"
   ]
  },
  {
   "cell_type": "code",
   "execution_count": 7,
   "metadata": {},
   "outputs": [],
   "source": [
    "class MyPipelineAndModel(PdPipelineAndSklearnEstimator):\n",
    "    \n",
    "    def __init__(\n",
    "        self,\n",
    "        savings_max_val: Optional[int] = 100,\n",
    "        drop_gender: Optional[bool] = False,\n",
    "        scale_numeric: Optional[bool] = False,\n",
    "        ohencode_country: Optional[bool] = True,\n",
    "        savings_bin_val: Optional[int] = None,\n",
    "        fit_intercept: Optional[bool] = True,\n",
    "    ):\n",
    "        self.savings_max_val = savings_max_val\n",
    "        self.drop_gender = drop_gender\n",
    "        self.scale_numeric = scale_numeric\n",
    "        self.ohencode_country = ohencode_country\n",
    "        self.savings_bin_val = savings_bin_val\n",
    "        self.fit_intercept = fit_intercept\n",
    "        cols_to_drop = []\n",
    "        stages = [\n",
    "            pdp.ColDrop(['Name', 'Quote'], errors='ignore'),\n",
    "#             pdp.RowDrop({'Savings': lambda x: x > savings_max_val}),\n",
    "        ]\n",
    "        if savings_bin_val:\n",
    "            stages.append(pdp.Bin({'Savings': [savings_bin_val]}, drop=False))\n",
    "            stages.append(pdp.Encode('Savings_bin'))\n",
    "        if scale_numeric:\n",
    "            stages.append(pdp.Scale('MinMaxScaler'))\n",
    "        if drop_gender:\n",
    "            cols_to_drop.append('Gender')\n",
    "        else:\n",
    "            stages.append(pdp.Encode('Gender'))\n",
    "        if ohencode_country:\n",
    "            stages.append(pdp.OneHotEncode('Country'))\n",
    "        else:\n",
    "            cols_to_drop.append('Country')\n",
    "        stages.append(pdp.ColDrop(cols_to_drop, errors='ignore'))\n",
    "        pline = pdp.PdPipeline(stages)\n",
    "        model = LogisticRegression(fit_intercept=fit_intercept)\n",
    "        super().__init__(pipeline=pline, estimator=model)"
   ]
  },
  {
   "cell_type": "code",
   "execution_count": 8,
   "metadata": {},
   "outputs": [],
   "source": [
    "mp = MyPipelineAndModel(\n",
    "    savings_max_val=101,\n",
    "    drop_gender=True,\n",
    "    scale_numeric=True,\n",
    "    ohencode_country=True,\n",
    "    savings_bin_val=1,\n",
    "    fit_intercept=True,\n",
    ")"
   ]
  },
  {
   "cell_type": "code",
   "execution_count": 9,
   "metadata": {},
   "outputs": [
    {
     "data": {
      "text/plain": [
       "<PdPipeline -> LogisticRegression>"
      ]
     },
     "execution_count": 9,
     "metadata": {},
     "output_type": "execute_result"
    }
   ],
   "source": [
    "mp"
   ]
  },
  {
   "cell_type": "code",
   "execution_count": 10,
   "metadata": {},
   "outputs": [
    {
     "data": {
      "text/plain": [
       "A pdpipe pipeline:\n",
       "[ 0]  Drop columns Name, Quote\n",
       "[ 1]  Bin Savings by [1].\n",
       "[ 2]  Encode Savings_bin\n",
       "[ 3]  Scale columns Columns of dtypes <class 'numpy.number'>\n",
       "[ 4]  One-hot encode Country\n",
       "[ 5]  Drop columns Gender"
      ]
     },
     "execution_count": 10,
     "metadata": {},
     "output_type": "execute_result"
    }
   ],
   "source": [
    "mp.pipeline"
   ]
  },
  {
   "cell_type": "code",
   "execution_count": 11,
   "metadata": {},
   "outputs": [
    {
     "data": {
      "text/plain": [
       "LogisticRegression()"
      ]
     },
     "execution_count": 11,
     "metadata": {},
     "output_type": "execute_result"
    }
   ],
   "source": [
    "mp.estimator"
   ]
  },
  {
   "cell_type": "code",
   "execution_count": 12,
   "metadata": {},
   "outputs": [
    {
     "data": {
      "text/plain": [
       "<bound method PdPipelineAndSklearnEstimator.score of <PdPipeline -> LogisticRegression>>"
      ]
     },
     "execution_count": 12,
     "metadata": {},
     "output_type": "execute_result"
    }
   ],
   "source": [
    "mp.score"
   ]
  },
  {
   "cell_type": "code",
   "execution_count": 13,
   "metadata": {},
   "outputs": [
    {
     "data": {
      "text/plain": [
       "\u001b[0;31mSignature:\u001b[0m \u001b[0mmp\u001b[0m\u001b[0;34m.\u001b[0m\u001b[0mscore\u001b[0m\u001b[0;34m(\u001b[0m\u001b[0mX\u001b[0m\u001b[0;34m,\u001b[0m \u001b[0my\u001b[0m\u001b[0;34m=\u001b[0m\u001b[0;32mNone\u001b[0m\u001b[0;34m)\u001b[0m\u001b[0;34m\u001b[0m\u001b[0;34m\u001b[0m\u001b[0m\n",
       "\u001b[0;31mDocstring:\u001b[0m <no docstring>\n",
       "\u001b[0;31mFile:\u001b[0m      ~/clones/pdpipe/pdpipe/skintegrate.py\n",
       "\u001b[0;31mType:\u001b[0m      method\n"
      ]
     },
     "metadata": {},
     "output_type": "display_data"
    }
   ],
   "source": [
    "mp.score?"
   ]
  },
  {
   "cell_type": "code",
   "execution_count": 14,
   "metadata": {},
   "outputs": [
    {
     "data": {
      "text/html": [
       "<div>\n",
       "<style scoped>\n",
       "    .dataframe tbody tr th:only-of-type {\n",
       "        vertical-align: middle;\n",
       "    }\n",
       "\n",
       "    .dataframe tbody tr th {\n",
       "        vertical-align: top;\n",
       "    }\n",
       "\n",
       "    .dataframe thead th {\n",
       "        text-align: right;\n",
       "    }\n",
       "</style>\n",
       "<table border=\"1\" class=\"dataframe\">\n",
       "  <thead>\n",
       "    <tr style=\"text-align: right;\">\n",
       "      <th></th>\n",
       "      <th>Age</th>\n",
       "      <th>Smoking</th>\n",
       "      <th>Savings</th>\n",
       "      <th>Savings_bin</th>\n",
       "      <th>Country_Finland</th>\n",
       "      <th>Country_Germany</th>\n",
       "      <th>Country_Greece</th>\n",
       "      <th>Country_USA</th>\n",
       "    </tr>\n",
       "  </thead>\n",
       "  <tbody>\n",
       "    <tr>\n",
       "      <th>0</th>\n",
       "      <td>0.000000</td>\n",
       "      <td>True</td>\n",
       "      <td>0.000000</td>\n",
       "      <td>1.0</td>\n",
       "      <td>0</td>\n",
       "      <td>0</td>\n",
       "      <td>0</td>\n",
       "      <td>1</td>\n",
       "    </tr>\n",
       "    <tr>\n",
       "      <th>1</th>\n",
       "      <td>0.508772</td>\n",
       "      <td>False</td>\n",
       "      <td>0.001543</td>\n",
       "      <td>1.0</td>\n",
       "      <td>0</td>\n",
       "      <td>1</td>\n",
       "      <td>0</td>\n",
       "      <td>0</td>\n",
       "    </tr>\n",
       "    <tr>\n",
       "      <th>2</th>\n",
       "      <td>0.000000</td>\n",
       "      <td>True</td>\n",
       "      <td>0.001868</td>\n",
       "      <td>1.0</td>\n",
       "      <td>0</td>\n",
       "      <td>0</td>\n",
       "      <td>0</td>\n",
       "      <td>1</td>\n",
       "    </tr>\n",
       "    <tr>\n",
       "      <th>3</th>\n",
       "      <td>0.035088</td>\n",
       "      <td>False</td>\n",
       "      <td>0.018111</td>\n",
       "      <td>0.0</td>\n",
       "      <td>0</td>\n",
       "      <td>0</td>\n",
       "      <td>1</td>\n",
       "      <td>0</td>\n",
       "    </tr>\n",
       "    <tr>\n",
       "      <th>4</th>\n",
       "      <td>1.000000</td>\n",
       "      <td>False</td>\n",
       "      <td>0.813206</td>\n",
       "      <td>0.0</td>\n",
       "      <td>1</td>\n",
       "      <td>0</td>\n",
       "      <td>0</td>\n",
       "      <td>0</td>\n",
       "    </tr>\n",
       "    <tr>\n",
       "      <th>5</th>\n",
       "      <td>0.649123</td>\n",
       "      <td>True</td>\n",
       "      <td>0.014619</td>\n",
       "      <td>0.0</td>\n",
       "      <td>0</td>\n",
       "      <td>0</td>\n",
       "      <td>0</td>\n",
       "      <td>0</td>\n",
       "    </tr>\n",
       "    <tr>\n",
       "      <th>6</th>\n",
       "      <td>0.368421</td>\n",
       "      <td>True</td>\n",
       "      <td>0.008365</td>\n",
       "      <td>0.0</td>\n",
       "      <td>0</td>\n",
       "      <td>0</td>\n",
       "      <td>0</td>\n",
       "      <td>0</td>\n",
       "    </tr>\n",
       "    <tr>\n",
       "      <th>7</th>\n",
       "      <td>0.859649</td>\n",
       "      <td>True</td>\n",
       "      <td>0.057094</td>\n",
       "      <td>0.0</td>\n",
       "      <td>0</td>\n",
       "      <td>0</td>\n",
       "      <td>1</td>\n",
       "      <td>0</td>\n",
       "    </tr>\n",
       "    <tr>\n",
       "      <th>8</th>\n",
       "      <td>0.473684</td>\n",
       "      <td>False</td>\n",
       "      <td>0.001056</td>\n",
       "      <td>1.0</td>\n",
       "      <td>0</td>\n",
       "      <td>1</td>\n",
       "      <td>0</td>\n",
       "      <td>0</td>\n",
       "    </tr>\n",
       "    <tr>\n",
       "      <th>9</th>\n",
       "      <td>1.000000</td>\n",
       "      <td>False</td>\n",
       "      <td>1.000000</td>\n",
       "      <td>0.0</td>\n",
       "      <td>1</td>\n",
       "      <td>0</td>\n",
       "      <td>0</td>\n",
       "      <td>0</td>\n",
       "    </tr>\n",
       "  </tbody>\n",
       "</table>\n",
       "</div>"
      ],
      "text/plain": [
       "        Age  Smoking   Savings  Savings_bin  Country_Finland  Country_Germany  \\\n",
       "0  0.000000     True  0.000000          1.0                0                0   \n",
       "1  0.508772    False  0.001543          1.0                0                1   \n",
       "2  0.000000     True  0.001868          1.0                0                0   \n",
       "3  0.035088    False  0.018111          0.0                0                0   \n",
       "4  1.000000    False  0.813206          0.0                1                0   \n",
       "5  0.649123     True  0.014619          0.0                0                0   \n",
       "6  0.368421     True  0.008365          0.0                0                0   \n",
       "7  0.859649     True  0.057094          0.0                0                0   \n",
       "8  0.473684    False  0.001056          1.0                0                1   \n",
       "9  1.000000    False  1.000000          0.0                1                0   \n",
       "\n",
       "   Country_Greece  Country_USA  \n",
       "0               0            1  \n",
       "1               0            0  \n",
       "2               0            1  \n",
       "3               1            0  \n",
       "4               0            0  \n",
       "5               0            0  \n",
       "6               0            0  \n",
       "7               1            0  \n",
       "8               0            0  \n",
       "9               0            0  "
      ]
     },
     "execution_count": 14,
     "metadata": {},
     "output_type": "execute_result"
    }
   ],
   "source": [
    "mp.pipeline(df)"
   ]
  },
  {
   "cell_type": "code",
   "execution_count": 15,
   "metadata": {},
   "outputs": [
    {
     "data": {
      "text/html": [
       "<div>\n",
       "<style scoped>\n",
       "    .dataframe tbody tr th:only-of-type {\n",
       "        vertical-align: middle;\n",
       "    }\n",
       "\n",
       "    .dataframe tbody tr th {\n",
       "        vertical-align: top;\n",
       "    }\n",
       "\n",
       "    .dataframe thead th {\n",
       "        text-align: right;\n",
       "    }\n",
       "</style>\n",
       "<table border=\"1\" class=\"dataframe\">\n",
       "  <thead>\n",
       "    <tr style=\"text-align: right;\">\n",
       "      <th></th>\n",
       "      <th>Age</th>\n",
       "      <th>Gender</th>\n",
       "      <th>Smoking</th>\n",
       "      <th>Savings</th>\n",
       "      <th>Savings_bin</th>\n",
       "      <th>Country</th>\n",
       "    </tr>\n",
       "  </thead>\n",
       "  <tbody>\n",
       "    <tr>\n",
       "      <th>0</th>\n",
       "      <td>0.000000</td>\n",
       "      <td>M</td>\n",
       "      <td>True</td>\n",
       "      <td>0.000000</td>\n",
       "      <td>1.0</td>\n",
       "      <td>USA</td>\n",
       "    </tr>\n",
       "    <tr>\n",
       "      <th>1</th>\n",
       "      <td>0.508772</td>\n",
       "      <td>F</td>\n",
       "      <td>False</td>\n",
       "      <td>0.001543</td>\n",
       "      <td>1.0</td>\n",
       "      <td>Germany</td>\n",
       "    </tr>\n",
       "    <tr>\n",
       "      <th>2</th>\n",
       "      <td>0.000000</td>\n",
       "      <td>F</td>\n",
       "      <td>True</td>\n",
       "      <td>0.001868</td>\n",
       "      <td>1.0</td>\n",
       "      <td>USA</td>\n",
       "    </tr>\n",
       "    <tr>\n",
       "      <th>3</th>\n",
       "      <td>0.035088</td>\n",
       "      <td>M</td>\n",
       "      <td>False</td>\n",
       "      <td>0.018111</td>\n",
       "      <td>0.0</td>\n",
       "      <td>Greece</td>\n",
       "    </tr>\n",
       "    <tr>\n",
       "      <th>4</th>\n",
       "      <td>1.000000</td>\n",
       "      <td>M</td>\n",
       "      <td>False</td>\n",
       "      <td>0.813206</td>\n",
       "      <td>0.0</td>\n",
       "      <td>Finland</td>\n",
       "    </tr>\n",
       "    <tr>\n",
       "      <th>5</th>\n",
       "      <td>0.649123</td>\n",
       "      <td>M</td>\n",
       "      <td>True</td>\n",
       "      <td>0.014619</td>\n",
       "      <td>0.0</td>\n",
       "      <td>Denmark</td>\n",
       "    </tr>\n",
       "    <tr>\n",
       "      <th>6</th>\n",
       "      <td>0.368421</td>\n",
       "      <td>M</td>\n",
       "      <td>True</td>\n",
       "      <td>0.008365</td>\n",
       "      <td>0.0</td>\n",
       "      <td>Denmark</td>\n",
       "    </tr>\n",
       "    <tr>\n",
       "      <th>7</th>\n",
       "      <td>0.859649</td>\n",
       "      <td>F</td>\n",
       "      <td>True</td>\n",
       "      <td>0.057094</td>\n",
       "      <td>0.0</td>\n",
       "      <td>Greece</td>\n",
       "    </tr>\n",
       "    <tr>\n",
       "      <th>8</th>\n",
       "      <td>0.473684</td>\n",
       "      <td>M</td>\n",
       "      <td>False</td>\n",
       "      <td>0.001056</td>\n",
       "      <td>1.0</td>\n",
       "      <td>Germany</td>\n",
       "    </tr>\n",
       "    <tr>\n",
       "      <th>9</th>\n",
       "      <td>1.000000</td>\n",
       "      <td>F</td>\n",
       "      <td>False</td>\n",
       "      <td>1.000000</td>\n",
       "      <td>0.0</td>\n",
       "      <td>Finland</td>\n",
       "    </tr>\n",
       "  </tbody>\n",
       "</table>\n",
       "</div>"
      ],
      "text/plain": [
       "        Age Gender  Smoking   Savings  Savings_bin  Country\n",
       "0  0.000000      M     True  0.000000          1.0      USA\n",
       "1  0.508772      F    False  0.001543          1.0  Germany\n",
       "2  0.000000      F     True  0.001868          1.0      USA\n",
       "3  0.035088      M    False  0.018111          0.0   Greece\n",
       "4  1.000000      M    False  0.813206          0.0  Finland\n",
       "5  0.649123      M     True  0.014619          0.0  Denmark\n",
       "6  0.368421      M     True  0.008365          0.0  Denmark\n",
       "7  0.859649      F     True  0.057094          0.0   Greece\n",
       "8  0.473684      M    False  0.001056          1.0  Germany\n",
       "9  1.000000      F    False  1.000000          0.0  Finland"
      ]
     },
     "execution_count": 15,
     "metadata": {},
     "output_type": "execute_result"
    }
   ],
   "source": [
    "mp.pipeline[0:4](df)"
   ]
  },
  {
   "cell_type": "markdown",
   "metadata": {},
   "source": [
    "## Test our custom estimator checks out"
   ]
  },
  {
   "cell_type": "code",
   "execution_count": 16,
   "metadata": {},
   "outputs": [],
   "source": [
    "from sklearn.utils.estimator_checks import check_estimator"
   ]
  },
  {
   "cell_type": "markdown",
   "metadata": {},
   "source": [
    "Actually, it does not. :("
   ]
  },
  {
   "cell_type": "code",
   "execution_count": 17,
   "metadata": {},
   "outputs": [],
   "source": [
    "# check_estimator(mp)"
   ]
  },
  {
   "cell_type": "markdown",
   "metadata": {},
   "source": [
    "But it is going to work anyway!"
   ]
  },
  {
   "cell_type": "markdown",
   "metadata": {},
   "source": [
    "## X-y subsets"
   ]
  },
  {
   "cell_type": "code",
   "execution_count": 18,
   "metadata": {},
   "outputs": [],
   "source": [
    "x_lbls = ['Age', 'Gender', 'Savings', 'Country']"
   ]
  },
  {
   "cell_type": "code",
   "execution_count": 19,
   "metadata": {},
   "outputs": [],
   "source": [
    "all_x = df[x_lbls]\n",
    "all_y = df['Smoking']"
   ]
  },
  {
   "cell_type": "code",
   "execution_count": 20,
   "metadata": {},
   "outputs": [
    {
     "data": {
      "text/plain": [
       "(10, 4)"
      ]
     },
     "execution_count": 20,
     "metadata": {},
     "output_type": "execute_result"
    }
   ],
   "source": [
    "all_x.shape"
   ]
  },
  {
   "cell_type": "code",
   "execution_count": 21,
   "metadata": {},
   "outputs": [
    {
     "data": {
      "text/plain": [
       "(10,)"
      ]
     },
     "execution_count": 21,
     "metadata": {},
     "output_type": "execute_result"
    }
   ],
   "source": [
    "all_y.shape"
   ]
  },
  {
   "cell_type": "code",
   "execution_count": 22,
   "metadata": {},
   "outputs": [
    {
     "data": {
      "text/html": [
       "<div>\n",
       "<style scoped>\n",
       "    .dataframe tbody tr th:only-of-type {\n",
       "        vertical-align: middle;\n",
       "    }\n",
       "\n",
       "    .dataframe tbody tr th {\n",
       "        vertical-align: top;\n",
       "    }\n",
       "\n",
       "    .dataframe thead th {\n",
       "        text-align: right;\n",
       "    }\n",
       "</style>\n",
       "<table border=\"1\" class=\"dataframe\">\n",
       "  <thead>\n",
       "    <tr style=\"text-align: right;\">\n",
       "      <th></th>\n",
       "      <th>Age</th>\n",
       "      <th>Gender</th>\n",
       "      <th>Savings</th>\n",
       "      <th>Country</th>\n",
       "    </tr>\n",
       "  </thead>\n",
       "  <tbody>\n",
       "    <tr>\n",
       "      <th>0</th>\n",
       "      <td>23</td>\n",
       "      <td>M</td>\n",
       "      <td>0.07</td>\n",
       "      <td>USA</td>\n",
       "    </tr>\n",
       "    <tr>\n",
       "      <th>1</th>\n",
       "      <td>52</td>\n",
       "      <td>F</td>\n",
       "      <td>0.26</td>\n",
       "      <td>Germany</td>\n",
       "    </tr>\n",
       "    <tr>\n",
       "      <th>2</th>\n",
       "      <td>23</td>\n",
       "      <td>F</td>\n",
       "      <td>0.30</td>\n",
       "      <td>USA</td>\n",
       "    </tr>\n",
       "    <tr>\n",
       "      <th>3</th>\n",
       "      <td>25</td>\n",
       "      <td>M</td>\n",
       "      <td>2.30</td>\n",
       "      <td>Greece</td>\n",
       "    </tr>\n",
       "    <tr>\n",
       "      <th>4</th>\n",
       "      <td>80</td>\n",
       "      <td>M</td>\n",
       "      <td>100.20</td>\n",
       "      <td>Finland</td>\n",
       "    </tr>\n",
       "    <tr>\n",
       "      <th>5</th>\n",
       "      <td>60</td>\n",
       "      <td>M</td>\n",
       "      <td>1.87</td>\n",
       "      <td>Denmark</td>\n",
       "    </tr>\n",
       "    <tr>\n",
       "      <th>6</th>\n",
       "      <td>44</td>\n",
       "      <td>M</td>\n",
       "      <td>1.10</td>\n",
       "      <td>Denmark</td>\n",
       "    </tr>\n",
       "    <tr>\n",
       "      <th>7</th>\n",
       "      <td>72</td>\n",
       "      <td>F</td>\n",
       "      <td>7.10</td>\n",
       "      <td>Greece</td>\n",
       "    </tr>\n",
       "    <tr>\n",
       "      <th>8</th>\n",
       "      <td>50</td>\n",
       "      <td>M</td>\n",
       "      <td>0.20</td>\n",
       "      <td>Germany</td>\n",
       "    </tr>\n",
       "    <tr>\n",
       "      <th>9</th>\n",
       "      <td>80</td>\n",
       "      <td>F</td>\n",
       "      <td>123.20</td>\n",
       "      <td>Finland</td>\n",
       "    </tr>\n",
       "  </tbody>\n",
       "</table>\n",
       "</div>"
      ],
      "text/plain": [
       "   Age Gender  Savings  Country\n",
       "0   23      M     0.07      USA\n",
       "1   52      F     0.26  Germany\n",
       "2   23      F     0.30      USA\n",
       "3   25      M     2.30   Greece\n",
       "4   80      M   100.20  Finland\n",
       "5   60      M     1.87  Denmark\n",
       "6   44      M     1.10  Denmark\n",
       "7   72      F     7.10   Greece\n",
       "8   50      M     0.20  Germany\n",
       "9   80      F   123.20  Finland"
      ]
     },
     "execution_count": 22,
     "metadata": {},
     "output_type": "execute_result"
    }
   ],
   "source": [
    "all_x"
   ]
  },
  {
   "cell_type": "markdown",
   "metadata": {},
   "source": [
    "## Check inheritence of predict()"
   ]
  },
  {
   "cell_type": "code",
   "execution_count": 47,
   "metadata": {},
   "outputs": [
    {
     "data": {
      "text/plain": [
       "<PdPipeline -> LogisticRegression>"
      ]
     },
     "execution_count": 47,
     "metadata": {},
     "output_type": "execute_result"
    }
   ],
   "source": [
    "mp.fit(all_x, all_y)"
   ]
  },
  {
   "cell_type": "code",
   "execution_count": 48,
   "metadata": {},
   "outputs": [
    {
     "data": {
      "text/plain": [
       "array([ True, False,  True,  True, False,  True,  True,  True, False,\n",
       "       False])"
      ]
     },
     "execution_count": 48,
     "metadata": {},
     "output_type": "execute_result"
    }
   ],
   "source": [
    "mp.predict(all_x)"
   ]
  },
  {
   "cell_type": "code",
   "execution_count": 54,
   "metadata": {},
   "outputs": [
    {
     "data": {
      "text/plain": [
       "True"
      ]
     },
     "execution_count": 54,
     "metadata": {},
     "output_type": "execute_result"
    }
   ],
   "source": [
    "mp.predict(all_x).dtype == bool"
   ]
  },
  {
   "cell_type": "code",
   "execution_count": 49,
   "metadata": {},
   "outputs": [
    {
     "data": {
      "text/plain": [
       "array([[0.29801843, 0.70198157],\n",
       "       [0.63432307, 0.36567693],\n",
       "       [0.29822225, 0.70177775],\n",
       "       [0.43059313, 0.56940687],\n",
       "       [0.68689079, 0.31310921],\n",
       "       [0.42798384, 0.57201616],\n",
       "       [0.4167183 , 0.5832817 ],\n",
       "       [0.46679026, 0.53320974],\n",
       "       [0.63301878, 0.36698122],\n",
       "       [0.70744934, 0.29255066]])"
      ]
     },
     "execution_count": 49,
     "metadata": {},
     "output_type": "execute_result"
    }
   ],
   "source": [
    "mp.predict_proba(all_x)"
   ]
  },
  {
   "cell_type": "code",
   "execution_count": 55,
   "metadata": {},
   "outputs": [
    {
     "data": {
      "text/plain": [
       "True"
      ]
     },
     "execution_count": 55,
     "metadata": {},
     "output_type": "execute_result"
    }
   ],
   "source": [
    "mp.predict_proba(all_x).dtype == float"
   ]
  },
  {
   "cell_type": "code",
   "execution_count": 50,
   "metadata": {},
   "outputs": [
    {
     "data": {
      "text/plain": [
       "array([[-1.21059993, -0.35384813],\n",
       "       [-0.45519688, -1.00600504],\n",
       "       [-1.20991627, -0.35413852],\n",
       "       [-0.84259165, -0.56316003],\n",
       "       [-0.37557997, -1.16120322],\n",
       "       [-0.84866984, -0.55858804],\n",
       "       [-0.87534482, -0.53908502],\n",
       "       [-0.76187525, -0.62884042],\n",
       "       [-0.45725519, -1.00244461],\n",
       "       [-0.34608926, -1.22911742]])"
      ]
     },
     "execution_count": 50,
     "metadata": {},
     "output_type": "execute_result"
    }
   ],
   "source": [
    "mp.predict_log_proba(all_x)"
   ]
  },
  {
   "cell_type": "code",
   "execution_count": 51,
   "metadata": {},
   "outputs": [
    {
     "data": {
      "text/plain": [
       "array([ 0.8567518 , -0.55080816,  0.85577775,  0.27943162, -0.78562325,\n",
       "        0.29008181,  0.3362598 ,  0.13303483, -0.54518943, -0.88302815])"
      ]
     },
     "execution_count": 51,
     "metadata": {},
     "output_type": "execute_result"
    }
   ],
   "source": [
    "mp.decision_function(all_x)"
   ]
  },
  {
   "cell_type": "code",
   "execution_count": 52,
   "metadata": {},
   "outputs": [
    {
     "data": {
      "text/plain": [
       "0.9"
      ]
     },
     "execution_count": 52,
     "metadata": {},
     "output_type": "execute_result"
    }
   ],
   "source": [
    "mp.score(all_x, all_y)"
   ]
  },
  {
   "cell_type": "code",
   "execution_count": 56,
   "metadata": {},
   "outputs": [
    {
     "data": {
      "text/plain": [
       "array([False,  True])"
      ]
     },
     "execution_count": 56,
     "metadata": {},
     "output_type": "execute_result"
    }
   ],
   "source": [
    "mp.classes_"
   ]
  },
  {
   "cell_type": "markdown",
   "metadata": {},
   "source": [
    "## GridSearchCV"
   ]
  },
  {
   "cell_type": "code",
   "execution_count": 23,
   "metadata": {
    "tags": []
   },
   "outputs": [],
   "source": [
    "from sklearn.model_selection import GridSearchCV"
   ]
  },
  {
   "cell_type": "code",
   "execution_count": 24,
   "metadata": {
    "tags": []
   },
   "outputs": [],
   "source": [
    "gcv = GridSearchCV(\n",
    "    estimator=mp,\n",
    "    param_grid={\n",
    "        'savings_max_val': [99, 101],\n",
    "        'scale_numeric': [True, False],\n",
    "        'drop_gender': [True, False],\n",
    "        'ohencode_country': [True, False],\n",
    "    },\n",
    "    cv=3,\n",
    ")"
   ]
  },
  {
   "cell_type": "code",
   "execution_count": 25,
   "metadata": {},
   "outputs": [
    {
     "data": {
      "text/plain": [
       "GridSearchCV(cv=3,\n",
       "             ('estimator', <PdPipeline -> LogisticRegression>),\n",
       "             param_grid={'drop_gender': [True, False],\n",
       "                         'ohencode_country': [True, False],\n",
       "                         'savings_max_val': [99, 101],\n",
       "                         'scale_numeric': [True, False]})"
      ]
     },
     "execution_count": 25,
     "metadata": {},
     "output_type": "execute_result"
    }
   ],
   "source": [
    "gcv"
   ]
  },
  {
   "cell_type": "code",
   "execution_count": 29,
   "metadata": {},
   "outputs": [],
   "source": [
    "from sklearn.utils.validation import check_is_fitted\n",
    "from sklearn.exceptions import NotFittedError"
   ]
  },
  {
   "cell_type": "code",
   "execution_count": 30,
   "metadata": {},
   "outputs": [
    {
     "name": "stdout",
     "output_type": "stream",
     "text": [
      "Not fitted - as expected\n"
     ]
    }
   ],
   "source": [
    "try:\n",
    "    check_is_fitted(gcv)\n",
    "except NotFittedError:\n",
    "    print(\"Not fitted - as expected\")"
   ]
  },
  {
   "cell_type": "code",
   "execution_count": 31,
   "metadata": {},
   "outputs": [
    {
     "data": {
      "text/plain": [
       "GridSearchCV(cv=3,\n",
       "             ('estimator', <PdPipeline -> LogisticRegression>),\n",
       "             param_grid={'drop_gender': [True, False],\n",
       "                         'ohencode_country': [True, False],\n",
       "                         'savings_max_val': [99, 101],\n",
       "                         'scale_numeric': [True, False]})"
      ]
     },
     "execution_count": 31,
     "metadata": {},
     "output_type": "execute_result"
    }
   ],
   "source": [
    "gcv.fit(all_x, all_y)"
   ]
  },
  {
   "cell_type": "code",
   "execution_count": 32,
   "metadata": {},
   "outputs": [],
   "source": [
    "assert check_is_fitted(gcv) is None"
   ]
  },
  {
   "cell_type": "code",
   "execution_count": 33,
   "metadata": {},
   "outputs": [
    {
     "data": {
      "text/plain": [
       "GridSearchCV(cv=3,\n",
       "             ('estimator', <PdPipeline -> LogisticRegression>),\n",
       "             param_grid={'drop_gender': [True, False],\n",
       "                         'ohencode_country': [True, False],\n",
       "                         'savings_max_val': [99, 101],\n",
       "                         'scale_numeric': [True, False]})"
      ]
     },
     "execution_count": 33,
     "metadata": {},
     "output_type": "execute_result"
    }
   ],
   "source": [
    "gcv"
   ]
  },
  {
   "cell_type": "code",
   "execution_count": 34,
   "metadata": {
    "collapsed": true,
    "jupyter": {
     "outputs_hidden": true
    },
    "tags": []
   },
   "outputs": [
    {
     "data": {
      "text/plain": [
       "{'mean_fit_time': array([0.01791286, 0.01304499, 0.01270191, 0.01155297, 0.01158492,\n",
       "        0.01058435, 0.01024111, 0.0108943 , 0.01247104, 0.01349203,\n",
       "        0.01421404, 0.01486699, 0.01409276, 0.01352183, 0.01247597,\n",
       "        0.01110601]),\n",
       " 'std_fit_time': array([3.00703067e-03, 7.16491515e-04, 9.25654749e-04, 3.68055811e-04,\n",
       "        5.83948457e-04, 3.18579386e-04, 7.68315560e-05, 3.45401300e-04,\n",
       "        1.52708786e-03, 5.40897246e-04, 5.76591497e-04, 6.49206519e-04,\n",
       "        1.17025237e-03, 2.63524214e-04, 9.32107022e-04, 1.92380699e-04]),\n",
       " 'mean_score_time': array([0.01484005, 0.01101907, 0.01084042, 0.00916457, 0.00932701,\n",
       "        0.00841204, 0.0082562 , 0.00841435, 0.01073488, 0.01156131,\n",
       "        0.01045299, 0.01145879, 0.0112594 , 0.01143893, 0.00979233,\n",
       "        0.00911276]),\n",
       " 'std_score_time': array([0.00340803, 0.00101021, 0.00116779, 0.00023592, 0.0005183 ,\n",
       "        0.00020961, 0.00036267, 0.000228  , 0.00192031, 0.00026268,\n",
       "        0.00047143, 0.00081478, 0.00056503, 0.00054931, 0.00074262,\n",
       "        0.00030309]),\n",
       " 'param_drop_gender': masked_array(data=[True, True, True, True, True, True, True, True, False,\n",
       "                    False, False, False, False, False, False, False],\n",
       "              mask=[False, False, False, False, False, False, False, False,\n",
       "                    False, False, False, False, False, False, False, False],\n",
       "        fill_value='?',\n",
       "             dtype=object),\n",
       " 'param_ohencode_country': masked_array(data=[True, True, True, True, False, False, False, False,\n",
       "                    True, True, True, True, False, False, False, False],\n",
       "              mask=[False, False, False, False, False, False, False, False,\n",
       "                    False, False, False, False, False, False, False, False],\n",
       "        fill_value='?',\n",
       "             dtype=object),\n",
       " 'param_savings_max_val': masked_array(data=[99, 99, 101, 101, 99, 99, 101, 101, 99, 99, 101, 101,\n",
       "                    99, 99, 101, 101],\n",
       "              mask=[False, False, False, False, False, False, False, False,\n",
       "                    False, False, False, False, False, False, False, False],\n",
       "        fill_value='?',\n",
       "             dtype=object),\n",
       " 'param_scale_numeric': masked_array(data=[True, False, True, False, True, False, True, False,\n",
       "                    True, False, True, False, True, False, True, False],\n",
       "              mask=[False, False, False, False, False, False, False, False,\n",
       "                    False, False, False, False, False, False, False, False],\n",
       "        fill_value='?',\n",
       "             dtype=object),\n",
       " 'params': [{'drop_gender': True,\n",
       "   'ohencode_country': True,\n",
       "   'savings_max_val': 99,\n",
       "   'scale_numeric': True},\n",
       "  {'drop_gender': True,\n",
       "   'ohencode_country': True,\n",
       "   'savings_max_val': 99,\n",
       "   'scale_numeric': False},\n",
       "  {'drop_gender': True,\n",
       "   'ohencode_country': True,\n",
       "   'savings_max_val': 101,\n",
       "   'scale_numeric': True},\n",
       "  {'drop_gender': True,\n",
       "   'ohencode_country': True,\n",
       "   'savings_max_val': 101,\n",
       "   'scale_numeric': False},\n",
       "  {'drop_gender': True,\n",
       "   'ohencode_country': False,\n",
       "   'savings_max_val': 99,\n",
       "   'scale_numeric': True},\n",
       "  {'drop_gender': True,\n",
       "   'ohencode_country': False,\n",
       "   'savings_max_val': 99,\n",
       "   'scale_numeric': False},\n",
       "  {'drop_gender': True,\n",
       "   'ohencode_country': False,\n",
       "   'savings_max_val': 101,\n",
       "   'scale_numeric': True},\n",
       "  {'drop_gender': True,\n",
       "   'ohencode_country': False,\n",
       "   'savings_max_val': 101,\n",
       "   'scale_numeric': False},\n",
       "  {'drop_gender': False,\n",
       "   'ohencode_country': True,\n",
       "   'savings_max_val': 99,\n",
       "   'scale_numeric': True},\n",
       "  {'drop_gender': False,\n",
       "   'ohencode_country': True,\n",
       "   'savings_max_val': 99,\n",
       "   'scale_numeric': False},\n",
       "  {'drop_gender': False,\n",
       "   'ohencode_country': True,\n",
       "   'savings_max_val': 101,\n",
       "   'scale_numeric': True},\n",
       "  {'drop_gender': False,\n",
       "   'ohencode_country': True,\n",
       "   'savings_max_val': 101,\n",
       "   'scale_numeric': False},\n",
       "  {'drop_gender': False,\n",
       "   'ohencode_country': False,\n",
       "   'savings_max_val': 99,\n",
       "   'scale_numeric': True},\n",
       "  {'drop_gender': False,\n",
       "   'ohencode_country': False,\n",
       "   'savings_max_val': 99,\n",
       "   'scale_numeric': False},\n",
       "  {'drop_gender': False,\n",
       "   'ohencode_country': False,\n",
       "   'savings_max_val': 101,\n",
       "   'scale_numeric': True},\n",
       "  {'drop_gender': False,\n",
       "   'ohencode_country': False,\n",
       "   'savings_max_val': 101,\n",
       "   'scale_numeric': False}],\n",
       " 'split0_test_score': array([0.75, 0.75, 0.75, 0.75, 0.75, 0.75, 0.75, 0.75, 0.75, 0.75, 0.75,\n",
       "        0.75, 0.75, 0.75, 0.75, 0.75]),\n",
       " 'split1_test_score': array([0.33333333, 0.33333333, 0.33333333, 0.33333333, 0.33333333,\n",
       "        0.33333333, 0.33333333, 0.33333333, 0.33333333, 0.33333333,\n",
       "        0.33333333, 0.33333333, 0.33333333, 0.33333333, 0.33333333,\n",
       "        0.33333333]),\n",
       " 'split2_test_score': array([0.66666667, 0.66666667, 0.66666667, 0.66666667, 0.66666667,\n",
       "        0.66666667, 0.66666667, 0.66666667, 0.66666667, 0.66666667,\n",
       "        0.66666667, 0.66666667, 0.66666667, 0.66666667, 0.66666667,\n",
       "        0.66666667]),\n",
       " 'mean_test_score': array([0.58333333, 0.58333333, 0.58333333, 0.58333333, 0.58333333,\n",
       "        0.58333333, 0.58333333, 0.58333333, 0.58333333, 0.58333333,\n",
       "        0.58333333, 0.58333333, 0.58333333, 0.58333333, 0.58333333,\n",
       "        0.58333333]),\n",
       " 'std_test_score': array([0.18002057, 0.18002057, 0.18002057, 0.18002057, 0.18002057,\n",
       "        0.18002057, 0.18002057, 0.18002057, 0.18002057, 0.18002057,\n",
       "        0.18002057, 0.18002057, 0.18002057, 0.18002057, 0.18002057,\n",
       "        0.18002057]),\n",
       " 'rank_test_score': array([1, 1, 1, 1, 1, 1, 1, 1, 1, 1, 1, 1, 1, 1, 1, 1], dtype=int32)}"
      ]
     },
     "execution_count": 34,
     "metadata": {},
     "output_type": "execute_result"
    }
   ],
   "source": [
    "gcv.cv_results_"
   ]
  },
  {
   "cell_type": "code",
   "execution_count": 35,
   "metadata": {},
   "outputs": [
    {
     "data": {
      "text/plain": [
       "<PdPipeline -> LogisticRegression>"
      ]
     },
     "execution_count": 35,
     "metadata": {},
     "output_type": "execute_result"
    }
   ],
   "source": [
    "gcv.best_estimator_"
   ]
  },
  {
   "cell_type": "code",
   "execution_count": 36,
   "metadata": {},
   "outputs": [
    {
     "data": {
      "text/plain": [
       "0.5833333333333334"
      ]
     },
     "execution_count": 36,
     "metadata": {},
     "output_type": "execute_result"
    }
   ],
   "source": [
    "gcv.best_score_"
   ]
  },
  {
   "cell_type": "code",
   "execution_count": 37,
   "metadata": {},
   "outputs": [
    {
     "data": {
      "text/plain": [
       "{'drop_gender': True,\n",
       " 'ohencode_country': True,\n",
       " 'savings_max_val': 99,\n",
       " 'scale_numeric': True}"
      ]
     },
     "execution_count": 37,
     "metadata": {},
     "output_type": "execute_result"
    }
   ],
   "source": [
    "gcv.best_params_"
   ]
  },
  {
   "cell_type": "markdown",
   "metadata": {},
   "source": [
    "## Working with custom scoring functions"
   ]
  },
  {
   "cell_type": "code",
   "execution_count": 38,
   "metadata": {},
   "outputs": [],
   "source": [
    "from sklearn.metrics import fbeta_score, make_scorer\n",
    "ftwo_scorer = make_scorer(fbeta_score, beta=2)"
   ]
  },
  {
   "cell_type": "code",
   "execution_count": 39,
   "metadata": {},
   "outputs": [],
   "source": [
    "from pdpipe.skintegrate import pdpipe_scorer_from_sklearn_scorer"
   ]
  },
  {
   "cell_type": "code",
   "execution_count": 40,
   "metadata": {},
   "outputs": [],
   "source": [
    "my_scorer = pdpipe_scorer_from_sklearn_scorer(ftwo_scorer)"
   ]
  },
  {
   "cell_type": "code",
   "execution_count": 41,
   "metadata": {},
   "outputs": [
    {
     "data": {
      "text/plain": [
       "<PdPipeScorer: make_scorer(fbeta_score, beta=2)>"
      ]
     },
     "execution_count": 41,
     "metadata": {},
     "output_type": "execute_result"
    }
   ],
   "source": [
    "my_scorer"
   ]
  },
  {
   "cell_type": "code",
   "execution_count": 42,
   "metadata": {},
   "outputs": [],
   "source": [
    "gcv = GridSearchCV(\n",
    "    estimator=mp,\n",
    "    param_grid={\n",
    "        'savings_max_val': [99, 101],\n",
    "        'scale_numeric': [True, False],\n",
    "        'drop_gender': [True, False],\n",
    "        'ohencode_country': [True, False],\n",
    "    },\n",
    "    cv=3,\n",
    "    scoring=my_scorer,\n",
    ")"
   ]
  },
  {
   "cell_type": "code",
   "execution_count": 43,
   "metadata": {},
   "outputs": [
    {
     "data": {
      "text/plain": [
       "GridSearchCV(cv=3,\n",
       "             ('estimator', <PdPipeline -> LogisticRegression>),\n",
       "             param_grid={'drop_gender': [True, False],\n",
       "                         'ohencode_country': [True, False],\n",
       "                         'savings_max_val': [99, 101],\n",
       "                         'scale_numeric': [True, False]},\n",
       "             scoring=<PdPipeScorer: make_scorer(fbeta_score, beta=2)>)"
      ]
     },
     "execution_count": 43,
     "metadata": {},
     "output_type": "execute_result"
    }
   ],
   "source": [
    "gcv.fit(all_x, all_y)"
   ]
  },
  {
   "cell_type": "code",
   "execution_count": 44,
   "metadata": {},
   "outputs": [
    {
     "data": {
      "text/plain": [
       "0.30303030303030304"
      ]
     },
     "execution_count": 44,
     "metadata": {},
     "output_type": "execute_result"
    }
   ],
   "source": [
    "gcv.best_score_"
   ]
  },
  {
   "cell_type": "code",
   "execution_count": 46,
   "metadata": {},
   "outputs": [
    {
     "data": {
      "text/plain": [
       "{'drop_gender': True,\n",
       " 'ohencode_country': True,\n",
       " 'savings_max_val': 99,\n",
       " 'scale_numeric': True}"
      ]
     },
     "execution_count": 46,
     "metadata": {},
     "output_type": "execute_result"
    }
   ],
   "source": [
    "gcv.best_params_"
   ]
  },
  {
   "cell_type": "code",
   "execution_count": 45,
   "metadata": {},
   "outputs": [
    {
     "data": {
      "text/plain": [
       "{'mean_fit_time': array([0.01721199, 0.01194263, 0.01230669, 0.01273394, 0.01404134,\n",
       "        0.01371368, 0.01329859, 0.01119653, 0.01308044, 0.01597126,\n",
       "        0.01527802, 0.01333801, 0.01295455, 0.0133361 , 0.0152994 ,\n",
       "        0.01477504]),\n",
       " 'std_fit_time': array([0.00383527, 0.00059531, 0.00092171, 0.00038528, 0.00077348,\n",
       "        0.00052551, 0.00165672, 0.00051181, 0.00056855, 0.0021009 ,\n",
       "        0.00034942, 0.00079891, 0.00089399, 0.00016949, 0.00051471,\n",
       "        0.00028866]),\n",
       " 'mean_score_time': array([0.011856  , 0.01003202, 0.00967741, 0.01085448, 0.01215593,\n",
       "        0.01150568, 0.01012762, 0.009173  , 0.0100011 , 0.01422445,\n",
       "        0.01121553, 0.01066399, 0.01144632, 0.01270469, 0.01220814,\n",
       "        0.01292666]),\n",
       " 'std_score_time': array([0.00103129, 0.00091208, 0.00061078, 0.00102057, 0.00046995,\n",
       "        0.00052332, 0.00088413, 0.00060296, 0.00057559, 0.00236275,\n",
       "        0.00095284, 0.00075483, 0.0002575 , 0.00114321, 0.00084593,\n",
       "        0.00201821]),\n",
       " 'param_drop_gender': masked_array(data=[True, True, True, True, True, True, True, True, False,\n",
       "                    False, False, False, False, False, False, False],\n",
       "              mask=[False, False, False, False, False, False, False, False,\n",
       "                    False, False, False, False, False, False, False, False],\n",
       "        fill_value='?',\n",
       "             dtype=object),\n",
       " 'param_ohencode_country': masked_array(data=[True, True, True, True, False, False, False, False,\n",
       "                    True, True, True, True, False, False, False, False],\n",
       "              mask=[False, False, False, False, False, False, False, False,\n",
       "                    False, False, False, False, False, False, False, False],\n",
       "        fill_value='?',\n",
       "             dtype=object),\n",
       " 'param_savings_max_val': masked_array(data=[99, 99, 101, 101, 99, 99, 101, 101, 99, 99, 101, 101,\n",
       "                    99, 99, 101, 101],\n",
       "              mask=[False, False, False, False, False, False, False, False,\n",
       "                    False, False, False, False, False, False, False, False],\n",
       "        fill_value='?',\n",
       "             dtype=object),\n",
       " 'param_scale_numeric': masked_array(data=[True, False, True, False, True, False, True, False,\n",
       "                    True, False, True, False, True, False, True, False],\n",
       "              mask=[False, False, False, False, False, False, False, False,\n",
       "                    False, False, False, False, False, False, False, False],\n",
       "        fill_value='?',\n",
       "             dtype=object),\n",
       " 'params': [{'drop_gender': True,\n",
       "   'ohencode_country': True,\n",
       "   'savings_max_val': 99,\n",
       "   'scale_numeric': True},\n",
       "  {'drop_gender': True,\n",
       "   'ohencode_country': True,\n",
       "   'savings_max_val': 99,\n",
       "   'scale_numeric': False},\n",
       "  {'drop_gender': True,\n",
       "   'ohencode_country': True,\n",
       "   'savings_max_val': 101,\n",
       "   'scale_numeric': True},\n",
       "  {'drop_gender': True,\n",
       "   'ohencode_country': True,\n",
       "   'savings_max_val': 101,\n",
       "   'scale_numeric': False},\n",
       "  {'drop_gender': True,\n",
       "   'ohencode_country': False,\n",
       "   'savings_max_val': 99,\n",
       "   'scale_numeric': True},\n",
       "  {'drop_gender': True,\n",
       "   'ohencode_country': False,\n",
       "   'savings_max_val': 99,\n",
       "   'scale_numeric': False},\n",
       "  {'drop_gender': True,\n",
       "   'ohencode_country': False,\n",
       "   'savings_max_val': 101,\n",
       "   'scale_numeric': True},\n",
       "  {'drop_gender': True,\n",
       "   'ohencode_country': False,\n",
       "   'savings_max_val': 101,\n",
       "   'scale_numeric': False},\n",
       "  {'drop_gender': False,\n",
       "   'ohencode_country': True,\n",
       "   'savings_max_val': 99,\n",
       "   'scale_numeric': True},\n",
       "  {'drop_gender': False,\n",
       "   'ohencode_country': True,\n",
       "   'savings_max_val': 99,\n",
       "   'scale_numeric': False},\n",
       "  {'drop_gender': False,\n",
       "   'ohencode_country': True,\n",
       "   'savings_max_val': 101,\n",
       "   'scale_numeric': True},\n",
       "  {'drop_gender': False,\n",
       "   'ohencode_country': True,\n",
       "   'savings_max_val': 101,\n",
       "   'scale_numeric': False},\n",
       "  {'drop_gender': False,\n",
       "   'ohencode_country': False,\n",
       "   'savings_max_val': 99,\n",
       "   'scale_numeric': True},\n",
       "  {'drop_gender': False,\n",
       "   'ohencode_country': False,\n",
       "   'savings_max_val': 99,\n",
       "   'scale_numeric': False},\n",
       "  {'drop_gender': False,\n",
       "   'ohencode_country': False,\n",
       "   'savings_max_val': 101,\n",
       "   'scale_numeric': True},\n",
       "  {'drop_gender': False,\n",
       "   'ohencode_country': False,\n",
       "   'savings_max_val': 101,\n",
       "   'scale_numeric': False}],\n",
       " 'split0_test_score': array([0.90909091, 0.90909091, 0.90909091, 0.90909091, 0.90909091,\n",
       "        0.90909091, 0.90909091, 0.90909091, 0.90909091, 0.90909091,\n",
       "        0.90909091, 0.90909091, 0.90909091, 0.90909091, 0.90909091,\n",
       "        0.90909091]),\n",
       " 'split1_test_score': array([0., 0., 0., 0., 0., 0., 0., 0., 0., 0., 0., 0., 0., 0., 0., 0.]),\n",
       " 'split2_test_score': array([0., 0., 0., 0., 0., 0., 0., 0., 0., 0., 0., 0., 0., 0., 0., 0.]),\n",
       " 'mean_test_score': array([0.3030303, 0.3030303, 0.3030303, 0.3030303, 0.3030303, 0.3030303,\n",
       "        0.3030303, 0.3030303, 0.3030303, 0.3030303, 0.3030303, 0.3030303,\n",
       "        0.3030303, 0.3030303, 0.3030303, 0.3030303]),\n",
       " 'std_test_score': array([0.42854956, 0.42854956, 0.42854956, 0.42854956, 0.42854956,\n",
       "        0.42854956, 0.42854956, 0.42854956, 0.42854956, 0.42854956,\n",
       "        0.42854956, 0.42854956, 0.42854956, 0.42854956, 0.42854956,\n",
       "        0.42854956]),\n",
       " 'rank_test_score': array([1, 1, 1, 1, 1, 1, 1, 1, 1, 1, 1, 1, 1, 1, 1, 1], dtype=int32)}"
      ]
     },
     "execution_count": 45,
     "metadata": {},
     "output_type": "execute_result"
    }
   ],
   "source": [
    "gcv.cv_results_"
   ]
  },
  {
   "cell_type": "code",
   "execution_count": null,
   "metadata": {},
   "outputs": [],
   "source": []
  }
 ],
 "metadata": {
  "kernelspec": {
   "display_name": "py3",
   "language": "python",
   "name": "py3"
  },
  "language_info": {
   "codemirror_mode": {
    "name": "ipython",
    "version": 3
   },
   "file_extension": ".py",
   "mimetype": "text/x-python",
   "name": "python",
   "nbconvert_exporter": "python",
   "pygments_lexer": "ipython3",
   "version": "3.8.5"
  }
 },
 "nbformat": 4,
 "nbformat_minor": 4
}
