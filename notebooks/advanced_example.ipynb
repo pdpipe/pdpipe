{
 "cells": [
  {
   "cell_type": "markdown",
   "metadata": {},
   "source": [
    "# pdpipe - Advanced usage example"
   ]
  },
  {
   "cell_type": "markdown",
   "metadata": {},
   "source": [
    "# Pipeline + Model definition"
   ]
  },
  {
   "cell_type": "code",
   "execution_count": 1,
   "metadata": {},
   "outputs": [
    {
     "name": "stderr",
     "output_type": "stream",
     "text": [
      "/Users/shaypalachy/clones/pdpipe/pdpipe/col_generation.py:12: TqdmExperimentalWarning: Using `tqdm.autonotebook.tqdm` in notebook mode. Use `tqdm.tqdm` instead to force console mode (e.g. in jupyter console)\n",
      "  from tqdm.autonotebook import tqdm\n"
     ]
    }
   ],
   "source": [
    "from typing import Optional\n",
    "import pdpipe as pdp\n",
    "from pdpipe import df\n",
    "from sklearn.linear_model import LogisticRegression\n",
    "from pdpipe.skintegrate import PdPipelineAndSklearnEstimator\n",
    "\n",
    "class MyPipelineAndModel(PdPipelineAndSklearnEstimator):\n",
    "    \n",
    "    def __init__(\n",
    "        self,\n",
    "        savings_max_val: Optional[int] = 100,\n",
    "        drop_gender: Optional[bool] = False,\n",
    "        standardize: Optional[bool] = False,\n",
    "        ohencode_country: Optional[bool] = True,\n",
    "        savings_bin_val: Optional[int] = None,\n",
    "        pca_threshold: Optional[int] = 20,\n",
    "        fit_intercept: Optional[bool] = True,\n",
    "    ):\n",
    "        # save pipeline parameters\n",
    "        self.savings_max_val = savings_max_val\n",
    "        self.drop_gender = drop_gender\n",
    "        self.standardize = standardize\n",
    "        self.ohencode_country = ohencode_country\n",
    "        self.savings_bin_val = savings_bin_val\n",
    "        self.pca_threshold = pca_threshold\n",
    "        self.fit_intercept = fit_intercept\n",
    "        # init helper lists\n",
    "        cols_to_drop = ['Bearded']\n",
    "        cols_to_encode = []\n",
    "        # start with a prefix of non-optional stages\n",
    "        stages = [\n",
    "            # standard pipeline stages\n",
    "            pdp.ColDrop(columns=pdp.cq.WithAtLeastMissingValueRate(0.2)),\n",
    "            pdp.DropLabelsByValues(not_in_set=['Smoking', 'Non-Smoking']),\n",
    "            pdp.EncodeLabel(),\n",
    "            pdp.ColDrop(['Name'], errors='ignore'),\n",
    "            # using pdpipe fly-handles 🚀\n",
    "            df.set_index(keys='id'),\n",
    "            pdp.drop_rows_where['Savings'] > savings_max_val,\n",
    "            df['Viking'] << (df['Country'].isin(['Denmark', 'Finland']) & ~df['Bearded']),\n",
    "            df['YearlyGrands'] << (df['Savings'] * 1000) / df['Age']\n",
    "        ]\n",
    "        # a few parameter-dependent pipeline stages\n",
    "        if savings_bin_val:\n",
    "            stages.append(pdp.Bin({'Savings': [savings_bin_val]}, drop=False))\n",
    "            cols_to_encode.append('Savings_bin')\n",
    "        if drop_gender:\n",
    "            cols_to_drop.append('Gender')\n",
    "        else:\n",
    "            cols_to_encode.append('Gender')\n",
    "        if ohencode_country:\n",
    "            stages.append(pdp.OneHotEncode('Country'))\n",
    "        else:\n",
    "            cols_to_drop.append('Country')\n",
    "        # processing the text column:\n",
    "        # 1. we do this before standardization so tf-idf\n",
    "        # representation is also standardized\n",
    "        # 2. we do this after everything else, so all tf-idf\n",
    "        # columns are last in column order (for ease of presentation)\n",
    "        stages.extend([       \n",
    "            pdp.TokenizeText('Quote'),\n",
    "            pdp.SnowballStem('EnglishStemmer', columns=['Quote']),\n",
    "            pdp.RemoveStopwords('English', 'Quote'),\n",
    "            pdp.TfidfVectorizeTokenLists('Quote', hierarchical_labels=True),\n",
    "        ])\n",
    "        # PCA all tf-idf columns if there are too many of them\n",
    "        stages.append(\n",
    "            pdp.Decompose(\n",
    "                transformer='PCA',\n",
    "                columns=pdp.cq.StartsWith('Quote'),\n",
    "                prec=pdp.cond.HasAtLeastNQualifyingColumns(\n",
    "                    n=pca_threshold,\n",
    "                    qualifier=pdp.cq.StartsWith('Quote'),\n",
    "                ),\n",
    "                exraise=False,\n",
    "            )\n",
    "        )\n",
    "        # more parameter-dependent pipeline stages\n",
    "        if len(cols_to_encode) > 0:\n",
    "            stages.append(pdp.Encode(cols_to_encode))\n",
    "        if standardize:\n",
    "            stages.append(pdp.Scale('StandardScaler'))\n",
    "        # the suffix of non-optional pipeline stages\n",
    "        stages.extend([\n",
    "            pdp.ColDrop(cols_to_drop, errors='ignore'),\n",
    "            pdp.Schematize(),\n",
    "            pdp.ConditionValidator([\n",
    "                pdp.cond.HasAtMostNQualifyingColumns(\n",
    "                    n=150,\n",
    "                    qualifier=pdp.cq.AllColumns(fittable=False),\n",
    "                ),\n",
    "                pdp.cond.HasNoMissingValues(),\n",
    "            ]),\n",
    "        ])\n",
    "        pipeline = pdp.PdPipeline(stages)\n",
    "        model = LogisticRegression(fit_intercept=fit_intercept)\n",
    "        super().__init__(pipeline=pipeline, estimator=model)"
   ]
  },
  {
   "cell_type": "code",
   "execution_count": 2,
   "metadata": {},
   "outputs": [],
   "source": [
    "mp = MyPipelineAndModel(\n",
    "    savings_max_val=101,\n",
    "    drop_gender=False,\n",
    "    standardize=True,\n",
    "    ohencode_country=True,\n",
    "    savings_bin_val=1,\n",
    "    pca_threshold=25,\n",
    "    fit_intercept=True,\n",
    ")"
   ]
  },
  {
   "cell_type": "code",
   "execution_count": 3,
   "metadata": {},
   "outputs": [
    {
     "data": {
      "text/plain": [
       "<PdPipeline -> LogisticRegression>"
      ]
     },
     "execution_count": 3,
     "metadata": {},
     "output_type": "execute_result"
    }
   ],
   "source": [
    "mp"
   ]
  },
  {
   "cell_type": "code",
   "execution_count": 4,
   "metadata": {},
   "outputs": [
    {
     "data": {
      "text/plain": [
       "A pdpipe pipeline:\n",
       "[ 0]  Drop columns Columns with at least 0.2 missing value rate\n",
       "[ 1]  Drop labels by values\n",
       "[ 2]  Encode label values\n",
       "[ 3]  Drop columns 'Name'\n",
       "[ 4]  Apply dataframe method set_index with kwargs {'keys': 'id'}\n",
       "[ 5]  Drop rows by qualifier <RowQualifier: Qualify rows with X[Savings] >\n",
       "      101>\n",
       "[ 6]  Assign column Viking with df[Country].isin(['Denmark', 'Finland']) &\n",
       "      ~df[Bearded]\n",
       "[ 7]  Assign column YearlyGrands with df[Savings] * 1000 / df[Age]\n",
       "[ 8]  Bin Savings by [1].\n",
       "[ 9]  One-hot encode 'Country'\n",
       "[10]  Tokenize Quote\n",
       "[11]  Stemming tokens in Quote...\n",
       "[12]  Remove stopwords from Quote\n",
       "[13]  Count-vectorizing column Quote.\n",
       "[14]  Decompose columns Columns that start with Quote with PCA\n",
       "[15]  Encode 'Savings_bin', 'Gender'\n",
       "[16]  Scale columns Columns of dtypes <class 'numpy.number'>\n",
       "[17]  Drop columns 'Bearded'\n",
       "[18]  Transform input dataframes to the following schema: <Learnable Schema>\n",
       "[19]  Validates conditions"
      ]
     },
     "execution_count": 4,
     "metadata": {},
     "output_type": "execute_result"
    }
   ],
   "source": [
    "mp.pipeline"
   ]
  },
  {
   "cell_type": "code",
   "execution_count": 5,
   "metadata": {},
   "outputs": [
    {
     "data": {
      "text/plain": [
       "LogisticRegression()"
      ]
     },
     "execution_count": 5,
     "metadata": {},
     "output_type": "execute_result"
    }
   ],
   "source": [
    "mp.estimator"
   ]
  },
  {
   "cell_type": "markdown",
   "metadata": {},
   "source": [
    "## Train-test for the pipeline"
   ]
  },
  {
   "cell_type": "code",
   "execution_count": 6,
   "metadata": {},
   "outputs": [],
   "source": [
    "LBL_COL = 'Smoking'"
   ]
  },
  {
   "cell_type": "code",
   "execution_count": 7,
   "metadata": {},
   "outputs": [],
   "source": [
    "import pandas as pd"
   ]
  },
  {
   "cell_type": "code",
   "execution_count": 8,
   "metadata": {},
   "outputs": [],
   "source": [
    "jan_train = pd.DataFrame(\n",
    "    data=[\n",
    "        [23, 'Jo', 'Android', True, 'M', 'Smoking', 0.07, 'USA', 'Living life to its fullest', 7],\n",
    "        [52, 'Regina', None, True, 'F', 'Non-Smoking', 0.26, 'Germany', 'I hate cats', 2],\n",
    "        [23, 'Dana', None, True, 'F', 'Smoking', 0.3, 'USA', 'the apen is mightier then the sword', 12],\n",
    "        [25, 'Bo', None, False, 'M', 'Non-Smoking', 2.3, 'Greece', 'all for one and one for all', 8],\n",
    "        [80, 'Richy', 'iOS', True, 'M', 'Non-Smoking', 100.2, 'Finland', 'I gots the dollarz', 5],\n",
    "        [60, 'Paul', None, True, 'M', 'Smoking', 1.87, 'Denmark', 'blah', 9],\n",
    "        [44, 'Derek', None, False, 'M', 'Smoking', 1.1, 'Denmark', 'every life is precious', 10],\n",
    "        [72, 'Regina', None, False, 'F', 'Smoking', 7.1, 'Greece', 'all of you get off my porch', 3],\n",
    "        [50, 'Jim', None, False, 'M', 'Non-Smoking', 0.2, 'Germany', 'boy do I love dogs and cats', 6],\n",
    "        [80, 'Wealthus', 'iOS', False, 'F', 'Non-Smoking', 123.2, 'Finland', 'me likey them moniez', 19],\n",
    "        [12, 'Erroneous', None, False, 'M', 'Breathing', 1.2, 'Poland', 'I love bad labels', 13],\n",
    "    ],\n",
    "    columns=['Age', 'Name', 'OS', 'Bearded', 'Gender', 'Smoking', 'Savings', 'Country', 'Quote', 'id'],\n",
    ")"
   ]
  },
  {
   "cell_type": "code",
   "execution_count": 9,
   "metadata": {},
   "outputs": [
    {
     "data": {
      "text/html": [
       "<div>\n",
       "<style scoped>\n",
       "    .dataframe tbody tr th:only-of-type {\n",
       "        vertical-align: middle;\n",
       "    }\n",
       "\n",
       "    .dataframe tbody tr th {\n",
       "        vertical-align: top;\n",
       "    }\n",
       "\n",
       "    .dataframe thead th {\n",
       "        text-align: right;\n",
       "    }\n",
       "</style>\n",
       "<table border=\"1\" class=\"dataframe\">\n",
       "  <thead>\n",
       "    <tr style=\"text-align: right;\">\n",
       "      <th></th>\n",
       "      <th>Age</th>\n",
       "      <th>Name</th>\n",
       "      <th>OS</th>\n",
       "      <th>Bearded</th>\n",
       "      <th>Gender</th>\n",
       "      <th>Smoking</th>\n",
       "      <th>Savings</th>\n",
       "      <th>Country</th>\n",
       "      <th>Quote</th>\n",
       "      <th>id</th>\n",
       "    </tr>\n",
       "  </thead>\n",
       "  <tbody>\n",
       "    <tr>\n",
       "      <th>0</th>\n",
       "      <td>23</td>\n",
       "      <td>Jo</td>\n",
       "      <td>Android</td>\n",
       "      <td>True</td>\n",
       "      <td>M</td>\n",
       "      <td>Smoking</td>\n",
       "      <td>0.07</td>\n",
       "      <td>USA</td>\n",
       "      <td>Living life to its fullest</td>\n",
       "      <td>7</td>\n",
       "    </tr>\n",
       "    <tr>\n",
       "      <th>1</th>\n",
       "      <td>52</td>\n",
       "      <td>Regina</td>\n",
       "      <td>None</td>\n",
       "      <td>True</td>\n",
       "      <td>F</td>\n",
       "      <td>Non-Smoking</td>\n",
       "      <td>0.26</td>\n",
       "      <td>Germany</td>\n",
       "      <td>I hate cats</td>\n",
       "      <td>2</td>\n",
       "    </tr>\n",
       "    <tr>\n",
       "      <th>2</th>\n",
       "      <td>23</td>\n",
       "      <td>Dana</td>\n",
       "      <td>None</td>\n",
       "      <td>True</td>\n",
       "      <td>F</td>\n",
       "      <td>Smoking</td>\n",
       "      <td>0.30</td>\n",
       "      <td>USA</td>\n",
       "      <td>the apen is mightier then the sword</td>\n",
       "      <td>12</td>\n",
       "    </tr>\n",
       "    <tr>\n",
       "      <th>3</th>\n",
       "      <td>25</td>\n",
       "      <td>Bo</td>\n",
       "      <td>None</td>\n",
       "      <td>False</td>\n",
       "      <td>M</td>\n",
       "      <td>Non-Smoking</td>\n",
       "      <td>2.30</td>\n",
       "      <td>Greece</td>\n",
       "      <td>all for one and one for all</td>\n",
       "      <td>8</td>\n",
       "    </tr>\n",
       "    <tr>\n",
       "      <th>4</th>\n",
       "      <td>80</td>\n",
       "      <td>Richy</td>\n",
       "      <td>iOS</td>\n",
       "      <td>True</td>\n",
       "      <td>M</td>\n",
       "      <td>Non-Smoking</td>\n",
       "      <td>100.20</td>\n",
       "      <td>Finland</td>\n",
       "      <td>I gots the dollarz</td>\n",
       "      <td>5</td>\n",
       "    </tr>\n",
       "    <tr>\n",
       "      <th>5</th>\n",
       "      <td>60</td>\n",
       "      <td>Paul</td>\n",
       "      <td>None</td>\n",
       "      <td>True</td>\n",
       "      <td>M</td>\n",
       "      <td>Smoking</td>\n",
       "      <td>1.87</td>\n",
       "      <td>Denmark</td>\n",
       "      <td>blah</td>\n",
       "      <td>9</td>\n",
       "    </tr>\n",
       "    <tr>\n",
       "      <th>6</th>\n",
       "      <td>44</td>\n",
       "      <td>Derek</td>\n",
       "      <td>None</td>\n",
       "      <td>False</td>\n",
       "      <td>M</td>\n",
       "      <td>Smoking</td>\n",
       "      <td>1.10</td>\n",
       "      <td>Denmark</td>\n",
       "      <td>every life is precious</td>\n",
       "      <td>10</td>\n",
       "    </tr>\n",
       "    <tr>\n",
       "      <th>7</th>\n",
       "      <td>72</td>\n",
       "      <td>Regina</td>\n",
       "      <td>None</td>\n",
       "      <td>False</td>\n",
       "      <td>F</td>\n",
       "      <td>Smoking</td>\n",
       "      <td>7.10</td>\n",
       "      <td>Greece</td>\n",
       "      <td>all of you get off my porch</td>\n",
       "      <td>3</td>\n",
       "    </tr>\n",
       "    <tr>\n",
       "      <th>8</th>\n",
       "      <td>50</td>\n",
       "      <td>Jim</td>\n",
       "      <td>None</td>\n",
       "      <td>False</td>\n",
       "      <td>M</td>\n",
       "      <td>Non-Smoking</td>\n",
       "      <td>0.20</td>\n",
       "      <td>Germany</td>\n",
       "      <td>boy do I love dogs and cats</td>\n",
       "      <td>6</td>\n",
       "    </tr>\n",
       "    <tr>\n",
       "      <th>9</th>\n",
       "      <td>80</td>\n",
       "      <td>Wealthus</td>\n",
       "      <td>iOS</td>\n",
       "      <td>False</td>\n",
       "      <td>F</td>\n",
       "      <td>Non-Smoking</td>\n",
       "      <td>123.20</td>\n",
       "      <td>Finland</td>\n",
       "      <td>me likey them moniez</td>\n",
       "      <td>19</td>\n",
       "    </tr>\n",
       "    <tr>\n",
       "      <th>10</th>\n",
       "      <td>12</td>\n",
       "      <td>Erroneous</td>\n",
       "      <td>None</td>\n",
       "      <td>False</td>\n",
       "      <td>M</td>\n",
       "      <td>Breathing</td>\n",
       "      <td>1.20</td>\n",
       "      <td>Poland</td>\n",
       "      <td>I love bad labels</td>\n",
       "      <td>13</td>\n",
       "    </tr>\n",
       "  </tbody>\n",
       "</table>\n",
       "</div>"
      ],
      "text/plain": [
       "    Age       Name       OS  Bearded Gender      Smoking  Savings  Country  \\\n",
       "0    23         Jo  Android     True      M      Smoking     0.07      USA   \n",
       "1    52     Regina     None     True      F  Non-Smoking     0.26  Germany   \n",
       "2    23       Dana     None     True      F      Smoking     0.30      USA   \n",
       "3    25         Bo     None    False      M  Non-Smoking     2.30   Greece   \n",
       "4    80      Richy      iOS     True      M  Non-Smoking   100.20  Finland   \n",
       "5    60       Paul     None     True      M      Smoking     1.87  Denmark   \n",
       "6    44      Derek     None    False      M      Smoking     1.10  Denmark   \n",
       "7    72     Regina     None    False      F      Smoking     7.10   Greece   \n",
       "8    50        Jim     None    False      M  Non-Smoking     0.20  Germany   \n",
       "9    80   Wealthus      iOS    False      F  Non-Smoking   123.20  Finland   \n",
       "10   12  Erroneous     None    False      M    Breathing     1.20   Poland   \n",
       "\n",
       "                                  Quote  id  \n",
       "0            Living life to its fullest   7  \n",
       "1                           I hate cats   2  \n",
       "2   the apen is mightier then the sword  12  \n",
       "3           all for one and one for all   8  \n",
       "4                    I gots the dollarz   5  \n",
       "5                                  blah   9  \n",
       "6                every life is precious  10  \n",
       "7           all of you get off my porch   3  \n",
       "8           boy do I love dogs and cats   6  \n",
       "9                  me likey them moniez  19  \n",
       "10                    I love bad labels  13  "
      ]
     },
     "execution_count": 9,
     "metadata": {},
     "output_type": "execute_result"
    }
   ],
   "source": [
    "jan_train"
   ]
  },
  {
   "cell_type": "code",
   "execution_count": 10,
   "metadata": {},
   "outputs": [],
   "source": [
    "jan_train_X = jan_train.loc[:, jan_train.columns != LBL_COL]\n",
    "jan_train_y = jan_train[LBL_COL]"
   ]
  },
  {
   "cell_type": "code",
   "execution_count": 11,
   "metadata": {},
   "outputs": [
    {
     "name": "stdout",
     "output_type": "stream",
     "text": [
      "- Drop columns Columns with at least 0.2 missing value rate\n",
      "Dropping columns OS\n",
      "- Drop labels by values\n",
      "- Encode label values\n",
      "- Drop columns 'Name'\n",
      "Dropping columns Name\n",
      "- set_index: Apply dataframe method set_index with kwargs {'keys': 'id'}\n",
      "- Drop rows by qualifier <RowQualifier: Qualify rows with X[Savings] >\n",
      "  101>\n",
      "1 rows dropped.\n",
      "- Assign column Viking with df[Country].isin(['Denmark', 'Finland']) &\n",
      "  ~df[Bearded]\n",
      "- Assign column YearlyGrands with df[Savings] * 1000 / df[Age]\n",
      "- Bin Savings by [1].\n"
     ]
    },
    {
     "data": {
      "application/vnd.jupyter.widget-view+json": {
       "model_id": "80ee7c2bebdf4dcb9e3c4a1b53d6954a",
       "version_major": 2,
       "version_minor": 0
      },
      "text/plain": [
       "  0%|          | 0/1 [00:00<?, ?it/s]"
      ]
     },
     "metadata": {},
     "output_type": "display_data"
    },
    {
     "name": "stdout",
     "output_type": "stream",
     "text": [
      "- One-hot encode 'Country'\n"
     ]
    },
    {
     "data": {
      "application/vnd.jupyter.widget-view+json": {
       "model_id": "0a79698ee3464640b7d9234f46d7d9d8",
       "version_major": 2,
       "version_minor": 0
      },
      "text/plain": [
       "  0%|          | 0/1 [00:00<?, ?it/s]"
      ]
     },
     "metadata": {},
     "output_type": "display_data"
    },
    {
     "name": "stdout",
     "output_type": "stream",
     "text": [
      "- Tokenize Quote\n",
      "- Stemming tokens in Quote...\n",
      "- Remove stopwords from Quote\n",
      "- Count-vectorizing column Quote.\n",
      "- Encode 'Savings_bin', 'Gender'\n"
     ]
    },
    {
     "data": {
      "application/vnd.jupyter.widget-view+json": {
       "model_id": "94a16226046e47f78d17acb8e0a488bc",
       "version_major": 2,
       "version_minor": 0
      },
      "text/plain": [
       "  0%|          | 0/2 [00:00<?, ?it/s]"
      ]
     },
     "metadata": {},
     "output_type": "display_data"
    },
    {
     "name": "stdout",
     "output_type": "stream",
     "text": [
      "- Scale columns Columns of dtypes <class 'numpy.number'>\n",
      "- Drop columns 'Bearded'\n",
      "Dropping columns Bearded\n",
      "- Transform input dataframes to the following schema: <Learnable Schema>\n",
      "- Validates conditions\n"
     ]
    }
   ],
   "source": [
    "jan_train_X_post, jan_train_y_post = mp.pipeline.fit_transform(jan_train_X, jan_train_y, verbose=True)"
   ]
  },
  {
   "cell_type": "code",
   "execution_count": 12,
   "metadata": {},
   "outputs": [
    {
     "data": {
      "text/html": [
       "<div>\n",
       "<style scoped>\n",
       "    .dataframe tbody tr th:only-of-type {\n",
       "        vertical-align: middle;\n",
       "    }\n",
       "\n",
       "    .dataframe tbody tr th {\n",
       "        vertical-align: top;\n",
       "    }\n",
       "\n",
       "    .dataframe thead th {\n",
       "        text-align: right;\n",
       "    }\n",
       "</style>\n",
       "<table border=\"1\" class=\"dataframe\">\n",
       "  <thead>\n",
       "    <tr style=\"text-align: right;\">\n",
       "      <th></th>\n",
       "      <th>Age</th>\n",
       "      <th>Gender</th>\n",
       "      <th>Savings</th>\n",
       "      <th>Savings_bin</th>\n",
       "      <th>Viking</th>\n",
       "      <th>YearlyGrands</th>\n",
       "      <th>Country_Finland</th>\n",
       "      <th>Country_Germany</th>\n",
       "      <th>Country_Greece</th>\n",
       "      <th>Country_USA</th>\n",
       "      <th>...</th>\n",
       "      <th>Quote_got</th>\n",
       "      <th>Quote_hate</th>\n",
       "      <th>Quote_life</th>\n",
       "      <th>Quote_live</th>\n",
       "      <th>Quote_love</th>\n",
       "      <th>Quote_mightier</th>\n",
       "      <th>Quote_one</th>\n",
       "      <th>Quote_porch</th>\n",
       "      <th>Quote_precious</th>\n",
       "      <th>Quote_sword</th>\n",
       "    </tr>\n",
       "    <tr>\n",
       "      <th>id</th>\n",
       "      <th></th>\n",
       "      <th></th>\n",
       "      <th></th>\n",
       "      <th></th>\n",
       "      <th></th>\n",
       "      <th></th>\n",
       "      <th></th>\n",
       "      <th></th>\n",
       "      <th></th>\n",
       "      <th></th>\n",
       "      <th></th>\n",
       "      <th></th>\n",
       "      <th></th>\n",
       "      <th></th>\n",
       "      <th></th>\n",
       "      <th></th>\n",
       "      <th></th>\n",
       "      <th></th>\n",
       "      <th></th>\n",
       "      <th></th>\n",
       "      <th></th>\n",
       "    </tr>\n",
       "  </thead>\n",
       "  <tbody>\n",
       "    <tr>\n",
       "      <th>7</th>\n",
       "      <td>-1.240591</td>\n",
       "      <td>0.707107</td>\n",
       "      <td>-0.403662</td>\n",
       "      <td>1.118034</td>\n",
       "      <td>False</td>\n",
       "      <td>-0.432587</td>\n",
       "      <td>-0.353553</td>\n",
       "      <td>-0.534522</td>\n",
       "      <td>-0.534522</td>\n",
       "      <td>1.870829</td>\n",
       "      <td>...</td>\n",
       "      <td>-0.353553</td>\n",
       "      <td>-0.353553</td>\n",
       "      <td>1.870829</td>\n",
       "      <td>2.828427</td>\n",
       "      <td>-0.353553</td>\n",
       "      <td>-0.353553</td>\n",
       "      <td>-0.353553</td>\n",
       "      <td>-0.353553</td>\n",
       "      <td>-0.353553</td>\n",
       "      <td>-0.353553</td>\n",
       "    </tr>\n",
       "    <tr>\n",
       "      <th>2</th>\n",
       "      <td>0.217942</td>\n",
       "      <td>-1.414214</td>\n",
       "      <td>-0.397541</td>\n",
       "      <td>1.118034</td>\n",
       "      <td>False</td>\n",
       "      <td>-0.427498</td>\n",
       "      <td>-0.353553</td>\n",
       "      <td>1.870829</td>\n",
       "      <td>-0.534522</td>\n",
       "      <td>-0.534522</td>\n",
       "      <td>...</td>\n",
       "      <td>-0.353553</td>\n",
       "      <td>2.828427</td>\n",
       "      <td>-0.534522</td>\n",
       "      <td>-0.353553</td>\n",
       "      <td>-0.353553</td>\n",
       "      <td>-0.353553</td>\n",
       "      <td>-0.353553</td>\n",
       "      <td>-0.353553</td>\n",
       "      <td>-0.353553</td>\n",
       "      <td>-0.353553</td>\n",
       "    </tr>\n",
       "    <tr>\n",
       "      <th>12</th>\n",
       "      <td>-1.240591</td>\n",
       "      <td>-1.414214</td>\n",
       "      <td>-0.396252</td>\n",
       "      <td>1.118034</td>\n",
       "      <td>False</td>\n",
       "      <td>-0.406579</td>\n",
       "      <td>-0.353553</td>\n",
       "      <td>-0.534522</td>\n",
       "      <td>-0.534522</td>\n",
       "      <td>1.870829</td>\n",
       "      <td>...</td>\n",
       "      <td>-0.353553</td>\n",
       "      <td>-0.353553</td>\n",
       "      <td>-0.534522</td>\n",
       "      <td>-0.353553</td>\n",
       "      <td>-0.353553</td>\n",
       "      <td>2.828427</td>\n",
       "      <td>-0.353553</td>\n",
       "      <td>-0.353553</td>\n",
       "      <td>-0.353553</td>\n",
       "      <td>2.828427</td>\n",
       "    </tr>\n",
       "    <tr>\n",
       "      <th>8</th>\n",
       "      <td>-1.140003</td>\n",
       "      <td>0.707107</td>\n",
       "      <td>-0.331821</td>\n",
       "      <td>-0.894427</td>\n",
       "      <td>False</td>\n",
       "      <td>-0.201232</td>\n",
       "      <td>-0.353553</td>\n",
       "      <td>-0.534522</td>\n",
       "      <td>1.870829</td>\n",
       "      <td>-0.534522</td>\n",
       "      <td>...</td>\n",
       "      <td>-0.353553</td>\n",
       "      <td>-0.353553</td>\n",
       "      <td>-0.534522</td>\n",
       "      <td>-0.353553</td>\n",
       "      <td>-0.353553</td>\n",
       "      <td>-0.353553</td>\n",
       "      <td>2.828427</td>\n",
       "      <td>-0.353553</td>\n",
       "      <td>-0.353553</td>\n",
       "      <td>-0.353553</td>\n",
       "    </tr>\n",
       "    <tr>\n",
       "      <th>5</th>\n",
       "      <td>1.626181</td>\n",
       "      <td>0.707107</td>\n",
       "      <td>2.822088</td>\n",
       "      <td>-0.894427</td>\n",
       "      <td>False</td>\n",
       "      <td>2.816961</td>\n",
       "      <td>2.828427</td>\n",
       "      <td>-0.534522</td>\n",
       "      <td>-0.534522</td>\n",
       "      <td>-0.534522</td>\n",
       "      <td>...</td>\n",
       "      <td>2.828427</td>\n",
       "      <td>-0.353553</td>\n",
       "      <td>-0.534522</td>\n",
       "      <td>-0.353553</td>\n",
       "      <td>-0.353553</td>\n",
       "      <td>-0.353553</td>\n",
       "      <td>-0.353553</td>\n",
       "      <td>-0.353553</td>\n",
       "      <td>-0.353553</td>\n",
       "      <td>-0.353553</td>\n",
       "    </tr>\n",
       "    <tr>\n",
       "      <th>9</th>\n",
       "      <td>0.620296</td>\n",
       "      <td>0.707107</td>\n",
       "      <td>-0.345674</td>\n",
       "      <td>-0.894427</td>\n",
       "      <td>False</td>\n",
       "      <td>-0.359445</td>\n",
       "      <td>-0.353553</td>\n",
       "      <td>-0.534522</td>\n",
       "      <td>-0.534522</td>\n",
       "      <td>-0.534522</td>\n",
       "      <td>...</td>\n",
       "      <td>-0.353553</td>\n",
       "      <td>-0.353553</td>\n",
       "      <td>-0.534522</td>\n",
       "      <td>-0.353553</td>\n",
       "      <td>-0.353553</td>\n",
       "      <td>-0.353553</td>\n",
       "      <td>-0.353553</td>\n",
       "      <td>-0.353553</td>\n",
       "      <td>-0.353553</td>\n",
       "      <td>-0.353553</td>\n",
       "    </tr>\n",
       "    <tr>\n",
       "      <th>10</th>\n",
       "      <td>-0.184412</td>\n",
       "      <td>0.707107</td>\n",
       "      <td>-0.370480</td>\n",
       "      <td>-0.894427</td>\n",
       "      <td>True</td>\n",
       "      <td>-0.375483</td>\n",
       "      <td>-0.353553</td>\n",
       "      <td>-0.534522</td>\n",
       "      <td>-0.534522</td>\n",
       "      <td>-0.534522</td>\n",
       "      <td>...</td>\n",
       "      <td>-0.353553</td>\n",
       "      <td>-0.353553</td>\n",
       "      <td>1.870829</td>\n",
       "      <td>-0.353553</td>\n",
       "      <td>-0.353553</td>\n",
       "      <td>-0.353553</td>\n",
       "      <td>-0.353553</td>\n",
       "      <td>-0.353553</td>\n",
       "      <td>2.828427</td>\n",
       "      <td>-0.353553</td>\n",
       "    </tr>\n",
       "    <tr>\n",
       "      <th>3</th>\n",
       "      <td>1.223827</td>\n",
       "      <td>-1.414214</td>\n",
       "      <td>-0.177186</td>\n",
       "      <td>-0.894427</td>\n",
       "      <td>False</td>\n",
       "      <td>-0.184038</td>\n",
       "      <td>-0.353553</td>\n",
       "      <td>-0.534522</td>\n",
       "      <td>1.870829</td>\n",
       "      <td>-0.534522</td>\n",
       "      <td>...</td>\n",
       "      <td>-0.353553</td>\n",
       "      <td>-0.353553</td>\n",
       "      <td>-0.534522</td>\n",
       "      <td>-0.353553</td>\n",
       "      <td>-0.353553</td>\n",
       "      <td>-0.353553</td>\n",
       "      <td>-0.353553</td>\n",
       "      <td>2.828427</td>\n",
       "      <td>-0.353553</td>\n",
       "      <td>-0.353553</td>\n",
       "    </tr>\n",
       "    <tr>\n",
       "      <th>6</th>\n",
       "      <td>0.117353</td>\n",
       "      <td>0.707107</td>\n",
       "      <td>-0.399474</td>\n",
       "      <td>1.118034</td>\n",
       "      <td>False</td>\n",
       "      <td>-0.430099</td>\n",
       "      <td>-0.353553</td>\n",
       "      <td>1.870829</td>\n",
       "      <td>-0.534522</td>\n",
       "      <td>-0.534522</td>\n",
       "      <td>...</td>\n",
       "      <td>-0.353553</td>\n",
       "      <td>-0.353553</td>\n",
       "      <td>-0.534522</td>\n",
       "      <td>-0.353553</td>\n",
       "      <td>2.828427</td>\n",
       "      <td>-0.353553</td>\n",
       "      <td>-0.353553</td>\n",
       "      <td>-0.353553</td>\n",
       "      <td>-0.353553</td>\n",
       "      <td>-0.353553</td>\n",
       "    </tr>\n",
       "  </tbody>\n",
       "</table>\n",
       "<p>9 rows × 29 columns</p>\n",
       "</div>"
      ],
      "text/plain": [
       "         Age    Gender   Savings  Savings_bin  Viking  YearlyGrands  \\\n",
       "id                                                                    \n",
       "7  -1.240591  0.707107 -0.403662     1.118034   False     -0.432587   \n",
       "2   0.217942 -1.414214 -0.397541     1.118034   False     -0.427498   \n",
       "12 -1.240591 -1.414214 -0.396252     1.118034   False     -0.406579   \n",
       "8  -1.140003  0.707107 -0.331821    -0.894427   False     -0.201232   \n",
       "5   1.626181  0.707107  2.822088    -0.894427   False      2.816961   \n",
       "9   0.620296  0.707107 -0.345674    -0.894427   False     -0.359445   \n",
       "10 -0.184412  0.707107 -0.370480    -0.894427    True     -0.375483   \n",
       "3   1.223827 -1.414214 -0.177186    -0.894427   False     -0.184038   \n",
       "6   0.117353  0.707107 -0.399474     1.118034   False     -0.430099   \n",
       "\n",
       "    Country_Finland  Country_Germany  Country_Greece  Country_USA  ...  \\\n",
       "id                                                                 ...   \n",
       "7         -0.353553        -0.534522       -0.534522     1.870829  ...   \n",
       "2         -0.353553         1.870829       -0.534522    -0.534522  ...   \n",
       "12        -0.353553        -0.534522       -0.534522     1.870829  ...   \n",
       "8         -0.353553        -0.534522        1.870829    -0.534522  ...   \n",
       "5          2.828427        -0.534522       -0.534522    -0.534522  ...   \n",
       "9         -0.353553        -0.534522       -0.534522    -0.534522  ...   \n",
       "10        -0.353553        -0.534522       -0.534522    -0.534522  ...   \n",
       "3         -0.353553        -0.534522        1.870829    -0.534522  ...   \n",
       "6         -0.353553         1.870829       -0.534522    -0.534522  ...   \n",
       "\n",
       "    Quote_got  Quote_hate  Quote_life  Quote_live  Quote_love  Quote_mightier  \\\n",
       "id                                                                              \n",
       "7   -0.353553   -0.353553    1.870829    2.828427   -0.353553       -0.353553   \n",
       "2   -0.353553    2.828427   -0.534522   -0.353553   -0.353553       -0.353553   \n",
       "12  -0.353553   -0.353553   -0.534522   -0.353553   -0.353553        2.828427   \n",
       "8   -0.353553   -0.353553   -0.534522   -0.353553   -0.353553       -0.353553   \n",
       "5    2.828427   -0.353553   -0.534522   -0.353553   -0.353553       -0.353553   \n",
       "9   -0.353553   -0.353553   -0.534522   -0.353553   -0.353553       -0.353553   \n",
       "10  -0.353553   -0.353553    1.870829   -0.353553   -0.353553       -0.353553   \n",
       "3   -0.353553   -0.353553   -0.534522   -0.353553   -0.353553       -0.353553   \n",
       "6   -0.353553   -0.353553   -0.534522   -0.353553    2.828427       -0.353553   \n",
       "\n",
       "    Quote_one  Quote_porch  Quote_precious  Quote_sword  \n",
       "id                                                       \n",
       "7   -0.353553    -0.353553       -0.353553    -0.353553  \n",
       "2   -0.353553    -0.353553       -0.353553    -0.353553  \n",
       "12  -0.353553    -0.353553       -0.353553     2.828427  \n",
       "8    2.828427    -0.353553       -0.353553    -0.353553  \n",
       "5   -0.353553    -0.353553       -0.353553    -0.353553  \n",
       "9   -0.353553    -0.353553       -0.353553    -0.353553  \n",
       "10  -0.353553    -0.353553        2.828427    -0.353553  \n",
       "3   -0.353553     2.828427       -0.353553    -0.353553  \n",
       "6   -0.353553    -0.353553       -0.353553    -0.353553  \n",
       "\n",
       "[9 rows x 29 columns]"
      ]
     },
     "execution_count": 12,
     "metadata": {},
     "output_type": "execute_result"
    }
   ],
   "source": [
    "jan_train_X_post"
   ]
  },
  {
   "cell_type": "code",
   "execution_count": 13,
   "metadata": {},
   "outputs": [
    {
     "data": {
      "text/html": [
       "<div>\n",
       "<style scoped>\n",
       "    .dataframe tbody tr th:only-of-type {\n",
       "        vertical-align: middle;\n",
       "    }\n",
       "\n",
       "    .dataframe tbody tr th {\n",
       "        vertical-align: top;\n",
       "    }\n",
       "\n",
       "    .dataframe thead th {\n",
       "        text-align: right;\n",
       "    }\n",
       "</style>\n",
       "<table border=\"1\" class=\"dataframe\">\n",
       "  <thead>\n",
       "    <tr style=\"text-align: right;\">\n",
       "      <th></th>\n",
       "      <th>Age</th>\n",
       "      <th>Gender</th>\n",
       "      <th>Savings</th>\n",
       "      <th>Savings_bin</th>\n",
       "      <th>Viking</th>\n",
       "      <th>YearlyGrands</th>\n",
       "      <th>Country_Finland</th>\n",
       "      <th>Country_Germany</th>\n",
       "      <th>Country_Greece</th>\n",
       "      <th>Country_USA</th>\n",
       "      <th>...</th>\n",
       "      <th>Quote_got</th>\n",
       "      <th>Quote_hate</th>\n",
       "      <th>Quote_life</th>\n",
       "      <th>Quote_live</th>\n",
       "      <th>Quote_love</th>\n",
       "      <th>Quote_mightier</th>\n",
       "      <th>Quote_one</th>\n",
       "      <th>Quote_porch</th>\n",
       "      <th>Quote_precious</th>\n",
       "      <th>Quote_sword</th>\n",
       "    </tr>\n",
       "    <tr>\n",
       "      <th>id</th>\n",
       "      <th></th>\n",
       "      <th></th>\n",
       "      <th></th>\n",
       "      <th></th>\n",
       "      <th></th>\n",
       "      <th></th>\n",
       "      <th></th>\n",
       "      <th></th>\n",
       "      <th></th>\n",
       "      <th></th>\n",
       "      <th></th>\n",
       "      <th></th>\n",
       "      <th></th>\n",
       "      <th></th>\n",
       "      <th></th>\n",
       "      <th></th>\n",
       "      <th></th>\n",
       "      <th></th>\n",
       "      <th></th>\n",
       "      <th></th>\n",
       "      <th></th>\n",
       "    </tr>\n",
       "  </thead>\n",
       "  <tbody>\n",
       "    <tr>\n",
       "      <th>7</th>\n",
       "      <td>-1.240591</td>\n",
       "      <td>0.707107</td>\n",
       "      <td>-0.403662</td>\n",
       "      <td>1.118034</td>\n",
       "      <td>False</td>\n",
       "      <td>-0.432587</td>\n",
       "      <td>-0.353553</td>\n",
       "      <td>-0.534522</td>\n",
       "      <td>-0.534522</td>\n",
       "      <td>1.870829</td>\n",
       "      <td>...</td>\n",
       "      <td>-0.353553</td>\n",
       "      <td>-0.353553</td>\n",
       "      <td>1.870829</td>\n",
       "      <td>2.828427</td>\n",
       "      <td>-0.353553</td>\n",
       "      <td>-0.353553</td>\n",
       "      <td>-0.353553</td>\n",
       "      <td>-0.353553</td>\n",
       "      <td>-0.353553</td>\n",
       "      <td>-0.353553</td>\n",
       "    </tr>\n",
       "    <tr>\n",
       "      <th>2</th>\n",
       "      <td>0.217942</td>\n",
       "      <td>-1.414214</td>\n",
       "      <td>-0.397541</td>\n",
       "      <td>1.118034</td>\n",
       "      <td>False</td>\n",
       "      <td>-0.427498</td>\n",
       "      <td>-0.353553</td>\n",
       "      <td>1.870829</td>\n",
       "      <td>-0.534522</td>\n",
       "      <td>-0.534522</td>\n",
       "      <td>...</td>\n",
       "      <td>-0.353553</td>\n",
       "      <td>2.828427</td>\n",
       "      <td>-0.534522</td>\n",
       "      <td>-0.353553</td>\n",
       "      <td>-0.353553</td>\n",
       "      <td>-0.353553</td>\n",
       "      <td>-0.353553</td>\n",
       "      <td>-0.353553</td>\n",
       "      <td>-0.353553</td>\n",
       "      <td>-0.353553</td>\n",
       "    </tr>\n",
       "    <tr>\n",
       "      <th>12</th>\n",
       "      <td>-1.240591</td>\n",
       "      <td>-1.414214</td>\n",
       "      <td>-0.396252</td>\n",
       "      <td>1.118034</td>\n",
       "      <td>False</td>\n",
       "      <td>-0.406579</td>\n",
       "      <td>-0.353553</td>\n",
       "      <td>-0.534522</td>\n",
       "      <td>-0.534522</td>\n",
       "      <td>1.870829</td>\n",
       "      <td>...</td>\n",
       "      <td>-0.353553</td>\n",
       "      <td>-0.353553</td>\n",
       "      <td>-0.534522</td>\n",
       "      <td>-0.353553</td>\n",
       "      <td>-0.353553</td>\n",
       "      <td>2.828427</td>\n",
       "      <td>-0.353553</td>\n",
       "      <td>-0.353553</td>\n",
       "      <td>-0.353553</td>\n",
       "      <td>2.828427</td>\n",
       "    </tr>\n",
       "    <tr>\n",
       "      <th>8</th>\n",
       "      <td>-1.140003</td>\n",
       "      <td>0.707107</td>\n",
       "      <td>-0.331821</td>\n",
       "      <td>-0.894427</td>\n",
       "      <td>False</td>\n",
       "      <td>-0.201232</td>\n",
       "      <td>-0.353553</td>\n",
       "      <td>-0.534522</td>\n",
       "      <td>1.870829</td>\n",
       "      <td>-0.534522</td>\n",
       "      <td>...</td>\n",
       "      <td>-0.353553</td>\n",
       "      <td>-0.353553</td>\n",
       "      <td>-0.534522</td>\n",
       "      <td>-0.353553</td>\n",
       "      <td>-0.353553</td>\n",
       "      <td>-0.353553</td>\n",
       "      <td>2.828427</td>\n",
       "      <td>-0.353553</td>\n",
       "      <td>-0.353553</td>\n",
       "      <td>-0.353553</td>\n",
       "    </tr>\n",
       "    <tr>\n",
       "      <th>5</th>\n",
       "      <td>1.626181</td>\n",
       "      <td>0.707107</td>\n",
       "      <td>2.822088</td>\n",
       "      <td>-0.894427</td>\n",
       "      <td>False</td>\n",
       "      <td>2.816961</td>\n",
       "      <td>2.828427</td>\n",
       "      <td>-0.534522</td>\n",
       "      <td>-0.534522</td>\n",
       "      <td>-0.534522</td>\n",
       "      <td>...</td>\n",
       "      <td>2.828427</td>\n",
       "      <td>-0.353553</td>\n",
       "      <td>-0.534522</td>\n",
       "      <td>-0.353553</td>\n",
       "      <td>-0.353553</td>\n",
       "      <td>-0.353553</td>\n",
       "      <td>-0.353553</td>\n",
       "      <td>-0.353553</td>\n",
       "      <td>-0.353553</td>\n",
       "      <td>-0.353553</td>\n",
       "    </tr>\n",
       "    <tr>\n",
       "      <th>9</th>\n",
       "      <td>0.620296</td>\n",
       "      <td>0.707107</td>\n",
       "      <td>-0.345674</td>\n",
       "      <td>-0.894427</td>\n",
       "      <td>False</td>\n",
       "      <td>-0.359445</td>\n",
       "      <td>-0.353553</td>\n",
       "      <td>-0.534522</td>\n",
       "      <td>-0.534522</td>\n",
       "      <td>-0.534522</td>\n",
       "      <td>...</td>\n",
       "      <td>-0.353553</td>\n",
       "      <td>-0.353553</td>\n",
       "      <td>-0.534522</td>\n",
       "      <td>-0.353553</td>\n",
       "      <td>-0.353553</td>\n",
       "      <td>-0.353553</td>\n",
       "      <td>-0.353553</td>\n",
       "      <td>-0.353553</td>\n",
       "      <td>-0.353553</td>\n",
       "      <td>-0.353553</td>\n",
       "    </tr>\n",
       "    <tr>\n",
       "      <th>10</th>\n",
       "      <td>-0.184412</td>\n",
       "      <td>0.707107</td>\n",
       "      <td>-0.370480</td>\n",
       "      <td>-0.894427</td>\n",
       "      <td>True</td>\n",
       "      <td>-0.375483</td>\n",
       "      <td>-0.353553</td>\n",
       "      <td>-0.534522</td>\n",
       "      <td>-0.534522</td>\n",
       "      <td>-0.534522</td>\n",
       "      <td>...</td>\n",
       "      <td>-0.353553</td>\n",
       "      <td>-0.353553</td>\n",
       "      <td>1.870829</td>\n",
       "      <td>-0.353553</td>\n",
       "      <td>-0.353553</td>\n",
       "      <td>-0.353553</td>\n",
       "      <td>-0.353553</td>\n",
       "      <td>-0.353553</td>\n",
       "      <td>2.828427</td>\n",
       "      <td>-0.353553</td>\n",
       "    </tr>\n",
       "    <tr>\n",
       "      <th>3</th>\n",
       "      <td>1.223827</td>\n",
       "      <td>-1.414214</td>\n",
       "      <td>-0.177186</td>\n",
       "      <td>-0.894427</td>\n",
       "      <td>False</td>\n",
       "      <td>-0.184038</td>\n",
       "      <td>-0.353553</td>\n",
       "      <td>-0.534522</td>\n",
       "      <td>1.870829</td>\n",
       "      <td>-0.534522</td>\n",
       "      <td>...</td>\n",
       "      <td>-0.353553</td>\n",
       "      <td>-0.353553</td>\n",
       "      <td>-0.534522</td>\n",
       "      <td>-0.353553</td>\n",
       "      <td>-0.353553</td>\n",
       "      <td>-0.353553</td>\n",
       "      <td>-0.353553</td>\n",
       "      <td>2.828427</td>\n",
       "      <td>-0.353553</td>\n",
       "      <td>-0.353553</td>\n",
       "    </tr>\n",
       "    <tr>\n",
       "      <th>6</th>\n",
       "      <td>0.117353</td>\n",
       "      <td>0.707107</td>\n",
       "      <td>-0.399474</td>\n",
       "      <td>1.118034</td>\n",
       "      <td>False</td>\n",
       "      <td>-0.430099</td>\n",
       "      <td>-0.353553</td>\n",
       "      <td>1.870829</td>\n",
       "      <td>-0.534522</td>\n",
       "      <td>-0.534522</td>\n",
       "      <td>...</td>\n",
       "      <td>-0.353553</td>\n",
       "      <td>-0.353553</td>\n",
       "      <td>-0.534522</td>\n",
       "      <td>-0.353553</td>\n",
       "      <td>2.828427</td>\n",
       "      <td>-0.353553</td>\n",
       "      <td>-0.353553</td>\n",
       "      <td>-0.353553</td>\n",
       "      <td>-0.353553</td>\n",
       "      <td>-0.353553</td>\n",
       "    </tr>\n",
       "  </tbody>\n",
       "</table>\n",
       "<p>9 rows × 29 columns</p>\n",
       "</div>"
      ],
      "text/plain": [
       "         Age    Gender   Savings  Savings_bin  Viking  YearlyGrands  \\\n",
       "id                                                                    \n",
       "7  -1.240591  0.707107 -0.403662     1.118034   False     -0.432587   \n",
       "2   0.217942 -1.414214 -0.397541     1.118034   False     -0.427498   \n",
       "12 -1.240591 -1.414214 -0.396252     1.118034   False     -0.406579   \n",
       "8  -1.140003  0.707107 -0.331821    -0.894427   False     -0.201232   \n",
       "5   1.626181  0.707107  2.822088    -0.894427   False      2.816961   \n",
       "9   0.620296  0.707107 -0.345674    -0.894427   False     -0.359445   \n",
       "10 -0.184412  0.707107 -0.370480    -0.894427    True     -0.375483   \n",
       "3   1.223827 -1.414214 -0.177186    -0.894427   False     -0.184038   \n",
       "6   0.117353  0.707107 -0.399474     1.118034   False     -0.430099   \n",
       "\n",
       "    Country_Finland  Country_Germany  Country_Greece  Country_USA  ...  \\\n",
       "id                                                                 ...   \n",
       "7         -0.353553        -0.534522       -0.534522     1.870829  ...   \n",
       "2         -0.353553         1.870829       -0.534522    -0.534522  ...   \n",
       "12        -0.353553        -0.534522       -0.534522     1.870829  ...   \n",
       "8         -0.353553        -0.534522        1.870829    -0.534522  ...   \n",
       "5          2.828427        -0.534522       -0.534522    -0.534522  ...   \n",
       "9         -0.353553        -0.534522       -0.534522    -0.534522  ...   \n",
       "10        -0.353553        -0.534522       -0.534522    -0.534522  ...   \n",
       "3         -0.353553        -0.534522        1.870829    -0.534522  ...   \n",
       "6         -0.353553         1.870829       -0.534522    -0.534522  ...   \n",
       "\n",
       "    Quote_got  Quote_hate  Quote_life  Quote_live  Quote_love  Quote_mightier  \\\n",
       "id                                                                              \n",
       "7   -0.353553   -0.353553    1.870829    2.828427   -0.353553       -0.353553   \n",
       "2   -0.353553    2.828427   -0.534522   -0.353553   -0.353553       -0.353553   \n",
       "12  -0.353553   -0.353553   -0.534522   -0.353553   -0.353553        2.828427   \n",
       "8   -0.353553   -0.353553   -0.534522   -0.353553   -0.353553       -0.353553   \n",
       "5    2.828427   -0.353553   -0.534522   -0.353553   -0.353553       -0.353553   \n",
       "9   -0.353553   -0.353553   -0.534522   -0.353553   -0.353553       -0.353553   \n",
       "10  -0.353553   -0.353553    1.870829   -0.353553   -0.353553       -0.353553   \n",
       "3   -0.353553   -0.353553   -0.534522   -0.353553   -0.353553       -0.353553   \n",
       "6   -0.353553   -0.353553   -0.534522   -0.353553    2.828427       -0.353553   \n",
       "\n",
       "    Quote_one  Quote_porch  Quote_precious  Quote_sword  \n",
       "id                                                       \n",
       "7   -0.353553    -0.353553       -0.353553    -0.353553  \n",
       "2   -0.353553    -0.353553       -0.353553    -0.353553  \n",
       "12  -0.353553    -0.353553       -0.353553     2.828427  \n",
       "8    2.828427    -0.353553       -0.353553    -0.353553  \n",
       "5   -0.353553    -0.353553       -0.353553    -0.353553  \n",
       "9   -0.353553    -0.353553       -0.353553    -0.353553  \n",
       "10  -0.353553    -0.353553        2.828427    -0.353553  \n",
       "3   -0.353553     2.828427       -0.353553    -0.353553  \n",
       "6   -0.353553    -0.353553       -0.353553    -0.353553  \n",
       "\n",
       "[9 rows x 29 columns]"
      ]
     },
     "execution_count": 13,
     "metadata": {},
     "output_type": "execute_result"
    }
   ],
   "source": [
    "jan_train_X_post"
   ]
  },
  {
   "cell_type": "code",
   "execution_count": 14,
   "metadata": {},
   "outputs": [],
   "source": [
    "mp.fit(jan_train_X, jan_train_y);"
   ]
  },
  {
   "cell_type": "code",
   "execution_count": 15,
   "metadata": {},
   "outputs": [],
   "source": [
    "jan_test = pd.DataFrame(\n",
    "    data=[\n",
    "        [60, 2.4, 'Bo', None, True, 'F', 'Smoking', 2.7, 'Brazil', 'Living by the sword', 30],\n",
    "        [22, 3.1, 'Janet', 'iOS', True, 'F', 'Non-Smoking', 20.36, 'Greece', 'I love cats', 31],\n",
    "    ],\n",
    "    columns=['Age', 'ph', 'Name', 'OS', 'Bearded', 'Gender', 'Smoking', 'Savings', 'Country', 'Quote', 'id'],\n",
    ")\n",
    "jan_test_X = jan_test.loc[:, jan_test.columns != LBL_COL]\n",
    "jan_test_y = jan_test[LBL_COL]"
   ]
  },
  {
   "cell_type": "code",
   "execution_count": 16,
   "metadata": {},
   "outputs": [
    {
     "data": {
      "text/plain": [
       "(    Age   ph  Bearded Gender  Savings Savings_bin Country  \\\n",
       " id                                                          \n",
       " 30   60  2.4     True      F     2.70          1≤  Brazil   \n",
       " 31   22  3.1     True      F    20.36          1≤  Greece   \n",
       " \n",
       "                   Quote  Viking  YearlyGrands  \n",
       " id                                             \n",
       " 30  Living by the sword   False     45.000000  \n",
       " 31          I love cats   False    925.454545  ,\n",
       " id\n",
       " 30    __pdpipe_lbl_pholder_predict__\n",
       " 31    __pdpipe_lbl_pholder_predict__\n",
       " dtype: object)"
      ]
     },
     "execution_count": 16,
     "metadata": {},
     "output_type": "execute_result"
    }
   ],
   "source": [
    "from pdpipe.util import LabelPlaceholderForPredict\n",
    "mp.pipeline[0:9].transform(jan_test_X, LabelPlaceholderForPredict(jan_test_X))"
   ]
  },
  {
   "cell_type": "code",
   "execution_count": 17,
   "metadata": {},
   "outputs": [
    {
     "data": {
      "text/plain": [
       "array([1, 0])"
      ]
     },
     "execution_count": 17,
     "metadata": {},
     "output_type": "execute_result"
    }
   ],
   "source": [
    "mp.predict(jan_test_X)"
   ]
  },
  {
   "cell_type": "code",
   "execution_count": 18,
   "metadata": {},
   "outputs": [],
   "source": [
    "# jan_train_X_post, jan_train_y_post = mp.pipeline[0:7].transform(jan_train_X, jan_train_y, verbose=True)"
   ]
  },
  {
   "cell_type": "code",
   "execution_count": 19,
   "metadata": {},
   "outputs": [],
   "source": [
    "# jan_train_X_post"
   ]
  },
  {
   "cell_type": "markdown",
   "metadata": {},
   "source": [
    "## February"
   ]
  },
  {
   "cell_type": "code",
   "execution_count": 20,
   "metadata": {},
   "outputs": [],
   "source": [
    "feb_train = pd.DataFrame(\n",
    "    data=[\n",
    "        [66, 'Go', 'Android', True, 'M', 'Smoking', 0.07, 'USA', \"Let not my cold words here accuse my zeal: 'Tis not the trial of a woman's war, The bitter clamour of two eager tongues, Can arbitrate this cause betwixt us twain; The blood is hot that must be cool'd for this: Yet can I not of such tame patience boast As to be hush'd and nought at all to say: First, the fair reverence of your highness curbs me From giving reins and spurs to my free speech; Which else would post until it had return'd These terms of treason doubled down his throat. Setting aside his high blood's royalty, And let him be no kinsman to my liege, I do defy him, and I spit at him; Call him a slanderous coward and a villain: Which to maintain I would allow him odds, And meet him, were I tied to run afoot Even to the frozen ridges of the Alps, Or any other ground inhabitable, Where ever Englishman durst set his foot. Mean time let this defend my loyalty, By all my hopes, most falsely doth he lie.\", 40],\n",
    "        [12, 'Brienne', None, True, 'F', 'Non-Smoking', 0.26, 'Germany', 'I hate cats', 41],\n",
    "\n",
    "    ],\n",
    "    columns=['Age', 'Name', 'OS', 'Bearded', 'Gender', 'Smoking', 'Savings', 'Country', 'Quote', 'id'],\n",
    ")"
   ]
  },
  {
   "cell_type": "code",
   "execution_count": 21,
   "metadata": {},
   "outputs": [
    {
     "data": {
      "text/html": [
       "<div>\n",
       "<style scoped>\n",
       "    .dataframe tbody tr th:only-of-type {\n",
       "        vertical-align: middle;\n",
       "    }\n",
       "\n",
       "    .dataframe tbody tr th {\n",
       "        vertical-align: top;\n",
       "    }\n",
       "\n",
       "    .dataframe thead th {\n",
       "        text-align: right;\n",
       "    }\n",
       "</style>\n",
       "<table border=\"1\" class=\"dataframe\">\n",
       "  <thead>\n",
       "    <tr style=\"text-align: right;\">\n",
       "      <th></th>\n",
       "      <th>Age</th>\n",
       "      <th>Name</th>\n",
       "      <th>OS</th>\n",
       "      <th>Bearded</th>\n",
       "      <th>Gender</th>\n",
       "      <th>Smoking</th>\n",
       "      <th>Savings</th>\n",
       "      <th>Country</th>\n",
       "      <th>Quote</th>\n",
       "      <th>id</th>\n",
       "    </tr>\n",
       "  </thead>\n",
       "  <tbody>\n",
       "    <tr>\n",
       "      <th>0</th>\n",
       "      <td>66</td>\n",
       "      <td>Go</td>\n",
       "      <td>Android</td>\n",
       "      <td>True</td>\n",
       "      <td>M</td>\n",
       "      <td>Smoking</td>\n",
       "      <td>0.07</td>\n",
       "      <td>USA</td>\n",
       "      <td>Let not my cold words here accuse my zeal: 'Ti...</td>\n",
       "      <td>40</td>\n",
       "    </tr>\n",
       "    <tr>\n",
       "      <th>1</th>\n",
       "      <td>12</td>\n",
       "      <td>Brienne</td>\n",
       "      <td>None</td>\n",
       "      <td>True</td>\n",
       "      <td>F</td>\n",
       "      <td>Non-Smoking</td>\n",
       "      <td>0.26</td>\n",
       "      <td>Germany</td>\n",
       "      <td>I hate cats</td>\n",
       "      <td>41</td>\n",
       "    </tr>\n",
       "  </tbody>\n",
       "</table>\n",
       "</div>"
      ],
      "text/plain": [
       "   Age     Name       OS  Bearded Gender      Smoking  Savings  Country  \\\n",
       "0   66       Go  Android     True      M      Smoking     0.07      USA   \n",
       "1   12  Brienne     None     True      F  Non-Smoking     0.26  Germany   \n",
       "\n",
       "                                               Quote  id  \n",
       "0  Let not my cold words here accuse my zeal: 'Ti...  40  \n",
       "1                                        I hate cats  41  "
      ]
     },
     "execution_count": 21,
     "metadata": {},
     "output_type": "execute_result"
    }
   ],
   "source": [
    "feb_train"
   ]
  },
  {
   "cell_type": "code",
   "execution_count": 22,
   "metadata": {},
   "outputs": [],
   "source": [
    "feb_train_X = feb_train.loc[:, feb_train.columns != LBL_COL]\n",
    "feb_train_y = feb_train[LBL_COL]"
   ]
  },
  {
   "cell_type": "code",
   "execution_count": 23,
   "metadata": {},
   "outputs": [
    {
     "name": "stdout",
     "output_type": "stream",
     "text": [
      "- Drop columns Columns with at least 0.2 missing value rate\n",
      "Dropping columns OS\n",
      "- Drop labels by values\n",
      "- Encode label values\n",
      "- Drop columns 'Name'\n",
      "Dropping columns Name\n",
      "- set_index: Apply dataframe method set_index with kwargs {'keys': 'id'}\n",
      "- Drop rows by qualifier <RowQualifier: Qualify rows with X[Savings] >\n",
      "  101>\n",
      "0 rows dropped.\n",
      "- Assign column Viking with df[Country].isin(['Denmark', 'Finland']) &\n",
      "  ~df[Bearded]\n",
      "- Assign column YearlyGrands with df[Savings] * 1000 / df[Age]\n",
      "- Bin Savings by [1].\n"
     ]
    },
    {
     "data": {
      "application/vnd.jupyter.widget-view+json": {
       "model_id": "dc88e77196624bc9b1eb4e7ef39e7254",
       "version_major": 2,
       "version_minor": 0
      },
      "text/plain": [
       "  0%|          | 0/1 [00:00<?, ?it/s]"
      ]
     },
     "metadata": {},
     "output_type": "display_data"
    },
    {
     "name": "stdout",
     "output_type": "stream",
     "text": [
      "- One-hot encode 'Country'\n"
     ]
    },
    {
     "data": {
      "application/vnd.jupyter.widget-view+json": {
       "model_id": "edffe545ead34529a75b5c64f386fe7b",
       "version_major": 2,
       "version_minor": 0
      },
      "text/plain": [
       "  0%|          | 0/1 [00:00<?, ?it/s]"
      ]
     },
     "metadata": {},
     "output_type": "display_data"
    },
    {
     "name": "stdout",
     "output_type": "stream",
     "text": [
      "- Tokenize Quote\n",
      "- Stemming tokens in Quote...\n",
      "- Remove stopwords from Quote\n",
      "- Count-vectorizing column Quote.\n",
      "- Encode 'Savings_bin', 'Gender'\n"
     ]
    },
    {
     "data": {
      "application/vnd.jupyter.widget-view+json": {
       "model_id": "77d10dda3d0d4be7bc0f35763843fb51",
       "version_major": 2,
       "version_minor": 0
      },
      "text/plain": [
       "  0%|          | 0/2 [00:00<?, ?it/s]"
      ]
     },
     "metadata": {},
     "output_type": "display_data"
    },
    {
     "name": "stdout",
     "output_type": "stream",
     "text": [
      "- Scale columns Columns of dtypes <class 'numpy.number'>\n",
      "- Drop columns 'Bearded'\n",
      "Dropping columns Bearded\n",
      "- Transform input dataframes to the following schema: <Learnable Schema>\n",
      "- Validates conditions\n"
     ]
    },
    {
     "data": {
      "text/plain": [
       "Age            float64\n",
       "Gender         float64\n",
       "Savings        float64\n",
       "Savings_bin    float64\n",
       "Viking            bool\n",
       "                ...   \n",
       "Quote_woman    float64\n",
       "Quote_word     float64\n",
       "Quote_would    float64\n",
       "Quote_yet      float64\n",
       "Quote_zeal     float64\n",
       "Length: 100, dtype: object"
      ]
     },
     "execution_count": 23,
     "metadata": {},
     "output_type": "execute_result"
    }
   ],
   "source": [
    "mp.pipeline.fit_transform(feb_train_X, feb_train_y, verbose=True)[0].dtypes"
   ]
  },
  {
   "cell_type": "code",
   "execution_count": 24,
   "metadata": {},
   "outputs": [
    {
     "name": "stdout",
     "output_type": "stream",
     "text": [
      "- Drop columns Columns with at least 0.2 missing value rate\n",
      "Dropping columns OS\n",
      "- Drop labels by values\n",
      "- Encode label values\n",
      "- Drop columns 'Name'\n",
      "Dropping columns Name\n",
      "- set_index: Apply dataframe method set_index with kwargs {'keys': 'id'}\n",
      "- Drop rows by qualifier <RowQualifier: Qualify rows with X[Savings] >\n",
      "  101>\n",
      "0 rows dropped.\n",
      "- Assign column Viking with df[Country].isin(['Denmark', 'Finland']) &\n",
      "  ~df[Bearded]\n",
      "- Assign column YearlyGrands with df[Savings] * 1000 / df[Age]\n",
      "- Bin Savings by [1].\n"
     ]
    },
    {
     "data": {
      "application/vnd.jupyter.widget-view+json": {
       "model_id": "f35780e4b29e4842b8f7a4c4771ccbe1",
       "version_major": 2,
       "version_minor": 0
      },
      "text/plain": [
       "  0%|          | 0/1 [00:00<?, ?it/s]"
      ]
     },
     "metadata": {},
     "output_type": "display_data"
    },
    {
     "name": "stdout",
     "output_type": "stream",
     "text": [
      "- One-hot encode 'Country'\n"
     ]
    },
    {
     "data": {
      "application/vnd.jupyter.widget-view+json": {
       "model_id": "5b0ea933b8004439a3448ab59cb4b7b8",
       "version_major": 2,
       "version_minor": 0
      },
      "text/plain": [
       "  0%|          | 0/1 [00:00<?, ?it/s]"
      ]
     },
     "metadata": {},
     "output_type": "display_data"
    },
    {
     "name": "stdout",
     "output_type": "stream",
     "text": [
      "- Tokenize Quote\n",
      "- Stemming tokens in Quote...\n",
      "- Remove stopwords from Quote\n",
      "- Count-vectorizing column Quote.\n",
      "- Encode 'Savings_bin', 'Gender'\n"
     ]
    },
    {
     "data": {
      "application/vnd.jupyter.widget-view+json": {
       "model_id": "0bcff32bd69d496b8ae6ac64ec0b50a5",
       "version_major": 2,
       "version_minor": 0
      },
      "text/plain": [
       "  0%|          | 0/2 [00:00<?, ?it/s]"
      ]
     },
     "metadata": {},
     "output_type": "display_data"
    },
    {
     "name": "stdout",
     "output_type": "stream",
     "text": [
      "- Scale columns Columns of dtypes <class 'numpy.number'>\n",
      "- Drop columns 'Bearded'\n",
      "Dropping columns Bearded\n",
      "- Transform input dataframes to the following schema: <Learnable Schema>\n",
      "- Validates conditions\n"
     ]
    },
    {
     "data": {
      "text/html": [
       "<div>\n",
       "<style scoped>\n",
       "    .dataframe tbody tr th:only-of-type {\n",
       "        vertical-align: middle;\n",
       "    }\n",
       "\n",
       "    .dataframe tbody tr th {\n",
       "        vertical-align: top;\n",
       "    }\n",
       "\n",
       "    .dataframe thead th {\n",
       "        text-align: right;\n",
       "    }\n",
       "</style>\n",
       "<table border=\"1\" class=\"dataframe\">\n",
       "  <thead>\n",
       "    <tr style=\"text-align: right;\">\n",
       "      <th></th>\n",
       "      <th>Age</th>\n",
       "      <th>Gender</th>\n",
       "      <th>Savings</th>\n",
       "      <th>Savings_bin</th>\n",
       "      <th>Viking</th>\n",
       "      <th>YearlyGrands</th>\n",
       "      <th>Country_USA</th>\n",
       "      <th>Quote_'d</th>\n",
       "      <th>Quote_'s</th>\n",
       "      <th>Quote_'t</th>\n",
       "      <th>...</th>\n",
       "      <th>Quote_twain</th>\n",
       "      <th>Quote_two</th>\n",
       "      <th>Quote_us</th>\n",
       "      <th>Quote_villain</th>\n",
       "      <th>Quote_war</th>\n",
       "      <th>Quote_woman</th>\n",
       "      <th>Quote_word</th>\n",
       "      <th>Quote_would</th>\n",
       "      <th>Quote_yet</th>\n",
       "      <th>Quote_zeal</th>\n",
       "    </tr>\n",
       "    <tr>\n",
       "      <th>id</th>\n",
       "      <th></th>\n",
       "      <th></th>\n",
       "      <th></th>\n",
       "      <th></th>\n",
       "      <th></th>\n",
       "      <th></th>\n",
       "      <th></th>\n",
       "      <th></th>\n",
       "      <th></th>\n",
       "      <th></th>\n",
       "      <th></th>\n",
       "      <th></th>\n",
       "      <th></th>\n",
       "      <th></th>\n",
       "      <th></th>\n",
       "      <th></th>\n",
       "      <th></th>\n",
       "      <th></th>\n",
       "      <th></th>\n",
       "      <th></th>\n",
       "      <th></th>\n",
       "    </tr>\n",
       "  </thead>\n",
       "  <tbody>\n",
       "    <tr>\n",
       "      <th>40</th>\n",
       "      <td>1.0</td>\n",
       "      <td>1.0</td>\n",
       "      <td>-1.0</td>\n",
       "      <td>0.0</td>\n",
       "      <td>False</td>\n",
       "      <td>-1.0</td>\n",
       "      <td>1.0</td>\n",
       "      <td>1.0</td>\n",
       "      <td>1.0</td>\n",
       "      <td>1.0</td>\n",
       "      <td>...</td>\n",
       "      <td>1.0</td>\n",
       "      <td>1.0</td>\n",
       "      <td>1.0</td>\n",
       "      <td>1.0</td>\n",
       "      <td>1.0</td>\n",
       "      <td>1.0</td>\n",
       "      <td>1.0</td>\n",
       "      <td>1.0</td>\n",
       "      <td>1.0</td>\n",
       "      <td>1.0</td>\n",
       "    </tr>\n",
       "    <tr>\n",
       "      <th>41</th>\n",
       "      <td>-1.0</td>\n",
       "      <td>-1.0</td>\n",
       "      <td>1.0</td>\n",
       "      <td>0.0</td>\n",
       "      <td>False</td>\n",
       "      <td>1.0</td>\n",
       "      <td>-1.0</td>\n",
       "      <td>-1.0</td>\n",
       "      <td>-1.0</td>\n",
       "      <td>-1.0</td>\n",
       "      <td>...</td>\n",
       "      <td>-1.0</td>\n",
       "      <td>-1.0</td>\n",
       "      <td>-1.0</td>\n",
       "      <td>-1.0</td>\n",
       "      <td>-1.0</td>\n",
       "      <td>-1.0</td>\n",
       "      <td>-1.0</td>\n",
       "      <td>-1.0</td>\n",
       "      <td>-1.0</td>\n",
       "      <td>-1.0</td>\n",
       "    </tr>\n",
       "  </tbody>\n",
       "</table>\n",
       "<p>2 rows × 100 columns</p>\n",
       "</div>"
      ],
      "text/plain": [
       "    Age  Gender  Savings  Savings_bin  Viking  YearlyGrands  Country_USA  \\\n",
       "id                                                                         \n",
       "40  1.0     1.0     -1.0          0.0   False          -1.0          1.0   \n",
       "41 -1.0    -1.0      1.0          0.0   False           1.0         -1.0   \n",
       "\n",
       "    Quote_'d  Quote_'s  Quote_'t  ...  Quote_twain  Quote_two  Quote_us  \\\n",
       "id                                ...                                     \n",
       "40       1.0       1.0       1.0  ...          1.0        1.0       1.0   \n",
       "41      -1.0      -1.0      -1.0  ...         -1.0       -1.0      -1.0   \n",
       "\n",
       "    Quote_villain  Quote_war  Quote_woman  Quote_word  Quote_would  Quote_yet  \\\n",
       "id                                                                              \n",
       "40            1.0        1.0          1.0         1.0          1.0        1.0   \n",
       "41           -1.0       -1.0         -1.0        -1.0         -1.0       -1.0   \n",
       "\n",
       "    Quote_zeal  \n",
       "id              \n",
       "40         1.0  \n",
       "41        -1.0  \n",
       "\n",
       "[2 rows x 100 columns]"
      ]
     },
     "execution_count": 24,
     "metadata": {},
     "output_type": "execute_result"
    }
   ],
   "source": [
    "mp.pipeline.fit_transform(feb_train_X, feb_train_y, verbose=True)[0]"
   ]
  },
  {
   "cell_type": "code",
   "execution_count": 25,
   "metadata": {},
   "outputs": [
    {
     "name": "stdout",
     "output_type": "stream",
     "text": [
      "- Drop columns Columns with at least 0.2 missing value rate\n",
      "Dropping columns OS\n",
      "- Drop labels by values\n",
      "- Encode label values\n",
      "- Drop columns 'Name'\n",
      "Dropping columns Name\n",
      "- set_index: Apply dataframe method set_index with kwargs {'keys': 'id'}\n",
      "- Drop rows by qualifier <RowQualifier: Qualify rows with X[Savings] >\n",
      "  101>\n",
      "0 rows dropped.\n",
      "- Assign column Viking with df[Country].isin(['Denmark', 'Finland']) &\n",
      "  ~df[Bearded]\n",
      "- Assign column YearlyGrands with df[Savings] * 1000 / df[Age]\n",
      "- Bin Savings by [1].\n"
     ]
    },
    {
     "data": {
      "application/vnd.jupyter.widget-view+json": {
       "model_id": "dd0d158f55bc48d3864c1d2afe3b644d",
       "version_major": 2,
       "version_minor": 0
      },
      "text/plain": [
       "  0%|          | 0/1 [00:00<?, ?it/s]"
      ]
     },
     "metadata": {},
     "output_type": "display_data"
    },
    {
     "name": "stdout",
     "output_type": "stream",
     "text": [
      "- One-hot encode 'Country'\n"
     ]
    },
    {
     "data": {
      "application/vnd.jupyter.widget-view+json": {
       "model_id": "71951f360db5446aa6dcd1cdf8ff3f49",
       "version_major": 2,
       "version_minor": 0
      },
      "text/plain": [
       "  0%|          | 0/1 [00:00<?, ?it/s]"
      ]
     },
     "metadata": {},
     "output_type": "display_data"
    },
    {
     "name": "stdout",
     "output_type": "stream",
     "text": [
      "- Tokenize Quote\n",
      "- Stemming tokens in Quote...\n",
      "- Remove stopwords from Quote\n",
      "- Count-vectorizing column Quote.\n",
      "- Encode 'Savings_bin', 'Gender'\n"
     ]
    },
    {
     "data": {
      "application/vnd.jupyter.widget-view+json": {
       "model_id": "3ea15a371b7a43248ba3b3a01fc6ff99",
       "version_major": 2,
       "version_minor": 0
      },
      "text/plain": [
       "  0%|          | 0/2 [00:00<?, ?it/s]"
      ]
     },
     "metadata": {},
     "output_type": "display_data"
    },
    {
     "name": "stdout",
     "output_type": "stream",
     "text": [
      "- Scale columns Columns of dtypes <class 'numpy.number'>\n",
      "- Drop columns 'Bearded'\n",
      "Dropping columns Bearded\n",
      "- Transform input dataframes to the following schema: <Learnable Schema>\n",
      "- Validates conditions\n"
     ]
    }
   ],
   "source": [
    "feb_train_X_post, feb_train_y_post = mp.pipeline.fit_transform(feb_train_X, feb_train_y, verbose=True)"
   ]
  },
  {
   "cell_type": "code",
   "execution_count": 26,
   "metadata": {},
   "outputs": [
    {
     "data": {
      "text/plain": [
       "array([1.0, 1.0, -1.0, 0.0, False, -1.0, 1.0, 1.0, 1.0, 1.0, 1.0, 1.0,\n",
       "       1.0, 1.0, 1.0, 1.0, 1.0, 1.0, 1.0, 1.0, 1.0, 1.0, 1.0, 1.0, 1.0,\n",
       "       1.0, -1.0, 1.0, 1.0, 1.0, 1.0, 1.0, 1.0, 1.0, 1.0, 1.0, 1.0, 1.0,\n",
       "       1.0, 1.0, 1.0, 1.0, 1.0, 1.0, 1.0, 1.0, 1.0, 1.0, 1.0, 1.0, 1.0,\n",
       "       -1.0, 1.0, 1.0, 1.0, 1.0, 1.0, 1.0, 1.0, 1.0, 1.0, 1.0, 1.0, 1.0,\n",
       "       1.0, 1.0, 1.0, 1.0, 1.0, 1.0, 1.0, 1.0, 1.0, 1.0, 1.0, 1.0, 1.0,\n",
       "       1.0, 1.0, 1.0, 1.0, 1.0, 1.0, 1.0, 1.0, 1.0, 1.0, 1.0, 1.0, 1.0,\n",
       "       1.0, 1.0, 1.0, 1.0, 1.0, 1.0, 1.0, 1.0, 1.0, 1.0], dtype=object)"
      ]
     },
     "execution_count": 26,
     "metadata": {},
     "output_type": "execute_result"
    }
   ],
   "source": [
    "feb_train_X_post.iloc[0].values"
   ]
  },
  {
   "cell_type": "markdown",
   "metadata": {
    "tags": []
   },
   "source": [
    "## GridSearchCV"
   ]
  },
  {
   "cell_type": "code",
   "execution_count": 27,
   "metadata": {
    "tags": []
   },
   "outputs": [],
   "source": [
    "from sklearn.model_selection import GridSearchCV"
   ]
  },
  {
   "cell_type": "code",
   "execution_count": 28,
   "metadata": {
    "tags": []
   },
   "outputs": [],
   "source": [
    "gcv = GridSearchCV(\n",
    "    estimator=mp,\n",
    "    param_grid={\n",
    "        'savings_max_val': [99, 101],\n",
    "        'standardize': [True, False],\n",
    "        'drop_gender': [True, False],\n",
    "        'ohencode_country': [True, False],\n",
    "    },\n",
    "    cv=3,\n",
    ")"
   ]
  },
  {
   "cell_type": "code",
   "execution_count": 29,
   "metadata": {},
   "outputs": [
    {
     "data": {
      "text/plain": [
       "GridSearchCV(cv=3,\n",
       "             ('estimator', <PdPipeline -> LogisticRegression>),\n",
       "             param_grid={'drop_gender': [True, False],\n",
       "                         'ohencode_country': [True, False],\n",
       "                         'savings_max_val': [99, 101],\n",
       "                         'standardize': [True, False]})"
      ]
     },
     "execution_count": 29,
     "metadata": {},
     "output_type": "execute_result"
    }
   ],
   "source": [
    "gcv"
   ]
  },
  {
   "cell_type": "code",
   "execution_count": 30,
   "metadata": {},
   "outputs": [],
   "source": [
    "all_x = jan_train_X\n",
    "all_y = jan_train_y"
   ]
  },
  {
   "cell_type": "code",
   "execution_count": 31,
   "metadata": {},
   "outputs": [
    {
     "data": {
      "text/html": [
       "<div>\n",
       "<style scoped>\n",
       "    .dataframe tbody tr th:only-of-type {\n",
       "        vertical-align: middle;\n",
       "    }\n",
       "\n",
       "    .dataframe tbody tr th {\n",
       "        vertical-align: top;\n",
       "    }\n",
       "\n",
       "    .dataframe thead th {\n",
       "        text-align: right;\n",
       "    }\n",
       "</style>\n",
       "<table border=\"1\" class=\"dataframe\">\n",
       "  <thead>\n",
       "    <tr style=\"text-align: right;\">\n",
       "      <th></th>\n",
       "      <th>Age</th>\n",
       "      <th>Name</th>\n",
       "      <th>OS</th>\n",
       "      <th>Bearded</th>\n",
       "      <th>Gender</th>\n",
       "      <th>Savings</th>\n",
       "      <th>Country</th>\n",
       "      <th>Quote</th>\n",
       "      <th>id</th>\n",
       "    </tr>\n",
       "  </thead>\n",
       "  <tbody>\n",
       "    <tr>\n",
       "      <th>0</th>\n",
       "      <td>23</td>\n",
       "      <td>Jo</td>\n",
       "      <td>Android</td>\n",
       "      <td>True</td>\n",
       "      <td>M</td>\n",
       "      <td>0.07</td>\n",
       "      <td>USA</td>\n",
       "      <td>Living life to its fullest</td>\n",
       "      <td>7</td>\n",
       "    </tr>\n",
       "    <tr>\n",
       "      <th>1</th>\n",
       "      <td>52</td>\n",
       "      <td>Regina</td>\n",
       "      <td>None</td>\n",
       "      <td>True</td>\n",
       "      <td>F</td>\n",
       "      <td>0.26</td>\n",
       "      <td>Germany</td>\n",
       "      <td>I hate cats</td>\n",
       "      <td>2</td>\n",
       "    </tr>\n",
       "    <tr>\n",
       "      <th>2</th>\n",
       "      <td>23</td>\n",
       "      <td>Dana</td>\n",
       "      <td>None</td>\n",
       "      <td>True</td>\n",
       "      <td>F</td>\n",
       "      <td>0.30</td>\n",
       "      <td>USA</td>\n",
       "      <td>the apen is mightier then the sword</td>\n",
       "      <td>12</td>\n",
       "    </tr>\n",
       "    <tr>\n",
       "      <th>3</th>\n",
       "      <td>25</td>\n",
       "      <td>Bo</td>\n",
       "      <td>None</td>\n",
       "      <td>False</td>\n",
       "      <td>M</td>\n",
       "      <td>2.30</td>\n",
       "      <td>Greece</td>\n",
       "      <td>all for one and one for all</td>\n",
       "      <td>8</td>\n",
       "    </tr>\n",
       "    <tr>\n",
       "      <th>4</th>\n",
       "      <td>80</td>\n",
       "      <td>Richy</td>\n",
       "      <td>iOS</td>\n",
       "      <td>True</td>\n",
       "      <td>M</td>\n",
       "      <td>100.20</td>\n",
       "      <td>Finland</td>\n",
       "      <td>I gots the dollarz</td>\n",
       "      <td>5</td>\n",
       "    </tr>\n",
       "    <tr>\n",
       "      <th>5</th>\n",
       "      <td>60</td>\n",
       "      <td>Paul</td>\n",
       "      <td>None</td>\n",
       "      <td>True</td>\n",
       "      <td>M</td>\n",
       "      <td>1.87</td>\n",
       "      <td>Denmark</td>\n",
       "      <td>blah</td>\n",
       "      <td>9</td>\n",
       "    </tr>\n",
       "    <tr>\n",
       "      <th>6</th>\n",
       "      <td>44</td>\n",
       "      <td>Derek</td>\n",
       "      <td>None</td>\n",
       "      <td>False</td>\n",
       "      <td>M</td>\n",
       "      <td>1.10</td>\n",
       "      <td>Denmark</td>\n",
       "      <td>every life is precious</td>\n",
       "      <td>10</td>\n",
       "    </tr>\n",
       "    <tr>\n",
       "      <th>7</th>\n",
       "      <td>72</td>\n",
       "      <td>Regina</td>\n",
       "      <td>None</td>\n",
       "      <td>False</td>\n",
       "      <td>F</td>\n",
       "      <td>7.10</td>\n",
       "      <td>Greece</td>\n",
       "      <td>all of you get off my porch</td>\n",
       "      <td>3</td>\n",
       "    </tr>\n",
       "    <tr>\n",
       "      <th>8</th>\n",
       "      <td>50</td>\n",
       "      <td>Jim</td>\n",
       "      <td>None</td>\n",
       "      <td>False</td>\n",
       "      <td>M</td>\n",
       "      <td>0.20</td>\n",
       "      <td>Germany</td>\n",
       "      <td>boy do I love dogs and cats</td>\n",
       "      <td>6</td>\n",
       "    </tr>\n",
       "    <tr>\n",
       "      <th>9</th>\n",
       "      <td>80</td>\n",
       "      <td>Wealthus</td>\n",
       "      <td>iOS</td>\n",
       "      <td>False</td>\n",
       "      <td>F</td>\n",
       "      <td>123.20</td>\n",
       "      <td>Finland</td>\n",
       "      <td>me likey them moniez</td>\n",
       "      <td>19</td>\n",
       "    </tr>\n",
       "    <tr>\n",
       "      <th>10</th>\n",
       "      <td>12</td>\n",
       "      <td>Erroneous</td>\n",
       "      <td>None</td>\n",
       "      <td>False</td>\n",
       "      <td>M</td>\n",
       "      <td>1.20</td>\n",
       "      <td>Poland</td>\n",
       "      <td>I love bad labels</td>\n",
       "      <td>13</td>\n",
       "    </tr>\n",
       "  </tbody>\n",
       "</table>\n",
       "</div>"
      ],
      "text/plain": [
       "    Age       Name       OS  Bearded Gender  Savings  Country  \\\n",
       "0    23         Jo  Android     True      M     0.07      USA   \n",
       "1    52     Regina     None     True      F     0.26  Germany   \n",
       "2    23       Dana     None     True      F     0.30      USA   \n",
       "3    25         Bo     None    False      M     2.30   Greece   \n",
       "4    80      Richy      iOS     True      M   100.20  Finland   \n",
       "5    60       Paul     None     True      M     1.87  Denmark   \n",
       "6    44      Derek     None    False      M     1.10  Denmark   \n",
       "7    72     Regina     None    False      F     7.10   Greece   \n",
       "8    50        Jim     None    False      M     0.20  Germany   \n",
       "9    80   Wealthus      iOS    False      F   123.20  Finland   \n",
       "10   12  Erroneous     None    False      M     1.20   Poland   \n",
       "\n",
       "                                  Quote  id  \n",
       "0            Living life to its fullest   7  \n",
       "1                           I hate cats   2  \n",
       "2   the apen is mightier then the sword  12  \n",
       "3           all for one and one for all   8  \n",
       "4                    I gots the dollarz   5  \n",
       "5                                  blah   9  \n",
       "6                every life is precious  10  \n",
       "7           all of you get off my porch   3  \n",
       "8           boy do I love dogs and cats   6  \n",
       "9                  me likey them moniez  19  \n",
       "10                    I love bad labels  13  "
      ]
     },
     "execution_count": 31,
     "metadata": {},
     "output_type": "execute_result"
    }
   ],
   "source": [
    "all_x"
   ]
  },
  {
   "cell_type": "code",
   "execution_count": 32,
   "metadata": {},
   "outputs": [
    {
     "data": {
      "text/plain": [
       "(11, 9)"
      ]
     },
     "execution_count": 32,
     "metadata": {},
     "output_type": "execute_result"
    }
   ],
   "source": [
    "all_x.shape"
   ]
  },
  {
   "cell_type": "code",
   "execution_count": 33,
   "metadata": {},
   "outputs": [
    {
     "data": {
      "text/plain": [
       "(11,)"
      ]
     },
     "execution_count": 33,
     "metadata": {},
     "output_type": "execute_result"
    }
   ],
   "source": [
    "all_y.shape"
   ]
  },
  {
   "cell_type": "code",
   "execution_count": 34,
   "metadata": {},
   "outputs": [
    {
     "data": {
      "text/plain": [
       "<bound method PdPipelineAndSklearnEstimator.score of <PdPipeline -> LogisticRegression>>"
      ]
     },
     "execution_count": 34,
     "metadata": {},
     "output_type": "execute_result"
    }
   ],
   "source": [
    "mp.score"
   ]
  },
  {
   "cell_type": "code",
   "execution_count": 35,
   "metadata": {},
   "outputs": [
    {
     "name": "stderr",
     "output_type": "stream",
     "text": [
      "/Users/shaypalachy/.pyenv/versions/3.10.2/envs/py3/lib/python3.10/site-packages/sklearn/model_selection/_split.py:676: UserWarning: The least populated class in y has only 1 members, which is less than n_splits=3.\n",
      "  warnings.warn(\n"
     ]
    },
    {
     "data": {
      "text/plain": [
       "GridSearchCV(cv=3,\n",
       "             ('estimator', <PdPipeline -> LogisticRegression>),\n",
       "             param_grid={'drop_gender': [True, False],\n",
       "                         'ohencode_country': [True, False],\n",
       "                         'savings_max_val': [99, 101],\n",
       "                         'standardize': [True, False]})"
      ]
     },
     "execution_count": 35,
     "metadata": {},
     "output_type": "execute_result"
    }
   ],
   "source": [
    "gcv.fit(all_x, all_y)"
   ]
  },
  {
   "cell_type": "code",
   "execution_count": 36,
   "metadata": {},
   "outputs": [
    {
     "data": {
      "text/plain": [
       "GridSearchCV(cv=3,\n",
       "             ('estimator', <PdPipeline -> LogisticRegression>),\n",
       "             param_grid={'drop_gender': [True, False],\n",
       "                         'ohencode_country': [True, False],\n",
       "                         'savings_max_val': [99, 101],\n",
       "                         'standardize': [True, False]})"
      ]
     },
     "execution_count": 36,
     "metadata": {},
     "output_type": "execute_result"
    }
   ],
   "source": [
    "gcv"
   ]
  },
  {
   "cell_type": "code",
   "execution_count": 37,
   "metadata": {},
   "outputs": [
    {
     "data": {
      "text/plain": [
       "{'mean_fit_time': array([0.036316  , 0.03083754, 0.03078898, 0.03416101, 0.04521569,\n",
       "        0.03324334, 0.03493333, 0.03789465, 0.04669118, 0.03550259,\n",
       "        0.03185336, 0.03053729, 0.03288166, 0.03634501, 0.02878777,\n",
       "        0.03063146]),\n",
       " 'std_fit_time': array([0.0055919 , 0.00169539, 0.00341967, 0.0038277 , 0.0218201 ,\n",
       "        0.00401087, 0.00067782, 0.00617299, 0.0045382 , 0.002646  ,\n",
       "        0.00085212, 0.00154722, 0.00841186, 0.00198166, 0.00192767,\n",
       "        0.00563191]),\n",
       " 'mean_score_time': array([0.02412669, 0.02405405, 0.02856461, 0.02712154, 0.02272058,\n",
       "        0.0282437 , 0.02952139, 0.03249137, 0.03796196, 0.0275046 ,\n",
       "        0.02630679, 0.02668047, 0.02639675, 0.02774509, 0.02319964,\n",
       "        0.02581008]),\n",
       " 'std_score_time': array([0.00063052, 0.00158031, 0.00502455, 0.00163232, 0.00055962,\n",
       "        0.00200398, 0.0020983 , 0.00493913, 0.00482785, 0.00042132,\n",
       "        0.00130141, 0.00296123, 0.00346143, 0.00077225, 0.00221812,\n",
       "        0.00401874]),\n",
       " 'param_drop_gender': masked_array(data=[True, True, True, True, True, True, True, True, False,\n",
       "                    False, False, False, False, False, False, False],\n",
       "              mask=[False, False, False, False, False, False, False, False,\n",
       "                    False, False, False, False, False, False, False, False],\n",
       "        fill_value='?',\n",
       "             dtype=object),\n",
       " 'param_ohencode_country': masked_array(data=[True, True, True, True, False, False, False, False,\n",
       "                    True, True, True, True, False, False, False, False],\n",
       "              mask=[False, False, False, False, False, False, False, False,\n",
       "                    False, False, False, False, False, False, False, False],\n",
       "        fill_value='?',\n",
       "             dtype=object),\n",
       " 'param_savings_max_val': masked_array(data=[99, 99, 101, 101, 99, 99, 101, 101, 99, 99, 101, 101,\n",
       "                    99, 99, 101, 101],\n",
       "              mask=[False, False, False, False, False, False, False, False,\n",
       "                    False, False, False, False, False, False, False, False],\n",
       "        fill_value='?',\n",
       "             dtype=object),\n",
       " 'param_standardize': masked_array(data=[True, False, True, False, True, False, True, False,\n",
       "                    True, False, True, False, True, False, True, False],\n",
       "              mask=[False, False, False, False, False, False, False, False,\n",
       "                    False, False, False, False, False, False, False, False],\n",
       "        fill_value='?',\n",
       "             dtype=object),\n",
       " 'params': [{'drop_gender': True,\n",
       "   'ohencode_country': True,\n",
       "   'savings_max_val': 99,\n",
       "   'standardize': True},\n",
       "  {'drop_gender': True,\n",
       "   'ohencode_country': True,\n",
       "   'savings_max_val': 99,\n",
       "   'standardize': False},\n",
       "  {'drop_gender': True,\n",
       "   'ohencode_country': True,\n",
       "   'savings_max_val': 101,\n",
       "   'standardize': True},\n",
       "  {'drop_gender': True,\n",
       "   'ohencode_country': True,\n",
       "   'savings_max_val': 101,\n",
       "   'standardize': False},\n",
       "  {'drop_gender': True,\n",
       "   'ohencode_country': False,\n",
       "   'savings_max_val': 99,\n",
       "   'standardize': True},\n",
       "  {'drop_gender': True,\n",
       "   'ohencode_country': False,\n",
       "   'savings_max_val': 99,\n",
       "   'standardize': False},\n",
       "  {'drop_gender': True,\n",
       "   'ohencode_country': False,\n",
       "   'savings_max_val': 101,\n",
       "   'standardize': True},\n",
       "  {'drop_gender': True,\n",
       "   'ohencode_country': False,\n",
       "   'savings_max_val': 101,\n",
       "   'standardize': False},\n",
       "  {'drop_gender': False,\n",
       "   'ohencode_country': True,\n",
       "   'savings_max_val': 99,\n",
       "   'standardize': True},\n",
       "  {'drop_gender': False,\n",
       "   'ohencode_country': True,\n",
       "   'savings_max_val': 99,\n",
       "   'standardize': False},\n",
       "  {'drop_gender': False,\n",
       "   'ohencode_country': True,\n",
       "   'savings_max_val': 101,\n",
       "   'standardize': True},\n",
       "  {'drop_gender': False,\n",
       "   'ohencode_country': True,\n",
       "   'savings_max_val': 101,\n",
       "   'standardize': False},\n",
       "  {'drop_gender': False,\n",
       "   'ohencode_country': False,\n",
       "   'savings_max_val': 99,\n",
       "   'standardize': True},\n",
       "  {'drop_gender': False,\n",
       "   'ohencode_country': False,\n",
       "   'savings_max_val': 99,\n",
       "   'standardize': False},\n",
       "  {'drop_gender': False,\n",
       "   'ohencode_country': False,\n",
       "   'savings_max_val': 101,\n",
       "   'standardize': True},\n",
       "  {'drop_gender': False,\n",
       "   'ohencode_country': False,\n",
       "   'savings_max_val': 101,\n",
       "   'standardize': False}],\n",
       " 'split0_test_score': array([0.75, 0.75, 0.75, 0.75, 0.75, 0.75, 0.75, 0.75, 0.75, 0.75, 0.75,\n",
       "        0.75, 0.75, 0.75, 0.75, 0.75]),\n",
       " 'split1_test_score': array([0.33333333, 0.33333333, 0.33333333, 0.33333333, 0.33333333,\n",
       "        0.33333333, 0.33333333, 0.33333333, 0.33333333, 0.33333333,\n",
       "        0.33333333, 0.33333333, 0.33333333, 0.33333333, 0.33333333,\n",
       "        0.33333333]),\n",
       " 'split2_test_score': array([0.5, 0.5, 0.5, 0.5, 0.5, 0.5, 0.5, 0.5, 0.5, 0.5, 0.5, 0.5, 0.5,\n",
       "        0.5, 0.5, 0.5]),\n",
       " 'mean_test_score': array([0.52777778, 0.52777778, 0.52777778, 0.52777778, 0.52777778,\n",
       "        0.52777778, 0.52777778, 0.52777778, 0.52777778, 0.52777778,\n",
       "        0.52777778, 0.52777778, 0.52777778, 0.52777778, 0.52777778,\n",
       "        0.52777778]),\n",
       " 'std_test_score': array([0.17123372, 0.17123372, 0.17123372, 0.17123372, 0.17123372,\n",
       "        0.17123372, 0.17123372, 0.17123372, 0.17123372, 0.17123372,\n",
       "        0.17123372, 0.17123372, 0.17123372, 0.17123372, 0.17123372,\n",
       "        0.17123372]),\n",
       " 'rank_test_score': array([1, 1, 1, 1, 1, 1, 1, 1, 1, 1, 1, 1, 1, 1, 1, 1], dtype=int32)}"
      ]
     },
     "execution_count": 37,
     "metadata": {},
     "output_type": "execute_result"
    }
   ],
   "source": [
    "gcv.cv_results_"
   ]
  },
  {
   "cell_type": "code",
   "execution_count": 38,
   "metadata": {},
   "outputs": [
    {
     "data": {
      "text/plain": [
       "<PdPipeline -> LogisticRegression>"
      ]
     },
     "execution_count": 38,
     "metadata": {},
     "output_type": "execute_result"
    }
   ],
   "source": [
    "gcv.best_estimator_"
   ]
  },
  {
   "cell_type": "code",
   "execution_count": 39,
   "metadata": {},
   "outputs": [
    {
     "data": {
      "text/plain": [
       "0.5277777777777778"
      ]
     },
     "execution_count": 39,
     "metadata": {},
     "output_type": "execute_result"
    }
   ],
   "source": [
    "gcv.best_score_"
   ]
  },
  {
   "cell_type": "code",
   "execution_count": 40,
   "metadata": {},
   "outputs": [
    {
     "data": {
      "text/plain": [
       "{'drop_gender': True,\n",
       " 'ohencode_country': True,\n",
       " 'savings_max_val': 99,\n",
       " 'standardize': True}"
      ]
     },
     "execution_count": 40,
     "metadata": {},
     "output_type": "execute_result"
    }
   ],
   "source": [
    "gcv.best_params_"
   ]
  },
  {
   "cell_type": "code",
   "execution_count": null,
   "metadata": {},
   "outputs": [],
   "source": []
  },
  {
   "cell_type": "code",
   "execution_count": 41,
   "metadata": {},
   "outputs": [
    {
     "data": {
      "text/html": [
       "<div>\n",
       "<style scoped>\n",
       "    .dataframe tbody tr th:only-of-type {\n",
       "        vertical-align: middle;\n",
       "    }\n",
       "\n",
       "    .dataframe tbody tr th {\n",
       "        vertical-align: top;\n",
       "    }\n",
       "\n",
       "    .dataframe thead th {\n",
       "        text-align: right;\n",
       "    }\n",
       "</style>\n",
       "<table border=\"1\" class=\"dataframe\">\n",
       "  <thead>\n",
       "    <tr style=\"text-align: right;\">\n",
       "      <th></th>\n",
       "      <th>Age</th>\n",
       "      <th>Gender</th>\n",
       "      <th>Savings</th>\n",
       "      <th>Savings_bin</th>\n",
       "      <th>Viking</th>\n",
       "      <th>YearlyGrands</th>\n",
       "      <th>Country_Finland</th>\n",
       "      <th>Country_Germany</th>\n",
       "      <th>Country_Greece</th>\n",
       "      <th>Country_USA</th>\n",
       "      <th>...</th>\n",
       "      <th>Quote_got</th>\n",
       "      <th>Quote_hate</th>\n",
       "      <th>Quote_life</th>\n",
       "      <th>Quote_live</th>\n",
       "      <th>Quote_love</th>\n",
       "      <th>Quote_mightier</th>\n",
       "      <th>Quote_one</th>\n",
       "      <th>Quote_porch</th>\n",
       "      <th>Quote_precious</th>\n",
       "      <th>Quote_sword</th>\n",
       "    </tr>\n",
       "    <tr>\n",
       "      <th>id</th>\n",
       "      <th></th>\n",
       "      <th></th>\n",
       "      <th></th>\n",
       "      <th></th>\n",
       "      <th></th>\n",
       "      <th></th>\n",
       "      <th></th>\n",
       "      <th></th>\n",
       "      <th></th>\n",
       "      <th></th>\n",
       "      <th></th>\n",
       "      <th></th>\n",
       "      <th></th>\n",
       "      <th></th>\n",
       "      <th></th>\n",
       "      <th></th>\n",
       "      <th></th>\n",
       "      <th></th>\n",
       "      <th></th>\n",
       "      <th></th>\n",
       "      <th></th>\n",
       "    </tr>\n",
       "  </thead>\n",
       "  <tbody>\n",
       "    <tr>\n",
       "      <th>7</th>\n",
       "      <td>-1.240591</td>\n",
       "      <td>0.707107</td>\n",
       "      <td>-0.403662</td>\n",
       "      <td>1.118034</td>\n",
       "      <td>False</td>\n",
       "      <td>-0.432587</td>\n",
       "      <td>-0.353553</td>\n",
       "      <td>-0.534522</td>\n",
       "      <td>-0.534522</td>\n",
       "      <td>1.870829</td>\n",
       "      <td>...</td>\n",
       "      <td>-0.353553</td>\n",
       "      <td>-0.353553</td>\n",
       "      <td>1.870829</td>\n",
       "      <td>2.828427</td>\n",
       "      <td>-0.353553</td>\n",
       "      <td>-0.353553</td>\n",
       "      <td>-0.353553</td>\n",
       "      <td>-0.353553</td>\n",
       "      <td>-0.353553</td>\n",
       "      <td>-0.353553</td>\n",
       "    </tr>\n",
       "    <tr>\n",
       "      <th>2</th>\n",
       "      <td>0.217942</td>\n",
       "      <td>-1.414214</td>\n",
       "      <td>-0.397541</td>\n",
       "      <td>1.118034</td>\n",
       "      <td>False</td>\n",
       "      <td>-0.427498</td>\n",
       "      <td>-0.353553</td>\n",
       "      <td>1.870829</td>\n",
       "      <td>-0.534522</td>\n",
       "      <td>-0.534522</td>\n",
       "      <td>...</td>\n",
       "      <td>-0.353553</td>\n",
       "      <td>2.828427</td>\n",
       "      <td>-0.534522</td>\n",
       "      <td>-0.353553</td>\n",
       "      <td>-0.353553</td>\n",
       "      <td>-0.353553</td>\n",
       "      <td>-0.353553</td>\n",
       "      <td>-0.353553</td>\n",
       "      <td>-0.353553</td>\n",
       "      <td>-0.353553</td>\n",
       "    </tr>\n",
       "    <tr>\n",
       "      <th>12</th>\n",
       "      <td>-1.240591</td>\n",
       "      <td>-1.414214</td>\n",
       "      <td>-0.396252</td>\n",
       "      <td>1.118034</td>\n",
       "      <td>False</td>\n",
       "      <td>-0.406579</td>\n",
       "      <td>-0.353553</td>\n",
       "      <td>-0.534522</td>\n",
       "      <td>-0.534522</td>\n",
       "      <td>1.870829</td>\n",
       "      <td>...</td>\n",
       "      <td>-0.353553</td>\n",
       "      <td>-0.353553</td>\n",
       "      <td>-0.534522</td>\n",
       "      <td>-0.353553</td>\n",
       "      <td>-0.353553</td>\n",
       "      <td>2.828427</td>\n",
       "      <td>-0.353553</td>\n",
       "      <td>-0.353553</td>\n",
       "      <td>-0.353553</td>\n",
       "      <td>2.828427</td>\n",
       "    </tr>\n",
       "    <tr>\n",
       "      <th>8</th>\n",
       "      <td>-1.140003</td>\n",
       "      <td>0.707107</td>\n",
       "      <td>-0.331821</td>\n",
       "      <td>-0.894427</td>\n",
       "      <td>False</td>\n",
       "      <td>-0.201232</td>\n",
       "      <td>-0.353553</td>\n",
       "      <td>-0.534522</td>\n",
       "      <td>1.870829</td>\n",
       "      <td>-0.534522</td>\n",
       "      <td>...</td>\n",
       "      <td>-0.353553</td>\n",
       "      <td>-0.353553</td>\n",
       "      <td>-0.534522</td>\n",
       "      <td>-0.353553</td>\n",
       "      <td>-0.353553</td>\n",
       "      <td>-0.353553</td>\n",
       "      <td>2.828427</td>\n",
       "      <td>-0.353553</td>\n",
       "      <td>-0.353553</td>\n",
       "      <td>-0.353553</td>\n",
       "    </tr>\n",
       "    <tr>\n",
       "      <th>5</th>\n",
       "      <td>1.626181</td>\n",
       "      <td>0.707107</td>\n",
       "      <td>2.822088</td>\n",
       "      <td>-0.894427</td>\n",
       "      <td>False</td>\n",
       "      <td>2.816961</td>\n",
       "      <td>2.828427</td>\n",
       "      <td>-0.534522</td>\n",
       "      <td>-0.534522</td>\n",
       "      <td>-0.534522</td>\n",
       "      <td>...</td>\n",
       "      <td>2.828427</td>\n",
       "      <td>-0.353553</td>\n",
       "      <td>-0.534522</td>\n",
       "      <td>-0.353553</td>\n",
       "      <td>-0.353553</td>\n",
       "      <td>-0.353553</td>\n",
       "      <td>-0.353553</td>\n",
       "      <td>-0.353553</td>\n",
       "      <td>-0.353553</td>\n",
       "      <td>-0.353553</td>\n",
       "    </tr>\n",
       "    <tr>\n",
       "      <th>9</th>\n",
       "      <td>0.620296</td>\n",
       "      <td>0.707107</td>\n",
       "      <td>-0.345674</td>\n",
       "      <td>-0.894427</td>\n",
       "      <td>False</td>\n",
       "      <td>-0.359445</td>\n",
       "      <td>-0.353553</td>\n",
       "      <td>-0.534522</td>\n",
       "      <td>-0.534522</td>\n",
       "      <td>-0.534522</td>\n",
       "      <td>...</td>\n",
       "      <td>-0.353553</td>\n",
       "      <td>-0.353553</td>\n",
       "      <td>-0.534522</td>\n",
       "      <td>-0.353553</td>\n",
       "      <td>-0.353553</td>\n",
       "      <td>-0.353553</td>\n",
       "      <td>-0.353553</td>\n",
       "      <td>-0.353553</td>\n",
       "      <td>-0.353553</td>\n",
       "      <td>-0.353553</td>\n",
       "    </tr>\n",
       "    <tr>\n",
       "      <th>10</th>\n",
       "      <td>-0.184412</td>\n",
       "      <td>0.707107</td>\n",
       "      <td>-0.370480</td>\n",
       "      <td>-0.894427</td>\n",
       "      <td>True</td>\n",
       "      <td>-0.375483</td>\n",
       "      <td>-0.353553</td>\n",
       "      <td>-0.534522</td>\n",
       "      <td>-0.534522</td>\n",
       "      <td>-0.534522</td>\n",
       "      <td>...</td>\n",
       "      <td>-0.353553</td>\n",
       "      <td>-0.353553</td>\n",
       "      <td>1.870829</td>\n",
       "      <td>-0.353553</td>\n",
       "      <td>-0.353553</td>\n",
       "      <td>-0.353553</td>\n",
       "      <td>-0.353553</td>\n",
       "      <td>-0.353553</td>\n",
       "      <td>2.828427</td>\n",
       "      <td>-0.353553</td>\n",
       "    </tr>\n",
       "    <tr>\n",
       "      <th>3</th>\n",
       "      <td>1.223827</td>\n",
       "      <td>-1.414214</td>\n",
       "      <td>-0.177186</td>\n",
       "      <td>-0.894427</td>\n",
       "      <td>False</td>\n",
       "      <td>-0.184038</td>\n",
       "      <td>-0.353553</td>\n",
       "      <td>-0.534522</td>\n",
       "      <td>1.870829</td>\n",
       "      <td>-0.534522</td>\n",
       "      <td>...</td>\n",
       "      <td>-0.353553</td>\n",
       "      <td>-0.353553</td>\n",
       "      <td>-0.534522</td>\n",
       "      <td>-0.353553</td>\n",
       "      <td>-0.353553</td>\n",
       "      <td>-0.353553</td>\n",
       "      <td>-0.353553</td>\n",
       "      <td>2.828427</td>\n",
       "      <td>-0.353553</td>\n",
       "      <td>-0.353553</td>\n",
       "    </tr>\n",
       "    <tr>\n",
       "      <th>6</th>\n",
       "      <td>0.117353</td>\n",
       "      <td>0.707107</td>\n",
       "      <td>-0.399474</td>\n",
       "      <td>1.118034</td>\n",
       "      <td>False</td>\n",
       "      <td>-0.430099</td>\n",
       "      <td>-0.353553</td>\n",
       "      <td>1.870829</td>\n",
       "      <td>-0.534522</td>\n",
       "      <td>-0.534522</td>\n",
       "      <td>...</td>\n",
       "      <td>-0.353553</td>\n",
       "      <td>-0.353553</td>\n",
       "      <td>-0.534522</td>\n",
       "      <td>-0.353553</td>\n",
       "      <td>2.828427</td>\n",
       "      <td>-0.353553</td>\n",
       "      <td>-0.353553</td>\n",
       "      <td>-0.353553</td>\n",
       "      <td>-0.353553</td>\n",
       "      <td>-0.353553</td>\n",
       "    </tr>\n",
       "  </tbody>\n",
       "</table>\n",
       "<p>9 rows × 29 columns</p>\n",
       "</div>"
      ],
      "text/plain": [
       "         Age    Gender   Savings  Savings_bin  Viking  YearlyGrands  \\\n",
       "id                                                                    \n",
       "7  -1.240591  0.707107 -0.403662     1.118034   False     -0.432587   \n",
       "2   0.217942 -1.414214 -0.397541     1.118034   False     -0.427498   \n",
       "12 -1.240591 -1.414214 -0.396252     1.118034   False     -0.406579   \n",
       "8  -1.140003  0.707107 -0.331821    -0.894427   False     -0.201232   \n",
       "5   1.626181  0.707107  2.822088    -0.894427   False      2.816961   \n",
       "9   0.620296  0.707107 -0.345674    -0.894427   False     -0.359445   \n",
       "10 -0.184412  0.707107 -0.370480    -0.894427    True     -0.375483   \n",
       "3   1.223827 -1.414214 -0.177186    -0.894427   False     -0.184038   \n",
       "6   0.117353  0.707107 -0.399474     1.118034   False     -0.430099   \n",
       "\n",
       "    Country_Finland  Country_Germany  Country_Greece  Country_USA  ...  \\\n",
       "id                                                                 ...   \n",
       "7         -0.353553        -0.534522       -0.534522     1.870829  ...   \n",
       "2         -0.353553         1.870829       -0.534522    -0.534522  ...   \n",
       "12        -0.353553        -0.534522       -0.534522     1.870829  ...   \n",
       "8         -0.353553        -0.534522        1.870829    -0.534522  ...   \n",
       "5          2.828427        -0.534522       -0.534522    -0.534522  ...   \n",
       "9         -0.353553        -0.534522       -0.534522    -0.534522  ...   \n",
       "10        -0.353553        -0.534522       -0.534522    -0.534522  ...   \n",
       "3         -0.353553        -0.534522        1.870829    -0.534522  ...   \n",
       "6         -0.353553         1.870829       -0.534522    -0.534522  ...   \n",
       "\n",
       "    Quote_got  Quote_hate  Quote_life  Quote_live  Quote_love  Quote_mightier  \\\n",
       "id                                                                              \n",
       "7   -0.353553   -0.353553    1.870829    2.828427   -0.353553       -0.353553   \n",
       "2   -0.353553    2.828427   -0.534522   -0.353553   -0.353553       -0.353553   \n",
       "12  -0.353553   -0.353553   -0.534522   -0.353553   -0.353553        2.828427   \n",
       "8   -0.353553   -0.353553   -0.534522   -0.353553   -0.353553       -0.353553   \n",
       "5    2.828427   -0.353553   -0.534522   -0.353553   -0.353553       -0.353553   \n",
       "9   -0.353553   -0.353553   -0.534522   -0.353553   -0.353553       -0.353553   \n",
       "10  -0.353553   -0.353553    1.870829   -0.353553   -0.353553       -0.353553   \n",
       "3   -0.353553   -0.353553   -0.534522   -0.353553   -0.353553       -0.353553   \n",
       "6   -0.353553   -0.353553   -0.534522   -0.353553    2.828427       -0.353553   \n",
       "\n",
       "    Quote_one  Quote_porch  Quote_precious  Quote_sword  \n",
       "id                                                       \n",
       "7   -0.353553    -0.353553       -0.353553    -0.353553  \n",
       "2   -0.353553    -0.353553       -0.353553    -0.353553  \n",
       "12  -0.353553    -0.353553       -0.353553     2.828427  \n",
       "8    2.828427    -0.353553       -0.353553    -0.353553  \n",
       "5   -0.353553    -0.353553       -0.353553    -0.353553  \n",
       "9   -0.353553    -0.353553       -0.353553    -0.353553  \n",
       "10  -0.353553    -0.353553        2.828427    -0.353553  \n",
       "3   -0.353553     2.828427       -0.353553    -0.353553  \n",
       "6   -0.353553    -0.353553       -0.353553    -0.353553  \n",
       "\n",
       "[9 rows x 29 columns]"
      ]
     },
     "execution_count": 41,
     "metadata": {},
     "output_type": "execute_result"
    }
   ],
   "source": [
    "post_x, post_y = mp.pipeline.fit_transform(all_x, all_y)\n",
    "post_x"
   ]
  },
  {
   "cell_type": "code",
   "execution_count": 42,
   "metadata": {},
   "outputs": [
    {
     "data": {
      "text/plain": [
       "array([[-1.2405913475081491, 0.7071067811865476, -0.4036616246372651,\n",
       "        1.118033988749895, False, -0.4325869193391223,\n",
       "        -0.3535533905932738, -0.5345224838248487, -0.5345224838248487,\n",
       "        1.8708286933869707, -0.3535533905932738, -0.3535533905932738,\n",
       "        -0.35355339059327373, -0.522411943359549, -0.35355339059327373,\n",
       "        -0.35355339059327373, -0.35355339059327373, 2.82842712474619,\n",
       "        -0.35355339059327373, -0.35355339059327373, -0.3535533905932738,\n",
       "        1.8708286933869707, 2.82842712474619, -0.35355339059327373,\n",
       "        -0.3535533905932738, -0.3535533905932738, -0.35355339059327373,\n",
       "        -0.35355339059327373, -0.3535533905932738],\n",
       "       [0.2179417232108912, -1.414213562373095, -0.3975406582620791,\n",
       "        1.118033988749895, False, -0.42749845801219016,\n",
       "        -0.3535533905932738, 1.8708286933869707, -0.5345224838248487,\n",
       "        -0.5345224838248487, -0.3535533905932738, -0.3535533905932738,\n",
       "        -0.35355339059327373, 2.277441515128002, -0.35355339059327373,\n",
       "        -0.35355339059327373, -0.35355339059327373, -0.35355339059327373,\n",
       "        -0.35355339059327373, -0.35355339059327373, 2.8284271247461903,\n",
       "        -0.5345224838248487, -0.35355339059327373, -0.35355339059327373,\n",
       "        -0.3535533905932738, -0.3535533905932738, -0.35355339059327373,\n",
       "        -0.35355339059327373, -0.3535533905932738],\n",
       "       [-1.2405913475081491, -1.414213562373095, -0.39625203376203993,\n",
       "        1.118033988749895, False, -0.40657922811258035,\n",
       "        -0.3535533905932738, -0.5345224838248487, -0.5345224838248487,\n",
       "        1.8708286933869707, 2.8284271247461903, -0.3535533905932738,\n",
       "        -0.35355339059327373, -0.522411943359549, -0.35355339059327373,\n",
       "        -0.35355339059327373, -0.35355339059327373, -0.35355339059327373,\n",
       "        -0.35355339059327373, -0.35355339059327373, -0.3535533905932738,\n",
       "        -0.5345224838248487, -0.35355339059327373, -0.35355339059327373,\n",
       "        2.8284271247461903, -0.3535533905932738, -0.35355339059327373,\n",
       "        -0.35355339059327373, 2.8284271247461903],\n",
       "       [-1.1400028598723533, 0.7071067811865476, -0.33182080876008224,\n",
       "        -0.8944271909999157, False, -0.20123154434127516,\n",
       "        -0.3535533905932738, -0.5345224838248487, 1.8708286933869707,\n",
       "        -0.5345224838248487, -0.3535533905932738, -0.3535533905932738,\n",
       "        -0.35355339059327373, -0.522411943359549, -0.35355339059327373,\n",
       "        -0.35355339059327373, -0.35355339059327373, -0.35355339059327373,\n",
       "        -0.35355339059327373, -0.35355339059327373, -0.3535533905932738,\n",
       "        -0.5345224838248487, -0.35355339059327373, -0.35355339059327373,\n",
       "        -0.3535533905932738, 2.8284271247461903, -0.35355339059327373,\n",
       "        -0.35355339059327373, -0.3535533905932738],\n",
       "       [1.6261805501120334, 0.7071067811865476, 2.8220876550857477,\n",
       "        -0.8944271909999157, False, 2.8169610224989188,\n",
       "        2.8284271247461903, -0.5345224838248487, -0.5345224838248487,\n",
       "        -0.5345224838248487, -0.3535533905932738, -0.3535533905932738,\n",
       "        -0.35355339059327373, -0.522411943359549, -0.35355339059327373,\n",
       "        2.82842712474619, -0.35355339059327373, -0.35355339059327373,\n",
       "        -0.35355339059327373, 2.82842712474619, -0.3535533905932738,\n",
       "        -0.5345224838248487, -0.35355339059327373, -0.35355339059327373,\n",
       "        -0.3535533905932738, -0.3535533905932738, -0.35355339059327373,\n",
       "        -0.35355339059327373, -0.3535533905932738],\n",
       "       [0.6202956737540747, 0.7071067811865476, -0.3456735221355031,\n",
       "        -0.8944271909999157, False, -0.35944499930273877,\n",
       "        -0.3535533905932738, -0.5345224838248487, -0.5345224838248487,\n",
       "        -0.5345224838248487, -0.3535533905932738, 2.8284271247461903,\n",
       "        -0.35355339059327373, -0.522411943359549, -0.35355339059327373,\n",
       "        -0.35355339059327373, -0.35355339059327373, -0.35355339059327373,\n",
       "        -0.35355339059327373, -0.35355339059327373, -0.3535533905932738,\n",
       "        -0.5345224838248487, -0.35355339059327373, -0.35355339059327373,\n",
       "        -0.3535533905932738, -0.3535533905932738, -0.35355339059327373,\n",
       "        -0.35355339059327373, -0.3535533905932738],\n",
       "       [-0.18441222733229232, 0.7071067811865476, -0.3704795437612569,\n",
       "        -0.8944271909999157, True, -0.37548307555910626,\n",
       "        -0.3535533905932738, -0.5345224838248487, -0.5345224838248487,\n",
       "        -0.5345224838248487, -0.3535533905932738, -0.3535533905932738,\n",
       "        -0.35355339059327373, -0.522411943359549, -0.35355339059327373,\n",
       "        -0.35355339059327373, 2.82842712474619, -0.35355339059327373,\n",
       "        -0.35355339059327373, -0.35355339059327373, -0.3535533905932738,\n",
       "        1.8708286933869707, -0.35355339059327373, -0.35355339059327373,\n",
       "        -0.3535533905932738, -0.3535533905932738, -0.35355339059327373,\n",
       "        2.82842712474619, -0.3535533905932738],\n",
       "       [1.22382659956885, -1.414213562373095, -0.17718586875538375,\n",
       "        -0.8944271909999157, False, -0.18403757069706128,\n",
       "        -0.3535533905932738, -0.5345224838248487, 1.8708286933869707,\n",
       "        -0.5345224838248487, -0.3535533905932738, -0.3535533905932738,\n",
       "        -0.35355339059327373, -0.522411943359549, -0.35355339059327373,\n",
       "        -0.35355339059327373, -0.35355339059327373, -0.35355339059327373,\n",
       "        2.82842712474619, -0.35355339059327373, -0.3535533905932738,\n",
       "        -0.5345224838248487, -0.35355339059327373, -0.35355339059327373,\n",
       "        -0.3535533905932738, -0.3535533905932738, 2.82842712474619,\n",
       "        -0.35355339059327373, -0.3535533905932738],\n",
       "       [0.11735323557509532, 0.7071067811865476, -0.39947359501213786,\n",
       "        1.118033988749895, False, -0.4300992271348444,\n",
       "        -0.3535533905932738, 1.8708286933869707, -0.5345224838248487,\n",
       "        -0.5345224838248487, -0.3535533905932738, -0.3535533905932738,\n",
       "        2.82842712474619, 1.3794420883888405, 2.82842712474619,\n",
       "        -0.35355339059327373, -0.35355339059327373, -0.35355339059327373,\n",
       "        -0.35355339059327373, -0.35355339059327373, -0.3535533905932738,\n",
       "        -0.5345224838248487, -0.35355339059327373, 2.82842712474619,\n",
       "        -0.3535533905932738, -0.3535533905932738, -0.35355339059327373,\n",
       "        -0.35355339059327373, -0.3535533905932738]], dtype=object)"
      ]
     },
     "execution_count": 42,
     "metadata": {},
     "output_type": "execute_result"
    }
   ],
   "source": [
    "post_x.values"
   ]
  },
  {
   "cell_type": "code",
   "execution_count": 43,
   "metadata": {},
   "outputs": [
    {
     "data": {
      "text/plain": [
       "(9, 29)"
      ]
     },
     "execution_count": 43,
     "metadata": {},
     "output_type": "execute_result"
    }
   ],
   "source": [
    "post_x.values.shape"
   ]
  },
  {
   "cell_type": "code",
   "execution_count": 44,
   "metadata": {},
   "outputs": [
    {
     "data": {
      "text/plain": [
       "array(['Smoking', 'Non-Smoking', 'Smoking', 'Non-Smoking', 'Non-Smoking',\n",
       "       'Smoking', 'Smoking', 'Smoking', 'Non-Smoking', 'Non-Smoking',\n",
       "       'Breathing'], dtype=object)"
      ]
     },
     "execution_count": 44,
     "metadata": {},
     "output_type": "execute_result"
    }
   ],
   "source": [
    "all_y.values"
   ]
  },
  {
   "cell_type": "code",
   "execution_count": 45,
   "metadata": {},
   "outputs": [
    {
     "data": {
      "text/plain": [
       "11"
      ]
     },
     "execution_count": 45,
     "metadata": {},
     "output_type": "execute_result"
    }
   ],
   "source": [
    "len(all_y.values)"
   ]
  },
  {
   "cell_type": "code",
   "execution_count": 46,
   "metadata": {},
   "outputs": [],
   "source": [
    "from sklearn.metrics import fbeta_score, make_scorer\n",
    "ftwo_scorer = make_scorer(fbeta_score, beta=2)"
   ]
  },
  {
   "cell_type": "code",
   "execution_count": 47,
   "metadata": {},
   "outputs": [],
   "source": [
    "from pdpipe.skintegrate import pdpipe_scorer_from_sklearn_scorer"
   ]
  },
  {
   "cell_type": "code",
   "execution_count": 48,
   "metadata": {},
   "outputs": [],
   "source": [
    "my_scorer = pdpipe_scorer_from_sklearn_scorer(ftwo_scorer)"
   ]
  },
  {
   "cell_type": "code",
   "execution_count": 49,
   "metadata": {},
   "outputs": [
    {
     "data": {
      "text/plain": [
       "<PdPipeScorer: make_scorer(fbeta_score, beta=2)>"
      ]
     },
     "execution_count": 49,
     "metadata": {},
     "output_type": "execute_result"
    }
   ],
   "source": [
    "my_scorer"
   ]
  },
  {
   "cell_type": "code",
   "execution_count": 50,
   "metadata": {},
   "outputs": [],
   "source": [
    "gcv = GridSearchCV(\n",
    "    estimator=mp,\n",
    "    param_grid={\n",
    "        'savings_max_val': [99, 101],\n",
    "        'standardize': [True, False],\n",
    "        'drop_gender': [True, False],\n",
    "        'ohencode_country': [True, False],\n",
    "    },\n",
    "    cv=3,\n",
    "    scoring=my_scorer,\n",
    ")"
   ]
  },
  {
   "cell_type": "code",
   "execution_count": 51,
   "metadata": {
    "tags": []
   },
   "outputs": [
    {
     "name": "stderr",
     "output_type": "stream",
     "text": [
      "/Users/shaypalachy/.pyenv/versions/3.10.2/envs/py3/lib/python3.10/site-packages/sklearn/model_selection/_split.py:676: UserWarning: The least populated class in y has only 1 members, which is less than n_splits=3.\n",
      "  warnings.warn(\n"
     ]
    },
    {
     "data": {
      "text/plain": [
       "GridSearchCV(cv=3,\n",
       "             ('estimator', <PdPipeline -> LogisticRegression>),\n",
       "             param_grid={'drop_gender': [True, False],\n",
       "                         'ohencode_country': [True, False],\n",
       "                         'savings_max_val': [99, 101],\n",
       "                         'standardize': [True, False]},\n",
       "             scoring=<PdPipeScorer: make_scorer(fbeta_score, beta=2)>)"
      ]
     },
     "execution_count": 51,
     "metadata": {},
     "output_type": "execute_result"
    }
   ],
   "source": [
    "gcv.fit(all_x, all_y)"
   ]
  },
  {
   "cell_type": "code",
   "execution_count": 52,
   "metadata": {},
   "outputs": [
    {
     "data": {
      "text/plain": [
       "0.4696969696969697"
      ]
     },
     "execution_count": 52,
     "metadata": {},
     "output_type": "execute_result"
    }
   ],
   "source": [
    "gcv.best_score_"
   ]
  },
  {
   "cell_type": "code",
   "execution_count": 53,
   "metadata": {},
   "outputs": [
    {
     "data": {
      "text/plain": [
       "{'mean_fit_time': array([0.05307118, 0.03644673, 0.03337034, 0.0356098 , 0.04166571,\n",
       "        0.03931141, 0.02765512, 0.02972627, 0.03123562, 0.0338273 ,\n",
       "        0.03886   , 0.03189699, 0.02733254, 0.02444871, 0.02577432,\n",
       "        0.0279762 ]),\n",
       " 'std_fit_time': array([0.00924213, 0.00277671, 0.00207793, 0.00062841, 0.00383829,\n",
       "        0.00626934, 0.00082305, 0.00084342, 0.00091409, 0.00686685,\n",
       "        0.00311812, 0.00268891, 0.00068973, 0.0008484 , 0.00182553,\n",
       "        0.00483225]),\n",
       " 'mean_score_time': array([0.04330166, 0.03260907, 0.02891628, 0.03044597, 0.03565907,\n",
       "        0.0308636 , 0.02348264, 0.02447963, 0.02342367, 0.02678943,\n",
       "        0.03016472, 0.02501202, 0.0223074 , 0.02032693, 0.02026264,\n",
       "        0.02425075]),\n",
       " 'std_score_time': array([0.00340723, 0.0050149 , 0.00104689, 0.00050366, 0.00299653,\n",
       "        0.00662635, 0.00075628, 0.0011864 , 0.0006002 , 0.0031599 ,\n",
       "        0.00213231, 0.00278666, 0.0004076 , 0.00061872, 0.00072998,\n",
       "        0.0057804 ]),\n",
       " 'param_drop_gender': masked_array(data=[True, True, True, True, True, True, True, True, False,\n",
       "                    False, False, False, False, False, False, False],\n",
       "              mask=[False, False, False, False, False, False, False, False,\n",
       "                    False, False, False, False, False, False, False, False],\n",
       "        fill_value='?',\n",
       "             dtype=object),\n",
       " 'param_ohencode_country': masked_array(data=[True, True, True, True, False, False, False, False,\n",
       "                    True, True, True, True, False, False, False, False],\n",
       "              mask=[False, False, False, False, False, False, False, False,\n",
       "                    False, False, False, False, False, False, False, False],\n",
       "        fill_value='?',\n",
       "             dtype=object),\n",
       " 'param_savings_max_val': masked_array(data=[99, 99, 101, 101, 99, 99, 101, 101, 99, 99, 101, 101,\n",
       "                    99, 99, 101, 101],\n",
       "              mask=[False, False, False, False, False, False, False, False,\n",
       "                    False, False, False, False, False, False, False, False],\n",
       "        fill_value='?',\n",
       "             dtype=object),\n",
       " 'param_standardize': masked_array(data=[True, False, True, False, True, False, True, False,\n",
       "                    True, False, True, False, True, False, True, False],\n",
       "              mask=[False, False, False, False, False, False, False, False,\n",
       "                    False, False, False, False, False, False, False, False],\n",
       "        fill_value='?',\n",
       "             dtype=object),\n",
       " 'params': [{'drop_gender': True,\n",
       "   'ohencode_country': True,\n",
       "   'savings_max_val': 99,\n",
       "   'standardize': True},\n",
       "  {'drop_gender': True,\n",
       "   'ohencode_country': True,\n",
       "   'savings_max_val': 99,\n",
       "   'standardize': False},\n",
       "  {'drop_gender': True,\n",
       "   'ohencode_country': True,\n",
       "   'savings_max_val': 101,\n",
       "   'standardize': True},\n",
       "  {'drop_gender': True,\n",
       "   'ohencode_country': True,\n",
       "   'savings_max_val': 101,\n",
       "   'standardize': False},\n",
       "  {'drop_gender': True,\n",
       "   'ohencode_country': False,\n",
       "   'savings_max_val': 99,\n",
       "   'standardize': True},\n",
       "  {'drop_gender': True,\n",
       "   'ohencode_country': False,\n",
       "   'savings_max_val': 99,\n",
       "   'standardize': False},\n",
       "  {'drop_gender': True,\n",
       "   'ohencode_country': False,\n",
       "   'savings_max_val': 101,\n",
       "   'standardize': True},\n",
       "  {'drop_gender': True,\n",
       "   'ohencode_country': False,\n",
       "   'savings_max_val': 101,\n",
       "   'standardize': False},\n",
       "  {'drop_gender': False,\n",
       "   'ohencode_country': True,\n",
       "   'savings_max_val': 99,\n",
       "   'standardize': True},\n",
       "  {'drop_gender': False,\n",
       "   'ohencode_country': True,\n",
       "   'savings_max_val': 99,\n",
       "   'standardize': False},\n",
       "  {'drop_gender': False,\n",
       "   'ohencode_country': True,\n",
       "   'savings_max_val': 101,\n",
       "   'standardize': True},\n",
       "  {'drop_gender': False,\n",
       "   'ohencode_country': True,\n",
       "   'savings_max_val': 101,\n",
       "   'standardize': False},\n",
       "  {'drop_gender': False,\n",
       "   'ohencode_country': False,\n",
       "   'savings_max_val': 99,\n",
       "   'standardize': True},\n",
       "  {'drop_gender': False,\n",
       "   'ohencode_country': False,\n",
       "   'savings_max_val': 99,\n",
       "   'standardize': False},\n",
       "  {'drop_gender': False,\n",
       "   'ohencode_country': False,\n",
       "   'savings_max_val': 101,\n",
       "   'standardize': True},\n",
       "  {'drop_gender': False,\n",
       "   'ohencode_country': False,\n",
       "   'savings_max_val': 101,\n",
       "   'standardize': False}],\n",
       " 'split0_test_score': array([0.90909091, 0.90909091, 0.90909091, 0.90909091, 0.90909091,\n",
       "        0.90909091, 0.90909091, 0.90909091, 0.90909091, 0.90909091,\n",
       "        0.90909091, 0.90909091, 0.90909091, 0.90909091, 0.90909091,\n",
       "        0.90909091]),\n",
       " 'split1_test_score': array([0.5, 0.5, 0.5, 0.5, 0.5, 0.5, 0.5, 0.5, 0.5, 0.5, 0.5, 0.5, 0.5,\n",
       "        0.5, 0.5, 0.5]),\n",
       " 'split2_test_score': array([0., 0., 0., 0., 0., 0., 0., 0., 0., 0., 0., 0., 0., 0., 0., 0.]),\n",
       " 'mean_test_score': array([0.46969697, 0.46969697, 0.46969697, 0.46969697, 0.46969697,\n",
       "        0.46969697, 0.46969697, 0.46969697, 0.46969697, 0.46969697,\n",
       "        0.46969697, 0.46969697, 0.46969697, 0.46969697, 0.46969697,\n",
       "        0.46969697]),\n",
       " 'std_test_score': array([0.37175285, 0.37175285, 0.37175285, 0.37175285, 0.37175285,\n",
       "        0.37175285, 0.37175285, 0.37175285, 0.37175285, 0.37175285,\n",
       "        0.37175285, 0.37175285, 0.37175285, 0.37175285, 0.37175285,\n",
       "        0.37175285]),\n",
       " 'rank_test_score': array([1, 1, 1, 1, 1, 1, 1, 1, 1, 1, 1, 1, 1, 1, 1, 1], dtype=int32)}"
      ]
     },
     "execution_count": 53,
     "metadata": {},
     "output_type": "execute_result"
    }
   ],
   "source": [
    "gcv.cv_results_"
   ]
  },
  {
   "cell_type": "code",
   "execution_count": null,
   "metadata": {},
   "outputs": [],
   "source": []
  }
 ],
 "metadata": {
  "kernelspec": {
   "display_name": "py3",
   "language": "python",
   "name": "py3"
  },
  "language_info": {
   "codemirror_mode": {
    "name": "ipython",
    "version": 3
   },
   "file_extension": ".py",
   "mimetype": "text/x-python",
   "name": "python",
   "nbconvert_exporter": "python",
   "pygments_lexer": "ipython3",
   "version": "3.10.2"
  }
 },
 "nbformat": 4,
 "nbformat_minor": 4
}
