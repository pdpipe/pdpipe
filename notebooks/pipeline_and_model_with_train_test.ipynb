{
 "cells": [
  {
   "cell_type": "code",
   "execution_count": 1,
   "metadata": {},
   "outputs": [],
   "source": [
    "from typing import Optional"
   ]
  },
  {
   "cell_type": "code",
   "execution_count": 2,
   "metadata": {},
   "outputs": [],
   "source": [
    "from sklearn.linear_model import LogisticRegression"
   ]
  },
  {
   "cell_type": "code",
   "execution_count": 3,
   "metadata": {},
   "outputs": [],
   "source": [
    "import pdpipe as pdp\n",
    "from pdpipe.skintegrate import PdPipelineAndSklearnEstimator"
   ]
  },
  {
   "cell_type": "code",
   "execution_count": 4,
   "metadata": {},
   "outputs": [],
   "source": [
    "# pdp.Bin?"
   ]
  },
  {
   "cell_type": "code",
   "execution_count": 5,
   "metadata": {},
   "outputs": [],
   "source": [
    "class MyPipelineAndModel(PdPipelineAndSklearnEstimator):\n",
    "    \n",
    "    def __init__(\n",
    "        self,\n",
    "        savings_max_val: Optional[int] = 100,\n",
    "        drop_gender: Optional[bool] = False,\n",
    "        scale_numeric: Optional[bool] = False,\n",
    "        ohencode_country: Optional[bool] = True,\n",
    "        savings_bin_val: Optional[int] = None,\n",
    "        fit_intercept: Optional[bool] = True,\n",
    "    ):\n",
    "        self.savings_max_val = savings_max_val\n",
    "        self.drop_gender = drop_gender\n",
    "        self.scale_numeric = scale_numeric\n",
    "        self.ohencode_country = ohencode_country\n",
    "        self.savings_bin_val = savings_bin_val\n",
    "        self.fit_intercept = fit_intercept\n",
    "        cols_to_drop = []\n",
    "        stages = [\n",
    "            pdp.ColDrop(['Name', 'Quote'], errors='ignore'),\n",
    "#             pdp.RowDrop({'Savings': lambda x: x > savings_max_val}),\n",
    "        ]\n",
    "        if savings_bin_val:\n",
    "            stages.append(pdp.Bin({'Savings': [savings_bin_val]}, drop=False))\n",
    "            stages.append(pdp.Encode('Savings_bin'))\n",
    "        if scale_numeric:\n",
    "            stages.append(pdp.Scale('MinMaxScaler'))\n",
    "        if drop_gender:\n",
    "            cols_to_drop.append('Gender')\n",
    "        else:\n",
    "            stages.append(pdp.Encode('Gender'))\n",
    "        if ohencode_country:\n",
    "            stages.append(pdp.OneHotEncode('Country'))\n",
    "        else:\n",
    "            cols_to_drop.append('Country')\n",
    "        stages.append(pdp.ColDrop(cols_to_drop, errors='ignore'))\n",
    "        pline = pdp.PdPipeline(stages)\n",
    "        model = LogisticRegression(fit_intercept=fit_intercept)\n",
    "        super().__init__(pipeline=pline, estimator=model)"
   ]
  },
  {
   "cell_type": "code",
   "execution_count": 6,
   "metadata": {},
   "outputs": [],
   "source": [
    "mp = MyPipelineAndModel(\n",
    "    savings_max_val=101,\n",
    "    drop_gender=True,\n",
    "    scale_numeric=True,\n",
    "    ohencode_country=True,\n",
    "    savings_bin_val=1,\n",
    "    fit_intercept=True,\n",
    ")"
   ]
  },
  {
   "cell_type": "code",
   "execution_count": 7,
   "metadata": {},
   "outputs": [
    {
     "data": {
      "text/plain": [
       "<PdPipeline -> LogisticRegression>"
      ]
     },
     "execution_count": 7,
     "metadata": {},
     "output_type": "execute_result"
    }
   ],
   "source": [
    "mp"
   ]
  },
  {
   "cell_type": "code",
   "execution_count": 8,
   "metadata": {},
   "outputs": [
    {
     "data": {
      "text/plain": [
       "A pdpipe pipeline:\n",
       "[ 0]  Drop columns Name, Quote\n",
       "[ 1]  Bin Savings by [1].\n",
       "[ 2]  Encode Savings_bin\n",
       "[ 3]  Scale columns Columns of dtypes <class 'numpy.number'>\n",
       "[ 4]  One-hot encode Country\n",
       "[ 5]  Drop columns Gender"
      ]
     },
     "execution_count": 8,
     "metadata": {},
     "output_type": "execute_result"
    }
   ],
   "source": [
    "mp.pipeline"
   ]
  },
  {
   "cell_type": "code",
   "execution_count": 9,
   "metadata": {},
   "outputs": [
    {
     "data": {
      "text/plain": [
       "LogisticRegression()"
      ]
     },
     "execution_count": 9,
     "metadata": {},
     "output_type": "execute_result"
    }
   ],
   "source": [
    "mp.estimator"
   ]
  },
  {
   "cell_type": "code",
   "execution_count": 10,
   "metadata": {},
   "outputs": [
    {
     "data": {
      "text/plain": [
       "\u001b[0;31mSignature:\u001b[0m \u001b[0mmp\u001b[0m\u001b[0;34m.\u001b[0m\u001b[0mscore\u001b[0m\u001b[0;34m(\u001b[0m\u001b[0mX\u001b[0m\u001b[0;34m,\u001b[0m \u001b[0my\u001b[0m\u001b[0;34m=\u001b[0m\u001b[0;32mNone\u001b[0m\u001b[0;34m)\u001b[0m\u001b[0;34m\u001b[0m\u001b[0;34m\u001b[0m\u001b[0m\n",
       "\u001b[0;31mDocstring:\u001b[0m <no docstring>\n",
       "\u001b[0;31mFile:\u001b[0m      ~/clones/pdpipe/pdpipe/skintegrate.py\n",
       "\u001b[0;31mType:\u001b[0m      method\n"
      ]
     },
     "metadata": {},
     "output_type": "display_data"
    }
   ],
   "source": [
    "mp.score?"
   ]
  },
  {
   "cell_type": "markdown",
   "metadata": {},
   "source": [
    "## Test our custom estimator checks out"
   ]
  },
  {
   "cell_type": "code",
   "execution_count": 11,
   "metadata": {},
   "outputs": [],
   "source": [
    "from sklearn.utils.estimator_checks import check_estimator"
   ]
  },
  {
   "cell_type": "code",
   "execution_count": 12,
   "metadata": {},
   "outputs": [],
   "source": [
    "# check_estimator(mp)"
   ]
  },
  {
   "cell_type": "markdown",
   "metadata": {},
   "source": [
    "## Train-test for the pipeline"
   ]
  },
  {
   "cell_type": "code",
   "execution_count": 13,
   "metadata": {},
   "outputs": [],
   "source": [
    "import pandas as pd"
   ]
  },
  {
   "cell_type": "code",
   "execution_count": 14,
   "metadata": {},
   "outputs": [],
   "source": [
    "df = pd.DataFrame(\n",
    "    data=[\n",
    "        [23, 'Jo', 'M', True, 0.07, 'USA', 'Living life to its fullest'],\n",
    "        [52, 'Regina', 'F', False, 0.26, 'Germany', 'I hate cats'],\n",
    "        [23, 'Dana', 'F', True, 0.3, 'USA', 'the pen is mightier then the sword'],\n",
    "        [25, 'Bo', 'M', False, 2.3, 'Greece', 'all for one and one for all'],\n",
    "        [80, 'Richy', 'M', False, 100.2, 'Finland', 'I gots the dollarz'],\n",
    "        [60, 'Paul', 'M', True, 1.87, 'Denmark', 'blah'],\n",
    "        [44, 'Derek', 'M', True, 1.1, 'Denmark', 'every life is precious'],\n",
    "        [72, 'Regina', 'F', True, 7.1, 'Greece', 'all of you get off my porch'],\n",
    "        [50, 'Jim', 'M', False, 0.2, 'Germany', 'boy do I love dogs and cats'],\n",
    "        [80, 'Wealthus', 'F', False, 123.2, 'Finland', 'me likey them moniez'],\n",
    "    ],\n",
    "    columns=['Age', 'Name', 'Gender', 'Smoking', 'Savings', 'Country', 'Quote'],\n",
    ")"
   ]
  },
  {
   "cell_type": "code",
   "execution_count": 15,
   "metadata": {},
   "outputs": [
    {
     "data": {
      "text/html": [
       "<div>\n",
       "<style scoped>\n",
       "    .dataframe tbody tr th:only-of-type {\n",
       "        vertical-align: middle;\n",
       "    }\n",
       "\n",
       "    .dataframe tbody tr th {\n",
       "        vertical-align: top;\n",
       "    }\n",
       "\n",
       "    .dataframe thead th {\n",
       "        text-align: right;\n",
       "    }\n",
       "</style>\n",
       "<table border=\"1\" class=\"dataframe\">\n",
       "  <thead>\n",
       "    <tr style=\"text-align: right;\">\n",
       "      <th></th>\n",
       "      <th>Age</th>\n",
       "      <th>Name</th>\n",
       "      <th>Gender</th>\n",
       "      <th>Smoking</th>\n",
       "      <th>Savings</th>\n",
       "      <th>Country</th>\n",
       "      <th>Quote</th>\n",
       "    </tr>\n",
       "  </thead>\n",
       "  <tbody>\n",
       "    <tr>\n",
       "      <th>0</th>\n",
       "      <td>23</td>\n",
       "      <td>Jo</td>\n",
       "      <td>M</td>\n",
       "      <td>True</td>\n",
       "      <td>0.07</td>\n",
       "      <td>USA</td>\n",
       "      <td>Living life to its fullest</td>\n",
       "    </tr>\n",
       "    <tr>\n",
       "      <th>1</th>\n",
       "      <td>52</td>\n",
       "      <td>Regina</td>\n",
       "      <td>F</td>\n",
       "      <td>False</td>\n",
       "      <td>0.26</td>\n",
       "      <td>Germany</td>\n",
       "      <td>I hate cats</td>\n",
       "    </tr>\n",
       "    <tr>\n",
       "      <th>2</th>\n",
       "      <td>23</td>\n",
       "      <td>Dana</td>\n",
       "      <td>F</td>\n",
       "      <td>True</td>\n",
       "      <td>0.30</td>\n",
       "      <td>USA</td>\n",
       "      <td>the pen is mightier then the sword</td>\n",
       "    </tr>\n",
       "    <tr>\n",
       "      <th>3</th>\n",
       "      <td>25</td>\n",
       "      <td>Bo</td>\n",
       "      <td>M</td>\n",
       "      <td>False</td>\n",
       "      <td>2.30</td>\n",
       "      <td>Greece</td>\n",
       "      <td>all for one and one for all</td>\n",
       "    </tr>\n",
       "    <tr>\n",
       "      <th>4</th>\n",
       "      <td>80</td>\n",
       "      <td>Richy</td>\n",
       "      <td>M</td>\n",
       "      <td>False</td>\n",
       "      <td>100.20</td>\n",
       "      <td>Finland</td>\n",
       "      <td>I gots the dollarz</td>\n",
       "    </tr>\n",
       "    <tr>\n",
       "      <th>5</th>\n",
       "      <td>60</td>\n",
       "      <td>Paul</td>\n",
       "      <td>M</td>\n",
       "      <td>True</td>\n",
       "      <td>1.87</td>\n",
       "      <td>Denmark</td>\n",
       "      <td>blah</td>\n",
       "    </tr>\n",
       "    <tr>\n",
       "      <th>6</th>\n",
       "      <td>44</td>\n",
       "      <td>Derek</td>\n",
       "      <td>M</td>\n",
       "      <td>True</td>\n",
       "      <td>1.10</td>\n",
       "      <td>Denmark</td>\n",
       "      <td>every life is precious</td>\n",
       "    </tr>\n",
       "    <tr>\n",
       "      <th>7</th>\n",
       "      <td>72</td>\n",
       "      <td>Regina</td>\n",
       "      <td>F</td>\n",
       "      <td>True</td>\n",
       "      <td>7.10</td>\n",
       "      <td>Greece</td>\n",
       "      <td>all of you get off my porch</td>\n",
       "    </tr>\n",
       "    <tr>\n",
       "      <th>8</th>\n",
       "      <td>50</td>\n",
       "      <td>Jim</td>\n",
       "      <td>M</td>\n",
       "      <td>False</td>\n",
       "      <td>0.20</td>\n",
       "      <td>Germany</td>\n",
       "      <td>boy do I love dogs and cats</td>\n",
       "    </tr>\n",
       "    <tr>\n",
       "      <th>9</th>\n",
       "      <td>80</td>\n",
       "      <td>Wealthus</td>\n",
       "      <td>F</td>\n",
       "      <td>False</td>\n",
       "      <td>123.20</td>\n",
       "      <td>Finland</td>\n",
       "      <td>me likey them moniez</td>\n",
       "    </tr>\n",
       "  </tbody>\n",
       "</table>\n",
       "</div>"
      ],
      "text/plain": [
       "   Age      Name Gender  Smoking  Savings  Country  \\\n",
       "0   23        Jo      M     True     0.07      USA   \n",
       "1   52    Regina      F    False     0.26  Germany   \n",
       "2   23      Dana      F     True     0.30      USA   \n",
       "3   25        Bo      M    False     2.30   Greece   \n",
       "4   80     Richy      M    False   100.20  Finland   \n",
       "5   60      Paul      M     True     1.87  Denmark   \n",
       "6   44     Derek      M     True     1.10  Denmark   \n",
       "7   72    Regina      F     True     7.10   Greece   \n",
       "8   50       Jim      M    False     0.20  Germany   \n",
       "9   80  Wealthus      F    False   123.20  Finland   \n",
       "\n",
       "                                Quote  \n",
       "0          Living life to its fullest  \n",
       "1                         I hate cats  \n",
       "2  the pen is mightier then the sword  \n",
       "3         all for one and one for all  \n",
       "4                  I gots the dollarz  \n",
       "5                                blah  \n",
       "6              every life is precious  \n",
       "7         all of you get off my porch  \n",
       "8         boy do I love dogs and cats  \n",
       "9                me likey them moniez  "
      ]
     },
     "execution_count": 15,
     "metadata": {},
     "output_type": "execute_result"
    }
   ],
   "source": [
    "df"
   ]
  },
  {
   "cell_type": "code",
   "execution_count": 16,
   "metadata": {},
   "outputs": [
    {
     "data": {
      "text/html": [
       "<div>\n",
       "<style scoped>\n",
       "    .dataframe tbody tr th:only-of-type {\n",
       "        vertical-align: middle;\n",
       "    }\n",
       "\n",
       "    .dataframe tbody tr th {\n",
       "        vertical-align: top;\n",
       "    }\n",
       "\n",
       "    .dataframe thead th {\n",
       "        text-align: right;\n",
       "    }\n",
       "</style>\n",
       "<table border=\"1\" class=\"dataframe\">\n",
       "  <thead>\n",
       "    <tr style=\"text-align: right;\">\n",
       "      <th></th>\n",
       "      <th>Age</th>\n",
       "      <th>Smoking</th>\n",
       "      <th>Savings</th>\n",
       "      <th>Savings_bin</th>\n",
       "      <th>Country_Finland</th>\n",
       "      <th>Country_Germany</th>\n",
       "      <th>Country_Greece</th>\n",
       "      <th>Country_USA</th>\n",
       "    </tr>\n",
       "  </thead>\n",
       "  <tbody>\n",
       "    <tr>\n",
       "      <th>0</th>\n",
       "      <td>0.000000</td>\n",
       "      <td>True</td>\n",
       "      <td>0.000000</td>\n",
       "      <td>1.0</td>\n",
       "      <td>0</td>\n",
       "      <td>0</td>\n",
       "      <td>0</td>\n",
       "      <td>1</td>\n",
       "    </tr>\n",
       "    <tr>\n",
       "      <th>1</th>\n",
       "      <td>0.508772</td>\n",
       "      <td>False</td>\n",
       "      <td>0.001543</td>\n",
       "      <td>1.0</td>\n",
       "      <td>0</td>\n",
       "      <td>1</td>\n",
       "      <td>0</td>\n",
       "      <td>0</td>\n",
       "    </tr>\n",
       "    <tr>\n",
       "      <th>2</th>\n",
       "      <td>0.000000</td>\n",
       "      <td>True</td>\n",
       "      <td>0.001868</td>\n",
       "      <td>1.0</td>\n",
       "      <td>0</td>\n",
       "      <td>0</td>\n",
       "      <td>0</td>\n",
       "      <td>1</td>\n",
       "    </tr>\n",
       "    <tr>\n",
       "      <th>3</th>\n",
       "      <td>0.035088</td>\n",
       "      <td>False</td>\n",
       "      <td>0.018111</td>\n",
       "      <td>0.0</td>\n",
       "      <td>0</td>\n",
       "      <td>0</td>\n",
       "      <td>1</td>\n",
       "      <td>0</td>\n",
       "    </tr>\n",
       "    <tr>\n",
       "      <th>4</th>\n",
       "      <td>1.000000</td>\n",
       "      <td>False</td>\n",
       "      <td>0.813206</td>\n",
       "      <td>0.0</td>\n",
       "      <td>1</td>\n",
       "      <td>0</td>\n",
       "      <td>0</td>\n",
       "      <td>0</td>\n",
       "    </tr>\n",
       "    <tr>\n",
       "      <th>5</th>\n",
       "      <td>0.649123</td>\n",
       "      <td>True</td>\n",
       "      <td>0.014619</td>\n",
       "      <td>0.0</td>\n",
       "      <td>0</td>\n",
       "      <td>0</td>\n",
       "      <td>0</td>\n",
       "      <td>0</td>\n",
       "    </tr>\n",
       "    <tr>\n",
       "      <th>6</th>\n",
       "      <td>0.368421</td>\n",
       "      <td>True</td>\n",
       "      <td>0.008365</td>\n",
       "      <td>0.0</td>\n",
       "      <td>0</td>\n",
       "      <td>0</td>\n",
       "      <td>0</td>\n",
       "      <td>0</td>\n",
       "    </tr>\n",
       "    <tr>\n",
       "      <th>7</th>\n",
       "      <td>0.859649</td>\n",
       "      <td>True</td>\n",
       "      <td>0.057094</td>\n",
       "      <td>0.0</td>\n",
       "      <td>0</td>\n",
       "      <td>0</td>\n",
       "      <td>1</td>\n",
       "      <td>0</td>\n",
       "    </tr>\n",
       "    <tr>\n",
       "      <th>8</th>\n",
       "      <td>0.473684</td>\n",
       "      <td>False</td>\n",
       "      <td>0.001056</td>\n",
       "      <td>1.0</td>\n",
       "      <td>0</td>\n",
       "      <td>1</td>\n",
       "      <td>0</td>\n",
       "      <td>0</td>\n",
       "    </tr>\n",
       "    <tr>\n",
       "      <th>9</th>\n",
       "      <td>1.000000</td>\n",
       "      <td>False</td>\n",
       "      <td>1.000000</td>\n",
       "      <td>0.0</td>\n",
       "      <td>1</td>\n",
       "      <td>0</td>\n",
       "      <td>0</td>\n",
       "      <td>0</td>\n",
       "    </tr>\n",
       "  </tbody>\n",
       "</table>\n",
       "</div>"
      ],
      "text/plain": [
       "        Age  Smoking   Savings  Savings_bin  Country_Finland  Country_Germany  \\\n",
       "0  0.000000     True  0.000000          1.0                0                0   \n",
       "1  0.508772    False  0.001543          1.0                0                1   \n",
       "2  0.000000     True  0.001868          1.0                0                0   \n",
       "3  0.035088    False  0.018111          0.0                0                0   \n",
       "4  1.000000    False  0.813206          0.0                1                0   \n",
       "5  0.649123     True  0.014619          0.0                0                0   \n",
       "6  0.368421     True  0.008365          0.0                0                0   \n",
       "7  0.859649     True  0.057094          0.0                0                0   \n",
       "8  0.473684    False  0.001056          1.0                0                1   \n",
       "9  1.000000    False  1.000000          0.0                1                0   \n",
       "\n",
       "   Country_Greece  Country_USA  \n",
       "0               0            1  \n",
       "1               0            0  \n",
       "2               0            1  \n",
       "3               1            0  \n",
       "4               0            0  \n",
       "5               0            0  \n",
       "6               0            0  \n",
       "7               1            0  \n",
       "8               0            0  \n",
       "9               0            0  "
      ]
     },
     "execution_count": 16,
     "metadata": {},
     "output_type": "execute_result"
    }
   ],
   "source": [
    "mp.pipeline(df)"
   ]
  },
  {
   "cell_type": "code",
   "execution_count": 17,
   "metadata": {},
   "outputs": [
    {
     "data": {
      "text/html": [
       "<div>\n",
       "<style scoped>\n",
       "    .dataframe tbody tr th:only-of-type {\n",
       "        vertical-align: middle;\n",
       "    }\n",
       "\n",
       "    .dataframe tbody tr th {\n",
       "        vertical-align: top;\n",
       "    }\n",
       "\n",
       "    .dataframe thead th {\n",
       "        text-align: right;\n",
       "    }\n",
       "</style>\n",
       "<table border=\"1\" class=\"dataframe\">\n",
       "  <thead>\n",
       "    <tr style=\"text-align: right;\">\n",
       "      <th></th>\n",
       "      <th>Age</th>\n",
       "      <th>Gender</th>\n",
       "      <th>Smoking</th>\n",
       "      <th>Savings</th>\n",
       "      <th>Savings_bin</th>\n",
       "      <th>Country</th>\n",
       "    </tr>\n",
       "  </thead>\n",
       "  <tbody>\n",
       "    <tr>\n",
       "      <th>0</th>\n",
       "      <td>0.000000</td>\n",
       "      <td>M</td>\n",
       "      <td>True</td>\n",
       "      <td>0.000000</td>\n",
       "      <td>1.0</td>\n",
       "      <td>USA</td>\n",
       "    </tr>\n",
       "    <tr>\n",
       "      <th>1</th>\n",
       "      <td>0.508772</td>\n",
       "      <td>F</td>\n",
       "      <td>False</td>\n",
       "      <td>0.001543</td>\n",
       "      <td>1.0</td>\n",
       "      <td>Germany</td>\n",
       "    </tr>\n",
       "    <tr>\n",
       "      <th>2</th>\n",
       "      <td>0.000000</td>\n",
       "      <td>F</td>\n",
       "      <td>True</td>\n",
       "      <td>0.001868</td>\n",
       "      <td>1.0</td>\n",
       "      <td>USA</td>\n",
       "    </tr>\n",
       "    <tr>\n",
       "      <th>3</th>\n",
       "      <td>0.035088</td>\n",
       "      <td>M</td>\n",
       "      <td>False</td>\n",
       "      <td>0.018111</td>\n",
       "      <td>0.0</td>\n",
       "      <td>Greece</td>\n",
       "    </tr>\n",
       "    <tr>\n",
       "      <th>4</th>\n",
       "      <td>1.000000</td>\n",
       "      <td>M</td>\n",
       "      <td>False</td>\n",
       "      <td>0.813206</td>\n",
       "      <td>0.0</td>\n",
       "      <td>Finland</td>\n",
       "    </tr>\n",
       "    <tr>\n",
       "      <th>5</th>\n",
       "      <td>0.649123</td>\n",
       "      <td>M</td>\n",
       "      <td>True</td>\n",
       "      <td>0.014619</td>\n",
       "      <td>0.0</td>\n",
       "      <td>Denmark</td>\n",
       "    </tr>\n",
       "    <tr>\n",
       "      <th>6</th>\n",
       "      <td>0.368421</td>\n",
       "      <td>M</td>\n",
       "      <td>True</td>\n",
       "      <td>0.008365</td>\n",
       "      <td>0.0</td>\n",
       "      <td>Denmark</td>\n",
       "    </tr>\n",
       "    <tr>\n",
       "      <th>7</th>\n",
       "      <td>0.859649</td>\n",
       "      <td>F</td>\n",
       "      <td>True</td>\n",
       "      <td>0.057094</td>\n",
       "      <td>0.0</td>\n",
       "      <td>Greece</td>\n",
       "    </tr>\n",
       "    <tr>\n",
       "      <th>8</th>\n",
       "      <td>0.473684</td>\n",
       "      <td>M</td>\n",
       "      <td>False</td>\n",
       "      <td>0.001056</td>\n",
       "      <td>1.0</td>\n",
       "      <td>Germany</td>\n",
       "    </tr>\n",
       "    <tr>\n",
       "      <th>9</th>\n",
       "      <td>1.000000</td>\n",
       "      <td>F</td>\n",
       "      <td>False</td>\n",
       "      <td>1.000000</td>\n",
       "      <td>0.0</td>\n",
       "      <td>Finland</td>\n",
       "    </tr>\n",
       "  </tbody>\n",
       "</table>\n",
       "</div>"
      ],
      "text/plain": [
       "        Age Gender  Smoking   Savings  Savings_bin  Country\n",
       "0  0.000000      M     True  0.000000          1.0      USA\n",
       "1  0.508772      F    False  0.001543          1.0  Germany\n",
       "2  0.000000      F     True  0.001868          1.0      USA\n",
       "3  0.035088      M    False  0.018111          0.0   Greece\n",
       "4  1.000000      M    False  0.813206          0.0  Finland\n",
       "5  0.649123      M     True  0.014619          0.0  Denmark\n",
       "6  0.368421      M     True  0.008365          0.0  Denmark\n",
       "7  0.859649      F     True  0.057094          0.0   Greece\n",
       "8  0.473684      M    False  0.001056          1.0  Germany\n",
       "9  1.000000      F    False  1.000000          0.0  Finland"
      ]
     },
     "execution_count": 17,
     "metadata": {},
     "output_type": "execute_result"
    }
   ],
   "source": [
    "mp.pipeline[0:4](df)"
   ]
  },
  {
   "cell_type": "code",
   "execution_count": 18,
   "metadata": {},
   "outputs": [],
   "source": [
    "x_lbls = ['Age', 'Gender', 'Savings', 'Country']"
   ]
  },
  {
   "cell_type": "code",
   "execution_count": 19,
   "metadata": {},
   "outputs": [],
   "source": [
    "all_x = df[x_lbls]\n",
    "all_y = df['Smoking']"
   ]
  },
  {
   "cell_type": "code",
   "execution_count": 20,
   "metadata": {},
   "outputs": [
    {
     "data": {
      "text/html": [
       "<div>\n",
       "<style scoped>\n",
       "    .dataframe tbody tr th:only-of-type {\n",
       "        vertical-align: middle;\n",
       "    }\n",
       "\n",
       "    .dataframe tbody tr th {\n",
       "        vertical-align: top;\n",
       "    }\n",
       "\n",
       "    .dataframe thead th {\n",
       "        text-align: right;\n",
       "    }\n",
       "</style>\n",
       "<table border=\"1\" class=\"dataframe\">\n",
       "  <thead>\n",
       "    <tr style=\"text-align: right;\">\n",
       "      <th></th>\n",
       "      <th>Age</th>\n",
       "      <th>Name</th>\n",
       "      <th>Gender</th>\n",
       "      <th>Smoking</th>\n",
       "      <th>Savings</th>\n",
       "      <th>Country</th>\n",
       "      <th>Quote</th>\n",
       "    </tr>\n",
       "  </thead>\n",
       "  <tbody>\n",
       "    <tr>\n",
       "      <th>0</th>\n",
       "      <td>23</td>\n",
       "      <td>Jo</td>\n",
       "      <td>M</td>\n",
       "      <td>True</td>\n",
       "      <td>0.07</td>\n",
       "      <td>USA</td>\n",
       "      <td>Living life to its fullest</td>\n",
       "    </tr>\n",
       "    <tr>\n",
       "      <th>1</th>\n",
       "      <td>52</td>\n",
       "      <td>Regina</td>\n",
       "      <td>F</td>\n",
       "      <td>False</td>\n",
       "      <td>0.26</td>\n",
       "      <td>Germany</td>\n",
       "      <td>I hate cats</td>\n",
       "    </tr>\n",
       "    <tr>\n",
       "      <th>2</th>\n",
       "      <td>23</td>\n",
       "      <td>Dana</td>\n",
       "      <td>F</td>\n",
       "      <td>True</td>\n",
       "      <td>0.30</td>\n",
       "      <td>USA</td>\n",
       "      <td>the pen is mightier then the sword</td>\n",
       "    </tr>\n",
       "    <tr>\n",
       "      <th>3</th>\n",
       "      <td>25</td>\n",
       "      <td>Bo</td>\n",
       "      <td>M</td>\n",
       "      <td>False</td>\n",
       "      <td>2.30</td>\n",
       "      <td>Greece</td>\n",
       "      <td>all for one and one for all</td>\n",
       "    </tr>\n",
       "    <tr>\n",
       "      <th>4</th>\n",
       "      <td>80</td>\n",
       "      <td>Richy</td>\n",
       "      <td>M</td>\n",
       "      <td>False</td>\n",
       "      <td>100.20</td>\n",
       "      <td>Finland</td>\n",
       "      <td>I gots the dollarz</td>\n",
       "    </tr>\n",
       "    <tr>\n",
       "      <th>5</th>\n",
       "      <td>60</td>\n",
       "      <td>Paul</td>\n",
       "      <td>M</td>\n",
       "      <td>True</td>\n",
       "      <td>1.87</td>\n",
       "      <td>Denmark</td>\n",
       "      <td>blah</td>\n",
       "    </tr>\n",
       "  </tbody>\n",
       "</table>\n",
       "</div>"
      ],
      "text/plain": [
       "   Age    Name Gender  Smoking  Savings  Country  \\\n",
       "0   23      Jo      M     True     0.07      USA   \n",
       "1   52  Regina      F    False     0.26  Germany   \n",
       "2   23    Dana      F     True     0.30      USA   \n",
       "3   25      Bo      M    False     2.30   Greece   \n",
       "4   80   Richy      M    False   100.20  Finland   \n",
       "5   60    Paul      M     True     1.87  Denmark   \n",
       "\n",
       "                                Quote  \n",
       "0          Living life to its fullest  \n",
       "1                         I hate cats  \n",
       "2  the pen is mightier then the sword  \n",
       "3         all for one and one for all  \n",
       "4                  I gots the dollarz  \n",
       "5                                blah  "
      ]
     },
     "execution_count": 20,
     "metadata": {},
     "output_type": "execute_result"
    }
   ],
   "source": [
    "train_df = df.iloc[0:6]\n",
    "train_df"
   ]
  },
  {
   "cell_type": "code",
   "execution_count": 21,
   "metadata": {},
   "outputs": [
    {
     "data": {
      "text/html": [
       "<div>\n",
       "<style scoped>\n",
       "    .dataframe tbody tr th:only-of-type {\n",
       "        vertical-align: middle;\n",
       "    }\n",
       "\n",
       "    .dataframe tbody tr th {\n",
       "        vertical-align: top;\n",
       "    }\n",
       "\n",
       "    .dataframe thead th {\n",
       "        text-align: right;\n",
       "    }\n",
       "</style>\n",
       "<table border=\"1\" class=\"dataframe\">\n",
       "  <thead>\n",
       "    <tr style=\"text-align: right;\">\n",
       "      <th></th>\n",
       "      <th>Age</th>\n",
       "      <th>Gender</th>\n",
       "      <th>Savings</th>\n",
       "      <th>Country</th>\n",
       "    </tr>\n",
       "  </thead>\n",
       "  <tbody>\n",
       "    <tr>\n",
       "      <th>0</th>\n",
       "      <td>23</td>\n",
       "      <td>M</td>\n",
       "      <td>0.07</td>\n",
       "      <td>USA</td>\n",
       "    </tr>\n",
       "    <tr>\n",
       "      <th>1</th>\n",
       "      <td>52</td>\n",
       "      <td>F</td>\n",
       "      <td>0.26</td>\n",
       "      <td>Germany</td>\n",
       "    </tr>\n",
       "    <tr>\n",
       "      <th>2</th>\n",
       "      <td>23</td>\n",
       "      <td>F</td>\n",
       "      <td>0.30</td>\n",
       "      <td>USA</td>\n",
       "    </tr>\n",
       "    <tr>\n",
       "      <th>3</th>\n",
       "      <td>25</td>\n",
       "      <td>M</td>\n",
       "      <td>2.30</td>\n",
       "      <td>Greece</td>\n",
       "    </tr>\n",
       "    <tr>\n",
       "      <th>4</th>\n",
       "      <td>80</td>\n",
       "      <td>M</td>\n",
       "      <td>100.20</td>\n",
       "      <td>Finland</td>\n",
       "    </tr>\n",
       "    <tr>\n",
       "      <th>5</th>\n",
       "      <td>60</td>\n",
       "      <td>M</td>\n",
       "      <td>1.87</td>\n",
       "      <td>Denmark</td>\n",
       "    </tr>\n",
       "  </tbody>\n",
       "</table>\n",
       "</div>"
      ],
      "text/plain": [
       "   Age Gender  Savings  Country\n",
       "0   23      M     0.07      USA\n",
       "1   52      F     0.26  Germany\n",
       "2   23      F     0.30      USA\n",
       "3   25      M     2.30   Greece\n",
       "4   80      M   100.20  Finland\n",
       "5   60      M     1.87  Denmark"
      ]
     },
     "execution_count": 21,
     "metadata": {},
     "output_type": "execute_result"
    }
   ],
   "source": [
    "train_x = train_df[x_lbls]\n",
    "train_x"
   ]
  },
  {
   "cell_type": "code",
   "execution_count": 22,
   "metadata": {},
   "outputs": [
    {
     "data": {
      "text/plain": [
       "0     True\n",
       "1    False\n",
       "2     True\n",
       "3    False\n",
       "4    False\n",
       "5     True\n",
       "Name: Smoking, dtype: bool"
      ]
     },
     "execution_count": 22,
     "metadata": {},
     "output_type": "execute_result"
    }
   ],
   "source": [
    "train_y = train_df['Smoking']\n",
    "train_y"
   ]
  },
  {
   "cell_type": "code",
   "execution_count": 23,
   "metadata": {},
   "outputs": [
    {
     "data": {
      "text/html": [
       "<div>\n",
       "<style scoped>\n",
       "    .dataframe tbody tr th:only-of-type {\n",
       "        vertical-align: middle;\n",
       "    }\n",
       "\n",
       "    .dataframe tbody tr th {\n",
       "        vertical-align: top;\n",
       "    }\n",
       "\n",
       "    .dataframe thead th {\n",
       "        text-align: right;\n",
       "    }\n",
       "</style>\n",
       "<table border=\"1\" class=\"dataframe\">\n",
       "  <thead>\n",
       "    <tr style=\"text-align: right;\">\n",
       "      <th></th>\n",
       "      <th>Age</th>\n",
       "      <th>Name</th>\n",
       "      <th>Gender</th>\n",
       "      <th>Smoking</th>\n",
       "      <th>Savings</th>\n",
       "      <th>Country</th>\n",
       "      <th>Quote</th>\n",
       "    </tr>\n",
       "  </thead>\n",
       "  <tbody>\n",
       "    <tr>\n",
       "      <th>6</th>\n",
       "      <td>44</td>\n",
       "      <td>Derek</td>\n",
       "      <td>M</td>\n",
       "      <td>True</td>\n",
       "      <td>1.1</td>\n",
       "      <td>Denmark</td>\n",
       "      <td>every life is precious</td>\n",
       "    </tr>\n",
       "    <tr>\n",
       "      <th>7</th>\n",
       "      <td>72</td>\n",
       "      <td>Regina</td>\n",
       "      <td>F</td>\n",
       "      <td>True</td>\n",
       "      <td>7.1</td>\n",
       "      <td>Greece</td>\n",
       "      <td>all of you get off my porch</td>\n",
       "    </tr>\n",
       "    <tr>\n",
       "      <th>8</th>\n",
       "      <td>50</td>\n",
       "      <td>Jim</td>\n",
       "      <td>M</td>\n",
       "      <td>False</td>\n",
       "      <td>0.2</td>\n",
       "      <td>Germany</td>\n",
       "      <td>boy do I love dogs and cats</td>\n",
       "    </tr>\n",
       "    <tr>\n",
       "      <th>9</th>\n",
       "      <td>80</td>\n",
       "      <td>Wealthus</td>\n",
       "      <td>F</td>\n",
       "      <td>False</td>\n",
       "      <td>123.2</td>\n",
       "      <td>Finland</td>\n",
       "      <td>me likey them moniez</td>\n",
       "    </tr>\n",
       "  </tbody>\n",
       "</table>\n",
       "</div>"
      ],
      "text/plain": [
       "   Age      Name Gender  Smoking  Savings  Country  \\\n",
       "6   44     Derek      M     True      1.1  Denmark   \n",
       "7   72    Regina      F     True      7.1   Greece   \n",
       "8   50       Jim      M    False      0.2  Germany   \n",
       "9   80  Wealthus      F    False    123.2  Finland   \n",
       "\n",
       "                         Quote  \n",
       "6       every life is precious  \n",
       "7  all of you get off my porch  \n",
       "8  boy do I love dogs and cats  \n",
       "9         me likey them moniez  "
      ]
     },
     "execution_count": 23,
     "metadata": {},
     "output_type": "execute_result"
    }
   ],
   "source": [
    "test_df = df.iloc[6:]\n",
    "test_df"
   ]
  },
  {
   "cell_type": "code",
   "execution_count": 24,
   "metadata": {},
   "outputs": [
    {
     "data": {
      "text/html": [
       "<div>\n",
       "<style scoped>\n",
       "    .dataframe tbody tr th:only-of-type {\n",
       "        vertical-align: middle;\n",
       "    }\n",
       "\n",
       "    .dataframe tbody tr th {\n",
       "        vertical-align: top;\n",
       "    }\n",
       "\n",
       "    .dataframe thead th {\n",
       "        text-align: right;\n",
       "    }\n",
       "</style>\n",
       "<table border=\"1\" class=\"dataframe\">\n",
       "  <thead>\n",
       "    <tr style=\"text-align: right;\">\n",
       "      <th></th>\n",
       "      <th>Age</th>\n",
       "      <th>Gender</th>\n",
       "      <th>Savings</th>\n",
       "      <th>Country</th>\n",
       "    </tr>\n",
       "  </thead>\n",
       "  <tbody>\n",
       "    <tr>\n",
       "      <th>6</th>\n",
       "      <td>44</td>\n",
       "      <td>M</td>\n",
       "      <td>1.1</td>\n",
       "      <td>Denmark</td>\n",
       "    </tr>\n",
       "    <tr>\n",
       "      <th>7</th>\n",
       "      <td>72</td>\n",
       "      <td>F</td>\n",
       "      <td>7.1</td>\n",
       "      <td>Greece</td>\n",
       "    </tr>\n",
       "    <tr>\n",
       "      <th>8</th>\n",
       "      <td>50</td>\n",
       "      <td>M</td>\n",
       "      <td>0.2</td>\n",
       "      <td>Germany</td>\n",
       "    </tr>\n",
       "    <tr>\n",
       "      <th>9</th>\n",
       "      <td>80</td>\n",
       "      <td>F</td>\n",
       "      <td>123.2</td>\n",
       "      <td>Finland</td>\n",
       "    </tr>\n",
       "  </tbody>\n",
       "</table>\n",
       "</div>"
      ],
      "text/plain": [
       "   Age Gender  Savings  Country\n",
       "6   44      M      1.1  Denmark\n",
       "7   72      F      7.1   Greece\n",
       "8   50      M      0.2  Germany\n",
       "9   80      F    123.2  Finland"
      ]
     },
     "execution_count": 24,
     "metadata": {},
     "output_type": "execute_result"
    }
   ],
   "source": [
    "test_x = test_df[x_lbls]\n",
    "test_x"
   ]
  },
  {
   "cell_type": "code",
   "execution_count": 25,
   "metadata": {},
   "outputs": [
    {
     "data": {
      "text/plain": [
       "6     True\n",
       "7     True\n",
       "8    False\n",
       "9    False\n",
       "Name: Smoking, dtype: bool"
      ]
     },
     "execution_count": 25,
     "metadata": {},
     "output_type": "execute_result"
    }
   ],
   "source": [
    "test_y = test_df['Smoking']\n",
    "test_y"
   ]
  },
  {
   "cell_type": "code",
   "execution_count": 26,
   "metadata": {},
   "outputs": [
    {
     "data": {
      "text/html": [
       "<div>\n",
       "<style scoped>\n",
       "    .dataframe tbody tr th:only-of-type {\n",
       "        vertical-align: middle;\n",
       "    }\n",
       "\n",
       "    .dataframe tbody tr th {\n",
       "        vertical-align: top;\n",
       "    }\n",
       "\n",
       "    .dataframe thead th {\n",
       "        text-align: right;\n",
       "    }\n",
       "</style>\n",
       "<table border=\"1\" class=\"dataframe\">\n",
       "  <thead>\n",
       "    <tr style=\"text-align: right;\">\n",
       "      <th></th>\n",
       "      <th>Age</th>\n",
       "      <th>Savings</th>\n",
       "      <th>Savings_bin</th>\n",
       "      <th>Country_Finland</th>\n",
       "      <th>Country_Germany</th>\n",
       "      <th>Country_Greece</th>\n",
       "      <th>Country_USA</th>\n",
       "    </tr>\n",
       "  </thead>\n",
       "  <tbody>\n",
       "    <tr>\n",
       "      <th>0</th>\n",
       "      <td>0.000000</td>\n",
       "      <td>0.000000</td>\n",
       "      <td>1.0</td>\n",
       "      <td>0</td>\n",
       "      <td>0</td>\n",
       "      <td>0</td>\n",
       "      <td>1</td>\n",
       "    </tr>\n",
       "    <tr>\n",
       "      <th>1</th>\n",
       "      <td>0.508772</td>\n",
       "      <td>0.001898</td>\n",
       "      <td>1.0</td>\n",
       "      <td>0</td>\n",
       "      <td>1</td>\n",
       "      <td>0</td>\n",
       "      <td>0</td>\n",
       "    </tr>\n",
       "    <tr>\n",
       "      <th>2</th>\n",
       "      <td>0.000000</td>\n",
       "      <td>0.002297</td>\n",
       "      <td>1.0</td>\n",
       "      <td>0</td>\n",
       "      <td>0</td>\n",
       "      <td>0</td>\n",
       "      <td>1</td>\n",
       "    </tr>\n",
       "    <tr>\n",
       "      <th>3</th>\n",
       "      <td>0.035088</td>\n",
       "      <td>0.022271</td>\n",
       "      <td>0.0</td>\n",
       "      <td>0</td>\n",
       "      <td>0</td>\n",
       "      <td>1</td>\n",
       "      <td>0</td>\n",
       "    </tr>\n",
       "    <tr>\n",
       "      <th>4</th>\n",
       "      <td>1.000000</td>\n",
       "      <td>1.000000</td>\n",
       "      <td>0.0</td>\n",
       "      <td>1</td>\n",
       "      <td>0</td>\n",
       "      <td>0</td>\n",
       "      <td>0</td>\n",
       "    </tr>\n",
       "    <tr>\n",
       "      <th>5</th>\n",
       "      <td>0.649123</td>\n",
       "      <td>0.017977</td>\n",
       "      <td>0.0</td>\n",
       "      <td>0</td>\n",
       "      <td>0</td>\n",
       "      <td>0</td>\n",
       "      <td>0</td>\n",
       "    </tr>\n",
       "  </tbody>\n",
       "</table>\n",
       "</div>"
      ],
      "text/plain": [
       "        Age   Savings  Savings_bin  Country_Finland  Country_Germany  \\\n",
       "0  0.000000  0.000000          1.0                0                0   \n",
       "1  0.508772  0.001898          1.0                0                1   \n",
       "2  0.000000  0.002297          1.0                0                0   \n",
       "3  0.035088  0.022271          0.0                0                0   \n",
       "4  1.000000  1.000000          0.0                1                0   \n",
       "5  0.649123  0.017977          0.0                0                0   \n",
       "\n",
       "   Country_Greece  Country_USA  \n",
       "0               0            1  \n",
       "1               0            0  \n",
       "2               0            1  \n",
       "3               1            0  \n",
       "4               0            0  \n",
       "5               0            0  "
      ]
     },
     "execution_count": 26,
     "metadata": {},
     "output_type": "execute_result"
    }
   ],
   "source": [
    "mp.pipeline.fit_transform(train_x)"
   ]
  },
  {
   "cell_type": "code",
   "execution_count": 27,
   "metadata": {},
   "outputs": [
    {
     "data": {
      "text/html": [
       "<div>\n",
       "<style scoped>\n",
       "    .dataframe tbody tr th:only-of-type {\n",
       "        vertical-align: middle;\n",
       "    }\n",
       "\n",
       "    .dataframe tbody tr th {\n",
       "        vertical-align: top;\n",
       "    }\n",
       "\n",
       "    .dataframe thead th {\n",
       "        text-align: right;\n",
       "    }\n",
       "</style>\n",
       "<table border=\"1\" class=\"dataframe\">\n",
       "  <thead>\n",
       "    <tr style=\"text-align: right;\">\n",
       "      <th></th>\n",
       "      <th>Age</th>\n",
       "      <th>Savings</th>\n",
       "      <th>Savings_bin</th>\n",
       "      <th>Country_Finland</th>\n",
       "      <th>Country_Germany</th>\n",
       "      <th>Country_Greece</th>\n",
       "      <th>Country_USA</th>\n",
       "    </tr>\n",
       "  </thead>\n",
       "  <tbody>\n",
       "    <tr>\n",
       "      <th>6</th>\n",
       "      <td>0.368421</td>\n",
       "      <td>0.010287</td>\n",
       "      <td>0.0</td>\n",
       "      <td>0</td>\n",
       "      <td>0</td>\n",
       "      <td>0</td>\n",
       "      <td>0</td>\n",
       "    </tr>\n",
       "    <tr>\n",
       "      <th>7</th>\n",
       "      <td>0.859649</td>\n",
       "      <td>0.070209</td>\n",
       "      <td>0.0</td>\n",
       "      <td>0</td>\n",
       "      <td>0</td>\n",
       "      <td>1</td>\n",
       "      <td>0</td>\n",
       "    </tr>\n",
       "    <tr>\n",
       "      <th>8</th>\n",
       "      <td>0.473684</td>\n",
       "      <td>0.001298</td>\n",
       "      <td>1.0</td>\n",
       "      <td>0</td>\n",
       "      <td>1</td>\n",
       "      <td>0</td>\n",
       "      <td>0</td>\n",
       "    </tr>\n",
       "    <tr>\n",
       "      <th>9</th>\n",
       "      <td>1.000000</td>\n",
       "      <td>1.229701</td>\n",
       "      <td>0.0</td>\n",
       "      <td>1</td>\n",
       "      <td>0</td>\n",
       "      <td>0</td>\n",
       "      <td>0</td>\n",
       "    </tr>\n",
       "  </tbody>\n",
       "</table>\n",
       "</div>"
      ],
      "text/plain": [
       "        Age   Savings  Savings_bin  Country_Finland  Country_Germany  \\\n",
       "6  0.368421  0.010287          0.0                0                0   \n",
       "7  0.859649  0.070209          0.0                0                0   \n",
       "8  0.473684  0.001298          1.0                0                1   \n",
       "9  1.000000  1.229701          0.0                1                0   \n",
       "\n",
       "   Country_Greece  Country_USA  \n",
       "6               0            0  \n",
       "7               1            0  \n",
       "8               0            0  \n",
       "9               0            0  "
      ]
     },
     "execution_count": 27,
     "metadata": {},
     "output_type": "execute_result"
    }
   ],
   "source": [
    "mp.pipeline.transform(test_x)"
   ]
  },
  {
   "cell_type": "markdown",
   "metadata": {},
   "source": [
    "## GridSearchCV"
   ]
  },
  {
   "cell_type": "code",
   "execution_count": 28,
   "metadata": {
    "tags": []
   },
   "outputs": [],
   "source": [
    "from sklearn.model_selection import GridSearchCV"
   ]
  },
  {
   "cell_type": "code",
   "execution_count": 29,
   "metadata": {
    "tags": []
   },
   "outputs": [],
   "source": [
    "gcv = GridSearchCV(\n",
    "    estimator=mp,\n",
    "    param_grid={\n",
    "        'savings_max_val': [99, 101],\n",
    "        'scale_numeric': [True, False],\n",
    "        'drop_gender': [True, False],\n",
    "        'ohencode_country': [True, False],\n",
    "    },\n",
    "    cv=3,\n",
    ")"
   ]
  },
  {
   "cell_type": "code",
   "execution_count": 30,
   "metadata": {},
   "outputs": [
    {
     "data": {
      "text/plain": [
       "GridSearchCV(cv=3,\n",
       "             ('estimator', <PdPipeline -> LogisticRegression>),\n",
       "             param_grid={'drop_gender': [True, False],\n",
       "                         'ohencode_country': [True, False],\n",
       "                         'savings_max_val': [99, 101],\n",
       "                         'scale_numeric': [True, False]})"
      ]
     },
     "execution_count": 30,
     "metadata": {},
     "output_type": "execute_result"
    }
   ],
   "source": [
    "gcv"
   ]
  },
  {
   "cell_type": "code",
   "execution_count": 31,
   "metadata": {},
   "outputs": [
    {
     "data": {
      "text/html": [
       "<div>\n",
       "<style scoped>\n",
       "    .dataframe tbody tr th:only-of-type {\n",
       "        vertical-align: middle;\n",
       "    }\n",
       "\n",
       "    .dataframe tbody tr th {\n",
       "        vertical-align: top;\n",
       "    }\n",
       "\n",
       "    .dataframe thead th {\n",
       "        text-align: right;\n",
       "    }\n",
       "</style>\n",
       "<table border=\"1\" class=\"dataframe\">\n",
       "  <thead>\n",
       "    <tr style=\"text-align: right;\">\n",
       "      <th></th>\n",
       "      <th>Age</th>\n",
       "      <th>Gender</th>\n",
       "      <th>Savings</th>\n",
       "      <th>Country</th>\n",
       "    </tr>\n",
       "  </thead>\n",
       "  <tbody>\n",
       "    <tr>\n",
       "      <th>0</th>\n",
       "      <td>23</td>\n",
       "      <td>M</td>\n",
       "      <td>0.07</td>\n",
       "      <td>USA</td>\n",
       "    </tr>\n",
       "    <tr>\n",
       "      <th>1</th>\n",
       "      <td>52</td>\n",
       "      <td>F</td>\n",
       "      <td>0.26</td>\n",
       "      <td>Germany</td>\n",
       "    </tr>\n",
       "    <tr>\n",
       "      <th>2</th>\n",
       "      <td>23</td>\n",
       "      <td>F</td>\n",
       "      <td>0.30</td>\n",
       "      <td>USA</td>\n",
       "    </tr>\n",
       "    <tr>\n",
       "      <th>3</th>\n",
       "      <td>25</td>\n",
       "      <td>M</td>\n",
       "      <td>2.30</td>\n",
       "      <td>Greece</td>\n",
       "    </tr>\n",
       "    <tr>\n",
       "      <th>4</th>\n",
       "      <td>80</td>\n",
       "      <td>M</td>\n",
       "      <td>100.20</td>\n",
       "      <td>Finland</td>\n",
       "    </tr>\n",
       "    <tr>\n",
       "      <th>5</th>\n",
       "      <td>60</td>\n",
       "      <td>M</td>\n",
       "      <td>1.87</td>\n",
       "      <td>Denmark</td>\n",
       "    </tr>\n",
       "    <tr>\n",
       "      <th>6</th>\n",
       "      <td>44</td>\n",
       "      <td>M</td>\n",
       "      <td>1.10</td>\n",
       "      <td>Denmark</td>\n",
       "    </tr>\n",
       "    <tr>\n",
       "      <th>7</th>\n",
       "      <td>72</td>\n",
       "      <td>F</td>\n",
       "      <td>7.10</td>\n",
       "      <td>Greece</td>\n",
       "    </tr>\n",
       "    <tr>\n",
       "      <th>8</th>\n",
       "      <td>50</td>\n",
       "      <td>M</td>\n",
       "      <td>0.20</td>\n",
       "      <td>Germany</td>\n",
       "    </tr>\n",
       "    <tr>\n",
       "      <th>9</th>\n",
       "      <td>80</td>\n",
       "      <td>F</td>\n",
       "      <td>123.20</td>\n",
       "      <td>Finland</td>\n",
       "    </tr>\n",
       "  </tbody>\n",
       "</table>\n",
       "</div>"
      ],
      "text/plain": [
       "   Age Gender  Savings  Country\n",
       "0   23      M     0.07      USA\n",
       "1   52      F     0.26  Germany\n",
       "2   23      F     0.30      USA\n",
       "3   25      M     2.30   Greece\n",
       "4   80      M   100.20  Finland\n",
       "5   60      M     1.87  Denmark\n",
       "6   44      M     1.10  Denmark\n",
       "7   72      F     7.10   Greece\n",
       "8   50      M     0.20  Germany\n",
       "9   80      F   123.20  Finland"
      ]
     },
     "execution_count": 31,
     "metadata": {},
     "output_type": "execute_result"
    }
   ],
   "source": [
    "all_x"
   ]
  },
  {
   "cell_type": "code",
   "execution_count": 32,
   "metadata": {},
   "outputs": [
    {
     "data": {
      "text/plain": [
       "(10, 4)"
      ]
     },
     "execution_count": 32,
     "metadata": {},
     "output_type": "execute_result"
    }
   ],
   "source": [
    "all_x.shape"
   ]
  },
  {
   "cell_type": "code",
   "execution_count": 33,
   "metadata": {},
   "outputs": [
    {
     "data": {
      "text/plain": [
       "(10,)"
      ]
     },
     "execution_count": 33,
     "metadata": {},
     "output_type": "execute_result"
    }
   ],
   "source": [
    "all_y.shape"
   ]
  },
  {
   "cell_type": "code",
   "execution_count": 34,
   "metadata": {},
   "outputs": [
    {
     "data": {
      "text/plain": [
       "<bound method PdPipelineAndSklearnEstimator.score of <PdPipeline -> LogisticRegression>>"
      ]
     },
     "execution_count": 34,
     "metadata": {},
     "output_type": "execute_result"
    }
   ],
   "source": [
    "mp.score"
   ]
  },
  {
   "cell_type": "code",
   "execution_count": 35,
   "metadata": {},
   "outputs": [
    {
     "data": {
      "text/plain": [
       "GridSearchCV(cv=3,\n",
       "             ('estimator', <PdPipeline -> LogisticRegression>),\n",
       "             param_grid={'drop_gender': [True, False],\n",
       "                         'ohencode_country': [True, False],\n",
       "                         'savings_max_val': [99, 101],\n",
       "                         'scale_numeric': [True, False]})"
      ]
     },
     "execution_count": 35,
     "metadata": {},
     "output_type": "execute_result"
    }
   ],
   "source": [
    "gcv.fit(all_x, all_y)"
   ]
  },
  {
   "cell_type": "code",
   "execution_count": 36,
   "metadata": {},
   "outputs": [
    {
     "data": {
      "text/plain": [
       "GridSearchCV(cv=3,\n",
       "             ('estimator', <PdPipeline -> LogisticRegression>),\n",
       "             param_grid={'drop_gender': [True, False],\n",
       "                         'ohencode_country': [True, False],\n",
       "                         'savings_max_val': [99, 101],\n",
       "                         'scale_numeric': [True, False]})"
      ]
     },
     "execution_count": 36,
     "metadata": {},
     "output_type": "execute_result"
    }
   ],
   "source": [
    "gcv"
   ]
  },
  {
   "cell_type": "code",
   "execution_count": 37,
   "metadata": {},
   "outputs": [
    {
     "data": {
      "text/plain": [
       "{'mean_fit_time': array([0.01815104, 0.01288565, 0.01307678, 0.01633612, 0.01801427,\n",
       "        0.015625  , 0.0142889 , 0.01253605, 0.01318653, 0.012911  ,\n",
       "        0.01201495, 0.01258262, 0.01142033, 0.01253661, 0.01196504,\n",
       "        0.01268951]),\n",
       " 'std_fit_time': array([0.00575958, 0.00057629, 0.00064679, 0.00171021, 0.00100924,\n",
       "        0.00083239, 0.0008318 , 0.00026177, 0.00027617, 0.00019952,\n",
       "        0.00040193, 0.0005715 , 0.00017451, 0.00065186, 0.00025348,\n",
       "        0.00042232]),\n",
       " 'mean_score_time': array([0.0115246 , 0.01162108, 0.010921  , 0.01299373, 0.0133721 ,\n",
       "        0.01191195, 0.01176174, 0.0114522 , 0.00978629, 0.00991448,\n",
       "        0.00967471, 0.01002359, 0.00972072, 0.01012206, 0.00953722,\n",
       "        0.01004601]),\n",
       " 'std_score_time': array([2.36995364e-03, 1.53212151e-03, 4.24461679e-04, 1.71364529e-03,\n",
       "        1.24526186e-03, 8.97675224e-04, 1.21555967e-04, 2.10730286e-04,\n",
       "        6.74085189e-04, 4.28284203e-04, 4.24088566e-04, 3.80880576e-04,\n",
       "        1.01367687e-04, 9.37618764e-05, 2.33959217e-04, 1.95314832e-04]),\n",
       " 'param_drop_gender': masked_array(data=[True, True, True, True, True, True, True, True, False,\n",
       "                    False, False, False, False, False, False, False],\n",
       "              mask=[False, False, False, False, False, False, False, False,\n",
       "                    False, False, False, False, False, False, False, False],\n",
       "        fill_value='?',\n",
       "             dtype=object),\n",
       " 'param_ohencode_country': masked_array(data=[True, True, True, True, False, False, False, False,\n",
       "                    True, True, True, True, False, False, False, False],\n",
       "              mask=[False, False, False, False, False, False, False, False,\n",
       "                    False, False, False, False, False, False, False, False],\n",
       "        fill_value='?',\n",
       "             dtype=object),\n",
       " 'param_savings_max_val': masked_array(data=[99, 99, 101, 101, 99, 99, 101, 101, 99, 99, 101, 101,\n",
       "                    99, 99, 101, 101],\n",
       "              mask=[False, False, False, False, False, False, False, False,\n",
       "                    False, False, False, False, False, False, False, False],\n",
       "        fill_value='?',\n",
       "             dtype=object),\n",
       " 'param_scale_numeric': masked_array(data=[True, False, True, False, True, False, True, False,\n",
       "                    True, False, True, False, True, False, True, False],\n",
       "              mask=[False, False, False, False, False, False, False, False,\n",
       "                    False, False, False, False, False, False, False, False],\n",
       "        fill_value='?',\n",
       "             dtype=object),\n",
       " 'params': [{'drop_gender': True,\n",
       "   'ohencode_country': True,\n",
       "   'savings_max_val': 99,\n",
       "   'scale_numeric': True},\n",
       "  {'drop_gender': True,\n",
       "   'ohencode_country': True,\n",
       "   'savings_max_val': 99,\n",
       "   'scale_numeric': False},\n",
       "  {'drop_gender': True,\n",
       "   'ohencode_country': True,\n",
       "   'savings_max_val': 101,\n",
       "   'scale_numeric': True},\n",
       "  {'drop_gender': True,\n",
       "   'ohencode_country': True,\n",
       "   'savings_max_val': 101,\n",
       "   'scale_numeric': False},\n",
       "  {'drop_gender': True,\n",
       "   'ohencode_country': False,\n",
       "   'savings_max_val': 99,\n",
       "   'scale_numeric': True},\n",
       "  {'drop_gender': True,\n",
       "   'ohencode_country': False,\n",
       "   'savings_max_val': 99,\n",
       "   'scale_numeric': False},\n",
       "  {'drop_gender': True,\n",
       "   'ohencode_country': False,\n",
       "   'savings_max_val': 101,\n",
       "   'scale_numeric': True},\n",
       "  {'drop_gender': True,\n",
       "   'ohencode_country': False,\n",
       "   'savings_max_val': 101,\n",
       "   'scale_numeric': False},\n",
       "  {'drop_gender': False,\n",
       "   'ohencode_country': True,\n",
       "   'savings_max_val': 99,\n",
       "   'scale_numeric': True},\n",
       "  {'drop_gender': False,\n",
       "   'ohencode_country': True,\n",
       "   'savings_max_val': 99,\n",
       "   'scale_numeric': False},\n",
       "  {'drop_gender': False,\n",
       "   'ohencode_country': True,\n",
       "   'savings_max_val': 101,\n",
       "   'scale_numeric': True},\n",
       "  {'drop_gender': False,\n",
       "   'ohencode_country': True,\n",
       "   'savings_max_val': 101,\n",
       "   'scale_numeric': False},\n",
       "  {'drop_gender': False,\n",
       "   'ohencode_country': False,\n",
       "   'savings_max_val': 99,\n",
       "   'scale_numeric': True},\n",
       "  {'drop_gender': False,\n",
       "   'ohencode_country': False,\n",
       "   'savings_max_val': 99,\n",
       "   'scale_numeric': False},\n",
       "  {'drop_gender': False,\n",
       "   'ohencode_country': False,\n",
       "   'savings_max_val': 101,\n",
       "   'scale_numeric': True},\n",
       "  {'drop_gender': False,\n",
       "   'ohencode_country': False,\n",
       "   'savings_max_val': 101,\n",
       "   'scale_numeric': False}],\n",
       " 'split0_test_score': array([0.75, 0.75, 0.75, 0.75, 0.75, 0.75, 0.75, 0.75, 0.75, 0.75, 0.75,\n",
       "        0.75, 0.75, 0.75, 0.75, 0.75]),\n",
       " 'split1_test_score': array([0.33333333, 0.33333333, 0.33333333, 0.33333333, 0.33333333,\n",
       "        0.33333333, 0.33333333, 0.33333333, 0.33333333, 0.33333333,\n",
       "        0.33333333, 0.33333333, 0.33333333, 0.33333333, 0.33333333,\n",
       "        0.33333333]),\n",
       " 'split2_test_score': array([0.66666667, 0.66666667, 0.66666667, 0.66666667, 0.66666667,\n",
       "        0.66666667, 0.66666667, 0.66666667, 0.66666667, 0.66666667,\n",
       "        0.66666667, 0.66666667, 0.66666667, 0.66666667, 0.66666667,\n",
       "        0.66666667]),\n",
       " 'mean_test_score': array([0.58333333, 0.58333333, 0.58333333, 0.58333333, 0.58333333,\n",
       "        0.58333333, 0.58333333, 0.58333333, 0.58333333, 0.58333333,\n",
       "        0.58333333, 0.58333333, 0.58333333, 0.58333333, 0.58333333,\n",
       "        0.58333333]),\n",
       " 'std_test_score': array([0.18002057, 0.18002057, 0.18002057, 0.18002057, 0.18002057,\n",
       "        0.18002057, 0.18002057, 0.18002057, 0.18002057, 0.18002057,\n",
       "        0.18002057, 0.18002057, 0.18002057, 0.18002057, 0.18002057,\n",
       "        0.18002057]),\n",
       " 'rank_test_score': array([1, 1, 1, 1, 1, 1, 1, 1, 1, 1, 1, 1, 1, 1, 1, 1], dtype=int32)}"
      ]
     },
     "execution_count": 37,
     "metadata": {},
     "output_type": "execute_result"
    }
   ],
   "source": [
    "gcv.cv_results_"
   ]
  },
  {
   "cell_type": "code",
   "execution_count": 38,
   "metadata": {},
   "outputs": [
    {
     "data": {
      "text/plain": [
       "<PdPipeline -> LogisticRegression>"
      ]
     },
     "execution_count": 38,
     "metadata": {},
     "output_type": "execute_result"
    }
   ],
   "source": [
    "gcv.best_estimator_"
   ]
  },
  {
   "cell_type": "code",
   "execution_count": 39,
   "metadata": {},
   "outputs": [
    {
     "data": {
      "text/plain": [
       "0.5833333333333334"
      ]
     },
     "execution_count": 39,
     "metadata": {},
     "output_type": "execute_result"
    }
   ],
   "source": [
    "gcv.best_score_"
   ]
  },
  {
   "cell_type": "code",
   "execution_count": 40,
   "metadata": {},
   "outputs": [
    {
     "data": {
      "text/plain": [
       "{'drop_gender': True,\n",
       " 'ohencode_country': True,\n",
       " 'savings_max_val': 99,\n",
       " 'scale_numeric': True}"
      ]
     },
     "execution_count": 40,
     "metadata": {},
     "output_type": "execute_result"
    }
   ],
   "source": [
    "gcv.best_params_"
   ]
  },
  {
   "cell_type": "code",
   "execution_count": null,
   "metadata": {},
   "outputs": [],
   "source": []
  },
  {
   "cell_type": "code",
   "execution_count": 41,
   "metadata": {},
   "outputs": [
    {
     "data": {
      "text/html": [
       "<div>\n",
       "<style scoped>\n",
       "    .dataframe tbody tr th:only-of-type {\n",
       "        vertical-align: middle;\n",
       "    }\n",
       "\n",
       "    .dataframe tbody tr th {\n",
       "        vertical-align: top;\n",
       "    }\n",
       "\n",
       "    .dataframe thead th {\n",
       "        text-align: right;\n",
       "    }\n",
       "</style>\n",
       "<table border=\"1\" class=\"dataframe\">\n",
       "  <thead>\n",
       "    <tr style=\"text-align: right;\">\n",
       "      <th></th>\n",
       "      <th>Age</th>\n",
       "      <th>Savings</th>\n",
       "      <th>Savings_bin</th>\n",
       "      <th>Country_Finland</th>\n",
       "      <th>Country_Germany</th>\n",
       "      <th>Country_Greece</th>\n",
       "      <th>Country_USA</th>\n",
       "    </tr>\n",
       "  </thead>\n",
       "  <tbody>\n",
       "    <tr>\n",
       "      <th>0</th>\n",
       "      <td>0.000000</td>\n",
       "      <td>0.000000</td>\n",
       "      <td>1.0</td>\n",
       "      <td>0</td>\n",
       "      <td>0</td>\n",
       "      <td>0</td>\n",
       "      <td>1</td>\n",
       "    </tr>\n",
       "    <tr>\n",
       "      <th>1</th>\n",
       "      <td>0.508772</td>\n",
       "      <td>0.001543</td>\n",
       "      <td>1.0</td>\n",
       "      <td>0</td>\n",
       "      <td>1</td>\n",
       "      <td>0</td>\n",
       "      <td>0</td>\n",
       "    </tr>\n",
       "    <tr>\n",
       "      <th>2</th>\n",
       "      <td>0.000000</td>\n",
       "      <td>0.001868</td>\n",
       "      <td>1.0</td>\n",
       "      <td>0</td>\n",
       "      <td>0</td>\n",
       "      <td>0</td>\n",
       "      <td>1</td>\n",
       "    </tr>\n",
       "    <tr>\n",
       "      <th>3</th>\n",
       "      <td>0.035088</td>\n",
       "      <td>0.018111</td>\n",
       "      <td>0.0</td>\n",
       "      <td>0</td>\n",
       "      <td>0</td>\n",
       "      <td>1</td>\n",
       "      <td>0</td>\n",
       "    </tr>\n",
       "    <tr>\n",
       "      <th>4</th>\n",
       "      <td>1.000000</td>\n",
       "      <td>0.813206</td>\n",
       "      <td>0.0</td>\n",
       "      <td>1</td>\n",
       "      <td>0</td>\n",
       "      <td>0</td>\n",
       "      <td>0</td>\n",
       "    </tr>\n",
       "    <tr>\n",
       "      <th>5</th>\n",
       "      <td>0.649123</td>\n",
       "      <td>0.014619</td>\n",
       "      <td>0.0</td>\n",
       "      <td>0</td>\n",
       "      <td>0</td>\n",
       "      <td>0</td>\n",
       "      <td>0</td>\n",
       "    </tr>\n",
       "    <tr>\n",
       "      <th>6</th>\n",
       "      <td>0.368421</td>\n",
       "      <td>0.008365</td>\n",
       "      <td>0.0</td>\n",
       "      <td>0</td>\n",
       "      <td>0</td>\n",
       "      <td>0</td>\n",
       "      <td>0</td>\n",
       "    </tr>\n",
       "    <tr>\n",
       "      <th>7</th>\n",
       "      <td>0.859649</td>\n",
       "      <td>0.057094</td>\n",
       "      <td>0.0</td>\n",
       "      <td>0</td>\n",
       "      <td>0</td>\n",
       "      <td>1</td>\n",
       "      <td>0</td>\n",
       "    </tr>\n",
       "    <tr>\n",
       "      <th>8</th>\n",
       "      <td>0.473684</td>\n",
       "      <td>0.001056</td>\n",
       "      <td>1.0</td>\n",
       "      <td>0</td>\n",
       "      <td>1</td>\n",
       "      <td>0</td>\n",
       "      <td>0</td>\n",
       "    </tr>\n",
       "    <tr>\n",
       "      <th>9</th>\n",
       "      <td>1.000000</td>\n",
       "      <td>1.000000</td>\n",
       "      <td>0.0</td>\n",
       "      <td>1</td>\n",
       "      <td>0</td>\n",
       "      <td>0</td>\n",
       "      <td>0</td>\n",
       "    </tr>\n",
       "  </tbody>\n",
       "</table>\n",
       "</div>"
      ],
      "text/plain": [
       "        Age   Savings  Savings_bin  Country_Finland  Country_Germany  \\\n",
       "0  0.000000  0.000000          1.0                0                0   \n",
       "1  0.508772  0.001543          1.0                0                1   \n",
       "2  0.000000  0.001868          1.0                0                0   \n",
       "3  0.035088  0.018111          0.0                0                0   \n",
       "4  1.000000  0.813206          0.0                1                0   \n",
       "5  0.649123  0.014619          0.0                0                0   \n",
       "6  0.368421  0.008365          0.0                0                0   \n",
       "7  0.859649  0.057094          0.0                0                0   \n",
       "8  0.473684  0.001056          1.0                0                1   \n",
       "9  1.000000  1.000000          0.0                1                0   \n",
       "\n",
       "   Country_Greece  Country_USA  \n",
       "0               0            1  \n",
       "1               0            0  \n",
       "2               0            1  \n",
       "3               1            0  \n",
       "4               0            0  \n",
       "5               0            0  \n",
       "6               0            0  \n",
       "7               1            0  \n",
       "8               0            0  \n",
       "9               0            0  "
      ]
     },
     "execution_count": 41,
     "metadata": {},
     "output_type": "execute_result"
    }
   ],
   "source": [
    "post_x = mp.pipeline.fit_transform(all_x)\n",
    "post_x"
   ]
  },
  {
   "cell_type": "code",
   "execution_count": 42,
   "metadata": {},
   "outputs": [
    {
     "data": {
      "text/plain": [
       "array([[0.        , 0.        , 1.        , 0.        , 0.        ,\n",
       "        0.        , 1.        ],\n",
       "       [0.50877193, 0.00154308, 1.        , 0.        , 1.        ,\n",
       "        0.        , 0.        ],\n",
       "       [0.        , 0.00186794, 1.        , 0.        , 0.        ,\n",
       "        0.        , 1.        ],\n",
       "       [0.03508772, 0.01811094, 0.        , 0.        , 0.        ,\n",
       "        1.        , 0.        ],\n",
       "       [1.        , 0.81320556, 0.        , 1.        , 0.        ,\n",
       "        0.        , 0.        ],\n",
       "       [0.64912281, 0.0146187 , 0.        , 0.        , 0.        ,\n",
       "        0.        , 0.        ],\n",
       "       [0.36842105, 0.00836514, 0.        , 0.        , 0.        ,\n",
       "        0.        , 0.        ],\n",
       "       [0.85964912, 0.05709413, 0.        , 0.        , 0.        ,\n",
       "        1.        , 0.        ],\n",
       "       [0.47368421, 0.00105579, 1.        , 0.        , 1.        ,\n",
       "        0.        , 0.        ],\n",
       "       [1.        , 1.        , 0.        , 1.        , 0.        ,\n",
       "        0.        , 0.        ]])"
      ]
     },
     "execution_count": 42,
     "metadata": {},
     "output_type": "execute_result"
    }
   ],
   "source": [
    "post_x.values"
   ]
  },
  {
   "cell_type": "code",
   "execution_count": 43,
   "metadata": {},
   "outputs": [
    {
     "data": {
      "text/plain": [
       "(10, 7)"
      ]
     },
     "execution_count": 43,
     "metadata": {},
     "output_type": "execute_result"
    }
   ],
   "source": [
    "post_x.values.shape"
   ]
  },
  {
   "cell_type": "code",
   "execution_count": 44,
   "metadata": {},
   "outputs": [
    {
     "data": {
      "text/plain": [
       "array([ True, False,  True, False, False,  True,  True,  True, False,\n",
       "       False])"
      ]
     },
     "execution_count": 44,
     "metadata": {},
     "output_type": "execute_result"
    }
   ],
   "source": [
    "all_y.values"
   ]
  },
  {
   "cell_type": "code",
   "execution_count": 45,
   "metadata": {},
   "outputs": [
    {
     "data": {
      "text/plain": [
       "10"
      ]
     },
     "execution_count": 45,
     "metadata": {},
     "output_type": "execute_result"
    }
   ],
   "source": [
    "len(all_y.values)"
   ]
  },
  {
   "cell_type": "code",
   "execution_count": 46,
   "metadata": {},
   "outputs": [],
   "source": [
    "from sklearn.metrics import fbeta_score, make_scorer\n",
    "ftwo_scorer = make_scorer(fbeta_score, beta=2)"
   ]
  },
  {
   "cell_type": "code",
   "execution_count": 47,
   "metadata": {},
   "outputs": [],
   "source": [
    "from pdpipe.skintegrate import pdpipe_scorer_from_sklearn_scorer"
   ]
  },
  {
   "cell_type": "code",
   "execution_count": 48,
   "metadata": {},
   "outputs": [],
   "source": [
    "my_scorer = pdpipe_scorer_from_sklearn_scorer(ftwo_scorer)"
   ]
  },
  {
   "cell_type": "code",
   "execution_count": 49,
   "metadata": {},
   "outputs": [
    {
     "data": {
      "text/plain": [
       "<PdPipeScorer: make_scorer(fbeta_score, beta=2)"
      ]
     },
     "execution_count": 49,
     "metadata": {},
     "output_type": "execute_result"
    }
   ],
   "source": [
    "my_scorer"
   ]
  },
  {
   "cell_type": "code",
   "execution_count": 50,
   "metadata": {},
   "outputs": [],
   "source": [
    "gcv = GridSearchCV(\n",
    "    estimator=mp,\n",
    "    param_grid={\n",
    "        'savings_max_val': [99, 101],\n",
    "        'scale_numeric': [True, False],\n",
    "        'drop_gender': [True, False],\n",
    "        'ohencode_country': [True, False],\n",
    "    },\n",
    "    cv=3,\n",
    "    scoring=my_scorer,\n",
    ")"
   ]
  },
  {
   "cell_type": "code",
   "execution_count": 51,
   "metadata": {},
   "outputs": [
    {
     "data": {
      "text/plain": [
       "GridSearchCV(cv=3,\n",
       "             ('estimator', <PdPipeline -> LogisticRegression>),\n",
       "             param_grid={'drop_gender': [True, False],\n",
       "                         'ohencode_country': [True, False],\n",
       "                         'savings_max_val': [99, 101],\n",
       "                         'scale_numeric': [True, False]},\n",
       "             scoring=<PdPipeScorer: make_scorer(fbeta_score, beta=2))"
      ]
     },
     "execution_count": 51,
     "metadata": {},
     "output_type": "execute_result"
    }
   ],
   "source": [
    "gcv.fit(all_x, all_y)"
   ]
  },
  {
   "cell_type": "code",
   "execution_count": 52,
   "metadata": {},
   "outputs": [
    {
     "data": {
      "text/plain": [
       "0.30303030303030304"
      ]
     },
     "execution_count": 52,
     "metadata": {},
     "output_type": "execute_result"
    }
   ],
   "source": [
    "gcv.best_score_"
   ]
  },
  {
   "cell_type": "code",
   "execution_count": 53,
   "metadata": {},
   "outputs": [
    {
     "data": {
      "text/plain": [
       "{'mean_fit_time': array([0.01948587, 0.01312502, 0.01175737, 0.01658527, 0.01359336,\n",
       "        0.01327173, 0.01260543, 0.01163673, 0.01098204, 0.01114368,\n",
       "        0.01069268, 0.01025971, 0.01000635, 0.00990534, 0.01050059,\n",
       "        0.01194223]),\n",
       " 'std_fit_time': array([0.00224546, 0.00102073, 0.00052922, 0.00385093, 0.00023676,\n",
       "        0.00030171, 0.00026745, 0.00060974, 0.00047875, 0.00039744,\n",
       "        0.00062997, 0.00019351, 0.00042311, 0.0002525 , 0.00027802,\n",
       "        0.00064901]),\n",
       " 'mean_score_time': array([0.01376939, 0.01107963, 0.00972724, 0.01281365, 0.01224526,\n",
       "        0.01156624, 0.01001438, 0.00943136, 0.00912031, 0.00944495,\n",
       "        0.00869004, 0.00843493, 0.0084157 , 0.00873327, 0.00923006,\n",
       "        0.00969672]),\n",
       " 'std_score_time': array([1.96256855e-03, 1.06358230e-03, 3.79745840e-04, 2.25962982e-03,\n",
       "        9.45426769e-04, 3.89868562e-04, 1.11462039e-04, 1.90760591e-04,\n",
       "        2.13635671e-04, 1.30183676e-04, 8.00893239e-05, 2.45272456e-04,\n",
       "        2.64555684e-04, 5.08685953e-04, 6.46392865e-04, 6.49761654e-04]),\n",
       " 'param_drop_gender': masked_array(data=[True, True, True, True, True, True, True, True, False,\n",
       "                    False, False, False, False, False, False, False],\n",
       "              mask=[False, False, False, False, False, False, False, False,\n",
       "                    False, False, False, False, False, False, False, False],\n",
       "        fill_value='?',\n",
       "             dtype=object),\n",
       " 'param_ohencode_country': masked_array(data=[True, True, True, True, False, False, False, False,\n",
       "                    True, True, True, True, False, False, False, False],\n",
       "              mask=[False, False, False, False, False, False, False, False,\n",
       "                    False, False, False, False, False, False, False, False],\n",
       "        fill_value='?',\n",
       "             dtype=object),\n",
       " 'param_savings_max_val': masked_array(data=[99, 99, 101, 101, 99, 99, 101, 101, 99, 99, 101, 101,\n",
       "                    99, 99, 101, 101],\n",
       "              mask=[False, False, False, False, False, False, False, False,\n",
       "                    False, False, False, False, False, False, False, False],\n",
       "        fill_value='?',\n",
       "             dtype=object),\n",
       " 'param_scale_numeric': masked_array(data=[True, False, True, False, True, False, True, False,\n",
       "                    True, False, True, False, True, False, True, False],\n",
       "              mask=[False, False, False, False, False, False, False, False,\n",
       "                    False, False, False, False, False, False, False, False],\n",
       "        fill_value='?',\n",
       "             dtype=object),\n",
       " 'params': [{'drop_gender': True,\n",
       "   'ohencode_country': True,\n",
       "   'savings_max_val': 99,\n",
       "   'scale_numeric': True},\n",
       "  {'drop_gender': True,\n",
       "   'ohencode_country': True,\n",
       "   'savings_max_val': 99,\n",
       "   'scale_numeric': False},\n",
       "  {'drop_gender': True,\n",
       "   'ohencode_country': True,\n",
       "   'savings_max_val': 101,\n",
       "   'scale_numeric': True},\n",
       "  {'drop_gender': True,\n",
       "   'ohencode_country': True,\n",
       "   'savings_max_val': 101,\n",
       "   'scale_numeric': False},\n",
       "  {'drop_gender': True,\n",
       "   'ohencode_country': False,\n",
       "   'savings_max_val': 99,\n",
       "   'scale_numeric': True},\n",
       "  {'drop_gender': True,\n",
       "   'ohencode_country': False,\n",
       "   'savings_max_val': 99,\n",
       "   'scale_numeric': False},\n",
       "  {'drop_gender': True,\n",
       "   'ohencode_country': False,\n",
       "   'savings_max_val': 101,\n",
       "   'scale_numeric': True},\n",
       "  {'drop_gender': True,\n",
       "   'ohencode_country': False,\n",
       "   'savings_max_val': 101,\n",
       "   'scale_numeric': False},\n",
       "  {'drop_gender': False,\n",
       "   'ohencode_country': True,\n",
       "   'savings_max_val': 99,\n",
       "   'scale_numeric': True},\n",
       "  {'drop_gender': False,\n",
       "   'ohencode_country': True,\n",
       "   'savings_max_val': 99,\n",
       "   'scale_numeric': False},\n",
       "  {'drop_gender': False,\n",
       "   'ohencode_country': True,\n",
       "   'savings_max_val': 101,\n",
       "   'scale_numeric': True},\n",
       "  {'drop_gender': False,\n",
       "   'ohencode_country': True,\n",
       "   'savings_max_val': 101,\n",
       "   'scale_numeric': False},\n",
       "  {'drop_gender': False,\n",
       "   'ohencode_country': False,\n",
       "   'savings_max_val': 99,\n",
       "   'scale_numeric': True},\n",
       "  {'drop_gender': False,\n",
       "   'ohencode_country': False,\n",
       "   'savings_max_val': 99,\n",
       "   'scale_numeric': False},\n",
       "  {'drop_gender': False,\n",
       "   'ohencode_country': False,\n",
       "   'savings_max_val': 101,\n",
       "   'scale_numeric': True},\n",
       "  {'drop_gender': False,\n",
       "   'ohencode_country': False,\n",
       "   'savings_max_val': 101,\n",
       "   'scale_numeric': False}],\n",
       " 'split0_test_score': array([0.90909091, 0.90909091, 0.90909091, 0.90909091, 0.90909091,\n",
       "        0.90909091, 0.90909091, 0.90909091, 0.90909091, 0.90909091,\n",
       "        0.90909091, 0.90909091, 0.90909091, 0.90909091, 0.90909091,\n",
       "        0.90909091]),\n",
       " 'split1_test_score': array([0., 0., 0., 0., 0., 0., 0., 0., 0., 0., 0., 0., 0., 0., 0., 0.]),\n",
       " 'split2_test_score': array([0., 0., 0., 0., 0., 0., 0., 0., 0., 0., 0., 0., 0., 0., 0., 0.]),\n",
       " 'mean_test_score': array([0.3030303, 0.3030303, 0.3030303, 0.3030303, 0.3030303, 0.3030303,\n",
       "        0.3030303, 0.3030303, 0.3030303, 0.3030303, 0.3030303, 0.3030303,\n",
       "        0.3030303, 0.3030303, 0.3030303, 0.3030303]),\n",
       " 'std_test_score': array([0.42854956, 0.42854956, 0.42854956, 0.42854956, 0.42854956,\n",
       "        0.42854956, 0.42854956, 0.42854956, 0.42854956, 0.42854956,\n",
       "        0.42854956, 0.42854956, 0.42854956, 0.42854956, 0.42854956,\n",
       "        0.42854956]),\n",
       " 'rank_test_score': array([1, 1, 1, 1, 1, 1, 1, 1, 1, 1, 1, 1, 1, 1, 1, 1], dtype=int32)}"
      ]
     },
     "execution_count": 53,
     "metadata": {},
     "output_type": "execute_result"
    }
   ],
   "source": [
    "gcv.cv_results_"
   ]
  },
  {
   "cell_type": "code",
   "execution_count": null,
   "metadata": {},
   "outputs": [],
   "source": []
  }
 ],
 "metadata": {
  "kernelspec": {
   "display_name": "py3",
   "language": "python",
   "name": "py3"
  },
  "language_info": {
   "codemirror_mode": {
    "name": "ipython",
    "version": 3
   },
   "file_extension": ".py",
   "mimetype": "text/x-python",
   "name": "python",
   "nbconvert_exporter": "python",
   "pygments_lexer": "ipython3",
   "version": "3.8.5"
  }
 },
 "nbformat": 4,
 "nbformat_minor": 4
}
