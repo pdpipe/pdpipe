{
 "cells": [
  {
   "cell_type": "code",
   "execution_count": 1,
   "id": "cdbe91ff-e6eb-4d58-8666-f0f424425bb3",
   "metadata": {},
   "outputs": [],
   "source": [
    "import pandas as pd\n",
    "import pdpipe as pdp"
   ]
  },
  {
   "cell_type": "code",
   "execution_count": null,
   "id": "fa1199a2-3f34-49d0-8ac2-20f084d74e08",
   "metadata": {},
   "outputs": [],
   "source": [
    "def proc_file(_df, save_proc=False):\n",
    "    # Ajustar las columnas\n",
    "    _df, cols_fact, cols_ohe, dict_weights,cols_num, cols_model = fix_df(_df)\n",
    "    print(_df.dtypes)\n",
    "   \n",
    "    # Identificacion de outliers y limpieza. Extraido de la tuberia para poder implementar la tuberia con los nuevos datos\n",
    "    if(config.use_DropOutliers):\n",
    "        _df['outlier'] = P.flag_outliers_row(_df, cols_num, plot=False, save_plot=False, mode=config.OUT_METHOD, pp=config.OUT_IQR_PP, whis=config.OUT_IQR_WHIS, n_sigma=config.OUT_SIGMA_N)\n",
    "        _df = _df[_df['outlier']==False].drop('outlier',axis=1)\n",
    "       \n",
    "    # Es aqui donde hay que generar el modelo PCA, pero implementarlo dentro del PipeLine\n",
    "    pca = PCA(n_components=config.PCA_nvars)\n",
    "   \n",
    "    # Nos montamos nuestro pipeline primero el que hago solamente fit, porque si no en impllment no le va a funcionar\n",
    "    pipe = pdp.PdPipeline([]) # PipeLine de entrenamiento\n",
    "    if(config.use_OHE):          pipe1 += pdp.OneHotEncode(columns=cols_ohe, exclude_columns=None)    # One Hot Encoding\n",
    "    if(config.use_FACT):         pipe1 += pdp.Encode(columns=cols_fact, exclude_columns=None)         # Factorize Encoding\n",
    "    if(config.use_Scaler):       pipe1 += pdp.Scale(config.SCALER)    # Standard Scaler    , exclude_columns = cols_cat + cols_oth)    # Standard Scaler          \n",
    "    if(config.use_weights):      pipe1 += pdp.AdHocStage(lambda x: apply_weights(x, dict_weights, cols_model, cols_ohe)) # Apply custom weights\n",
    "    if(config.use_PCA):          pipe1 += pdp.Decompose(PCA(), n_components=config.PCA_nvars))           # Se entrena el PCA\n",
    "   \n",
    "    pipe1.fit(_df)\n",
    "\n",
    "    # Nos montamos nuestro pipeline primero el que hago solamente fit, porque si no en impllment no le va a funcionar\n",
    "    pipe2 = pdp.PdPipeline([]) # Pipeline de ejecucion\n",
    "    if(config.use_OHE):          pipe2 += pdp.OneHotEncode(columns=cols_ohe, exclude_columns=None)    # One Hot Encoding\n",
    "    if(config.use_FACT):         pipe2 += pdp.Encode(columns=cols_fact, exclude_columns=None)         # Factorize Encoding\n",
    "    if(config.use_Scaler):       pipe2 += pdp.Scale(config.SCALER)    # Standard Scaler    , exclude_columns = cols_cat + cols_oth)    # Standard Scaler          \n",
    "    if(config.use_weights):      pipe2 += pdp.AdHocStage(lambda x: apply_weights(x, dict_weights, cols_model, cols_ohe)) # Apply custom weights\n",
    "    if(config.use_PCA):          pipe2 += pdp.AdHocStage(lambda x: pca.transform(x))           # Apply PCA\n",
    "   \n",
    "    # Con esto creamos la transformacion, pero no la aplicamos\n",
    "    #pipe2.fit(_df)\n",
    "    _df = pipe2.apply(_df)\n",
    "    # Guardamos la tubería para poder reimplmentarla a futuro\n",
    "    if (save_proc==True):\n",
    "        # Lo guardamos con pickle\n",
    "        pickle.dump(pipe2, open(config.FOLDER_OUT_CLUST_MODEL + \"/transformation_model.pkl\", 'wb'))\n",
    "    # Finalmente se aplica la transformacon sobre los datos de entrenamiento\n",
    "    #_df = pipe2.apply(_df)\n",
    "\n",
    "    _df=pd.DataFrame(_df)\n",
    "    print('Final shape:\\t', _df.shape)\n",
    "    return _df"
   ]
  }
 ],
 "metadata": {
  "kernelspec": {
   "display_name": "py3",
   "language": "python",
   "name": "py3"
  },
  "language_info": {
   "codemirror_mode": {
    "name": "ipython",
    "version": 3
   },
   "file_extension": ".py",
   "mimetype": "text/x-python",
   "name": "python",
   "nbconvert_exporter": "python",
   "pygments_lexer": "ipython3",
   "version": "3.10.2"
  }
 },
 "nbformat": 4,
 "nbformat_minor": 5
}
