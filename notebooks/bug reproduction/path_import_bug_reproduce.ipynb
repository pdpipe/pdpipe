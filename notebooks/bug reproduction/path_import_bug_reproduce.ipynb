{
 "cells": [
  {
   "cell_type": "code",
   "execution_count": 1,
   "metadata": {},
   "outputs": [
    {
     "name": "stdout",
     "output_type": "stream",
     "text": [
      "0.2.8\n"
     ]
    }
   ],
   "source": [
    "import pdpipe\n",
    "print(pdpipe.__version__)\n"
   ]
  },
  {
   "cell_type": "code",
   "execution_count": 2,
   "metadata": {},
   "outputs": [],
   "source": [
    "from sys import path\n",
    "path.append(\"/Users/shaypalachy/temp/\")\n",
    "\n",
    "import temp"
   ]
  },
  {
   "cell_type": "code",
   "execution_count": 2,
   "metadata": {},
   "outputs": [
    {
     "name": "stdout",
     "output_type": "stream",
     "text": [
      "0.2.8\n"
     ]
    }
   ],
   "source": [
    "import pdpipe\n",
    "print(pdpipe.__version__)\n"
   ]
  },
  {
   "cell_type": "code",
   "execution_count": 1,
   "metadata": {},
   "outputs": [],
   "source": [
    "# import tensorflow as tf"
   ]
  },
  {
   "cell_type": "code",
   "execution_count": 4,
   "metadata": {},
   "outputs": [
    {
     "name": "stdout",
     "output_type": "stream",
     "text": [
      "WARNING:tensorflow:From /Users/shaypalachy/.pyenv/versions/3.10.2/envs/py3/lib/python3.10/site-packages/tensorflow/python/compat/v2_compat.py:107: disable_resource_variables (from tensorflow.python.ops.variable_scope) is deprecated and will be removed in a future version.\n",
      "Instructions for updating:\n",
      "non-resource variables are not supported in the long term\n"
     ]
    }
   ],
   "source": [
    "import tensorflow.compat.v1 as tf\n",
    "tf.disable_v2_behavior() \n"
   ]
  },
  {
   "cell_type": "code",
   "execution_count": 6,
   "metadata": {},
   "outputs": [
    {
     "name": "stderr",
     "output_type": "stream",
     "text": [
      "/Users/shaypalachy/.pyenv/versions/3.10.2/envs/py3/lib/python3.10/site-packages/tensorflow/python/client/session.py:1768: UserWarning: An interactive session is already active. This can cause out-of-memory errors in some cases. You must explicitly call `InteractiveSession.close()` to release resources held by the other session(s).\n",
      "  warnings.warn('An interactive session is already active. This can '\n"
     ]
    }
   ],
   "source": [
    "sess = tf.InteractiveSession()\n",
    "p = tf.placeholder(tf.float32, shape=[None, 5])\n",
    "logit_q = tf.placeholder(tf.float32, shape=[None, 5])\n",
    "q = tf.nn.sigmoid(logit_q)\n",
    "sess.run(tf.global_variables_initializer())"
   ]
  },
  {
   "cell_type": "code",
   "execution_count": 10,
   "metadata": {},
   "outputs": [
    {
     "name": "stdout",
     "output_type": "stream",
     "text": [
      "p.eval(feed_dict):\n",
      "[[0. 0. 0. 1. 0.]\n",
      " [1. 0. 0. 0. 0.]]\n",
      "\n",
      " q.eval(feed_dict):\n",
      "[[0.549834  0.549834  0.549834  0.549834  0.549834 ]\n",
      " [0.5744425 0.5744425 0.549834  0.5249792 0.5249792]]\n",
      "\n",
      " loss1: [0.5981388  0.55435526] \n",
      " loss2: [3.7906942 3.6956425]\n"
     ]
    }
   ],
   "source": [
    "feed_dict = {p: [[0, 0, 0, 1, 0], [1,0,0,0,0]], logit_q: [[0.2, 0.2, 0.2, 0.2, 0.2], [0.3, 0.3, 0.2, 0.1, 0.1]]}\n",
    "loss1 = -tf.reduce_sum(p*tf.log(q),1).eval(feed_dict)\n",
    "loss2 = tf.reduce_sum(tf.nn.sigmoid_cross_entropy_with_logits(labels=p, logits=logit_q),1).eval(feed_dict)\n",
    "\n",
    "print('p.eval(feed_dict):')\n",
    "print(p.eval(feed_dict))\n",
    "print('\\n q.eval(feed_dict):')\n",
    "print(q.eval(feed_dict))\n",
    "\n",
    "\n",
    "print(\"\\n loss1:\",loss1, \"\\n loss2:\", loss2)"
   ]
  },
  {
   "cell_type": "code",
   "execution_count": 11,
   "metadata": {},
   "outputs": [
    {
     "name": "stdout",
     "output_type": "stream",
     "text": [
      "WARNING:tensorflow:From /Users/shaypalachy/.pyenv/versions/3.10.2/envs/py3/lib/python3.10/site-packages/tensorflow/python/util/dispatch.py:1082: softmax_cross_entropy_with_logits (from tensorflow.python.ops.nn_ops) is deprecated and will be removed in a future version.\n",
      "Instructions for updating:\n",
      "\n",
      "Future major versions of TensorFlow will allow gradients to flow\n",
      "into the labels input on backprop by default.\n",
      "\n",
      "See `tf.nn.softmax_cross_entropy_with_logits_v2`.\n",
      "\n",
      "[0.437488  0.5130153 0.6931472]\n",
      "[0.437488  0.5130153 0.6931472]\n"
     ]
    }
   ],
   "source": [
    "p = tf.placeholder(tf.float32, shape=[None, 2])\n",
    "logit_q = tf.placeholder(tf.float32, shape=[None, 2])\n",
    "q = tf.nn.softmax(logit_q)\n",
    "\n",
    "feed_dict = {\n",
    "  p: [[0, 1],\n",
    "      [1, 0],\n",
    "      [1, 0]],\n",
    "  logit_q: [[0.2, 0.8],\n",
    "            [0.7, 0.3],\n",
    "            [0.5, 0.5]]\n",
    "}\n",
    "\n",
    "prob1 = -tf.reduce_sum(p * tf.log(q), axis=1)\n",
    "prob2 = tf.nn.softmax_cross_entropy_with_logits(labels=p, logits=logit_q)\n",
    "print(prob1.eval(feed_dict))  # [ 0.43748799  0.51301527  0.69314718]\n",
    "print(prob2.eval(feed_dict))  # [ 0.43748799  0.51301527  0.69314718]"
   ]
  },
  {
   "cell_type": "code",
   "execution_count": 13,
   "metadata": {},
   "outputs": [
    {
     "name": "stdout",
     "output_type": "stream",
     "text": [
      "prob1:\n",
      "[[0.         0.         0.         0.5981388  0.        ]\n",
      " [0.55435526 0.         0.         0.         0.        ]]\n",
      "prob2:\n",
      "[[0.7981389  0.7981389  0.7981389  0.5981388  0.7981389 ]\n",
      " [0.55435526 0.8543552  0.7981389  0.7443966  0.7443966 ]]\n",
      "prob3:\n",
      "[[0.7981389  0.7981389  0.7981389  0.5981388  0.7981389 ]\n",
      " [0.55435526 0.8543552  0.7981389  0.7443966  0.7443966 ]]\n",
      "prob4 [sigmoid_cross_entropy_with_logits]:\n",
      "[[0.79813886 0.79813886 0.79813886 0.59813887 0.79813886]\n",
      " [0.5543552  0.8543552  0.79813886 0.7443967  0.7443967 ]]\n"
     ]
    }
   ],
   "source": [
    "p = tf.placeholder(tf.float32, shape=[None, 5])\n",
    "logit_q = tf.placeholder(tf.float32, shape=[None, 5])\n",
    "q = tf.nn.sigmoid(logit_q)\n",
    "\n",
    "feed_dict = {\n",
    "  p: [[0, 0, 0, 1, 0],\n",
    "      [1, 0, 0, 0, 0]],\n",
    "  logit_q: [[0.2, 0.2, 0.2, 0.2, 0.2],\n",
    "            [0.3, 0.3, 0.2, 0.1, 0.1]]\n",
    "}\n",
    "\n",
    "prob1 = -p * tf.log(q)\n",
    "prob2 = p * -tf.log(q) + (1 - p) * -tf.log(1 - q)\n",
    "prob3 = p * -tf.log(tf.sigmoid(logit_q)) + (1-p) * -tf.log(1-tf.sigmoid(logit_q))\n",
    "prob4 = tf.nn.sigmoid_cross_entropy_with_logits(labels=p, logits=logit_q)\n",
    "print('prob1:')\n",
    "print(prob1.eval(feed_dict))\n",
    "print('prob2:')\n",
    "print(prob2.eval(feed_dict))\n",
    "print('prob3:')\n",
    "print(prob3.eval(feed_dict))\n",
    "print('prob4 [sigmoid_cross_entropy_with_logits]:')\n",
    "print(prob4.eval(feed_dict))"
   ]
  },
  {
   "cell_type": "code",
   "execution_count": null,
   "metadata": {},
   "outputs": [],
   "source": []
  }
 ],
 "metadata": {
  "kernelspec": {
   "display_name": "py3",
   "language": "python",
   "name": "py3"
  },
  "language_info": {
   "codemirror_mode": {
    "name": "ipython",
    "version": 3
   },
   "file_extension": ".py",
   "mimetype": "text/x-python",
   "name": "python",
   "nbconvert_exporter": "python",
   "pygments_lexer": "ipython3",
   "version": "3.10.2"
  }
 },
 "nbformat": 4,
 "nbformat_minor": 4
}
