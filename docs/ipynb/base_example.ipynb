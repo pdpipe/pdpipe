{
 "cells": [
  {
   "cell_type": "code",
   "execution_count": 1,
   "metadata": {},
   "outputs": [],
   "source": [
    "import pandas as pd\n",
    "import pdpipe as pdp"
   ]
  },
  {
   "cell_type": "code",
   "execution_count": 2,
   "metadata": {},
   "outputs": [],
   "source": [
    "df = pd.DataFrame(\n",
    "    data=[\n",
    "        [23, 'Jo', 'M', True, 0.07, 'USA', 'Living life to its fullest'],\n",
    "        [23, 'Dana', 'F', True, 0.3, 'USA', 'the pen is mightier then the sword'],\n",
    "        [25, 'Bo', 'M', False, 2.3, 'Greece', 'all for one and one for all'],\n",
    "        [44, 'Derek', 'M', True, 1.1, 'Denmark', 'every life is precious'],\n",
    "        [72, 'Regina', 'F', True, 7.1, 'Greece', 'all of you get off my porch'],\n",
    "        [50, 'Jim', 'M', False, 0.2, 'Germany', 'boy do I love dogs and cats'],\n",
    "        [80, 'Richy', 'M', False, 100.2, 'Finland', 'I gots the dollarz'],\n",
    "        [80, 'Wealthus', 'F', False, 123.2, 'Finland', 'me likey them moniez'],\n",
    "    ],\n",
    "    columns=['Age', 'Name', 'Gender', 'Smoking', 'Savings', 'Country', 'Quote'],\n",
    ")"
   ]
  },
  {
   "cell_type": "code",
   "execution_count": 3,
   "metadata": {},
   "outputs": [
    {
     "data": {
      "text/html": [
       "<div>\n",
       "<style scoped>\n",
       "    .dataframe tbody tr th:only-of-type {\n",
       "        vertical-align: middle;\n",
       "    }\n",
       "\n",
       "    .dataframe tbody tr th {\n",
       "        vertical-align: top;\n",
       "    }\n",
       "\n",
       "    .dataframe thead th {\n",
       "        text-align: right;\n",
       "    }\n",
       "</style>\n",
       "<table border=\"1\" class=\"dataframe\">\n",
       "  <thead>\n",
       "    <tr style=\"text-align: right;\">\n",
       "      <th></th>\n",
       "      <th>Age</th>\n",
       "      <th>Name</th>\n",
       "      <th>Gender</th>\n",
       "      <th>Smoking</th>\n",
       "      <th>Savings</th>\n",
       "      <th>Country</th>\n",
       "      <th>Quote</th>\n",
       "    </tr>\n",
       "  </thead>\n",
       "  <tbody>\n",
       "    <tr>\n",
       "      <th>0</th>\n",
       "      <td>23</td>\n",
       "      <td>Jo</td>\n",
       "      <td>M</td>\n",
       "      <td>True</td>\n",
       "      <td>0.07</td>\n",
       "      <td>USA</td>\n",
       "      <td>Living life to its fullest</td>\n",
       "    </tr>\n",
       "    <tr>\n",
       "      <th>1</th>\n",
       "      <td>23</td>\n",
       "      <td>Dana</td>\n",
       "      <td>F</td>\n",
       "      <td>True</td>\n",
       "      <td>0.30</td>\n",
       "      <td>USA</td>\n",
       "      <td>the pen is mightier then the sword</td>\n",
       "    </tr>\n",
       "    <tr>\n",
       "      <th>2</th>\n",
       "      <td>25</td>\n",
       "      <td>Bo</td>\n",
       "      <td>M</td>\n",
       "      <td>False</td>\n",
       "      <td>2.30</td>\n",
       "      <td>Greece</td>\n",
       "      <td>all for one and one for all</td>\n",
       "    </tr>\n",
       "    <tr>\n",
       "      <th>3</th>\n",
       "      <td>44</td>\n",
       "      <td>Derek</td>\n",
       "      <td>M</td>\n",
       "      <td>True</td>\n",
       "      <td>1.10</td>\n",
       "      <td>Denmark</td>\n",
       "      <td>every life is precious</td>\n",
       "    </tr>\n",
       "    <tr>\n",
       "      <th>4</th>\n",
       "      <td>72</td>\n",
       "      <td>Regina</td>\n",
       "      <td>F</td>\n",
       "      <td>True</td>\n",
       "      <td>7.10</td>\n",
       "      <td>Greece</td>\n",
       "      <td>all of you get off my porch</td>\n",
       "    </tr>\n",
       "    <tr>\n",
       "      <th>5</th>\n",
       "      <td>50</td>\n",
       "      <td>Jim</td>\n",
       "      <td>M</td>\n",
       "      <td>False</td>\n",
       "      <td>0.20</td>\n",
       "      <td>Germany</td>\n",
       "      <td>boy do I love dogs and cats</td>\n",
       "    </tr>\n",
       "    <tr>\n",
       "      <th>6</th>\n",
       "      <td>80</td>\n",
       "      <td>Richy</td>\n",
       "      <td>M</td>\n",
       "      <td>False</td>\n",
       "      <td>100.20</td>\n",
       "      <td>Finland</td>\n",
       "      <td>I gots the dollarz</td>\n",
       "    </tr>\n",
       "    <tr>\n",
       "      <th>7</th>\n",
       "      <td>80</td>\n",
       "      <td>Wealthus</td>\n",
       "      <td>F</td>\n",
       "      <td>False</td>\n",
       "      <td>123.20</td>\n",
       "      <td>Finland</td>\n",
       "      <td>me likey them moniez</td>\n",
       "    </tr>\n",
       "  </tbody>\n",
       "</table>\n",
       "</div>"
      ],
      "text/plain": [
       "   Age      Name Gender  Smoking  Savings  Country  \\\n",
       "0   23        Jo      M     True     0.07      USA   \n",
       "1   23      Dana      F     True     0.30      USA   \n",
       "2   25        Bo      M    False     2.30   Greece   \n",
       "3   44     Derek      M     True     1.10  Denmark   \n",
       "4   72    Regina      F     True     7.10   Greece   \n",
       "5   50       Jim      M    False     0.20  Germany   \n",
       "6   80     Richy      M    False   100.20  Finland   \n",
       "7   80  Wealthus      F    False   123.20  Finland   \n",
       "\n",
       "                                Quote  \n",
       "0          Living life to its fullest  \n",
       "1  the pen is mightier then the sword  \n",
       "2         all for one and one for all  \n",
       "3              every life is precious  \n",
       "4         all of you get off my porch  \n",
       "5         boy do I love dogs and cats  \n",
       "6                  I gots the dollarz  \n",
       "7                me likey them moniez  "
      ]
     },
     "execution_count": 3,
     "metadata": {},
     "output_type": "execute_result"
    }
   ],
   "source": [
    "df"
   ]
  },
  {
   "cell_type": "code",
   "execution_count": 4,
   "metadata": {},
   "outputs": [],
   "source": [
    "pipeline = pdp.ColDrop('Name').RowDrop({'Savings': lambda x: x > 100}).Bin({'Savings': [1]}, drop=False).Scale(\n",
    "    'StandardScaler').TokenizeText('Quote').SnowballStem('EnglishStemmer', columns=['Quote']).RemoveStopwords(\n",
    "    'English', 'Quote').Encode('Gender').OneHotEncode('Country')"
   ]
  },
  {
   "cell_type": "code",
   "execution_count": 6,
   "metadata": {
    "scrolled": true
   },
   "outputs": [
    {
     "data": {
      "text/plain": [
       "A pdpipe pipeline:\n",
       "[ 0]  Drop columns Name\n",
       "[ 1]  Drop rows in columns Savings by conditions\n",
       "[ 2]  Bin Savings by [1].\n",
       "[ 3]  Scale columns Columns of dtypes <class 'numpy.number'>\n",
       "[ 4]  Tokenize Quote\n",
       "[ 5]  Stemming tokens in Quote...\n",
       "[ 6]  Remove stopwords from Quote\n",
       "[ 7]  Encode Gender\n",
       "[ 8]  One-hot encode Country"
      ]
     },
     "execution_count": 6,
     "metadata": {},
     "output_type": "execute_result"
    }
   ],
   "source": [
    "pipeline"
   ]
  },
  {
   "cell_type": "code",
   "execution_count": 13,
   "metadata": {},
   "outputs": [
    {
     "name": "stdout",
     "output_type": "stream",
     "text": [
      "- Drop columns Name\n",
      "- Drop rows in columns Savings by conditions\n",
      "2 rows dropped.\n",
      "- Bin Savings by [1].\n"
     ]
    },
    {
     "name": "stderr",
     "output_type": "stream",
     "text": [
      "Savings: 100%|████████████████████████████████████████████████████████████████████████████████████████████████████████████████████████████████████████████████████████████████| 1/1 [00:00<00:00, 89.25it/s]"
     ]
    },
    {
     "name": "stdout",
     "output_type": "stream",
     "text": [
      "- Scale columns Columns of dtypes <class 'numpy.number'>\n",
      "- Tokenize Quote\n",
      "- Stemming tokens in Quote...\n",
      "- Remove stopwords from Quote\n",
      "- Encode Gender\n",
      "- One-hot encode Country\n"
     ]
    },
    {
     "name": "stderr",
     "output_type": "stream",
     "text": [
      "\n"
     ]
    },
    {
     "data": {
      "text/html": [
       "<div>\n",
       "<style scoped>\n",
       "    .dataframe tbody tr th:only-of-type {\n",
       "        vertical-align: middle;\n",
       "    }\n",
       "\n",
       "    .dataframe tbody tr th {\n",
       "        vertical-align: top;\n",
       "    }\n",
       "\n",
       "    .dataframe thead th {\n",
       "        text-align: right;\n",
       "    }\n",
       "</style>\n",
       "<table border=\"1\" class=\"dataframe\">\n",
       "  <thead>\n",
       "    <tr style=\"text-align: right;\">\n",
       "      <th></th>\n",
       "      <th>Age</th>\n",
       "      <th>Gender</th>\n",
       "      <th>Smoking</th>\n",
       "      <th>Savings</th>\n",
       "      <th>Savings_bin</th>\n",
       "      <th>Quote</th>\n",
       "      <th>Country_Germany</th>\n",
       "      <th>Country_Greece</th>\n",
       "      <th>Country_USA</th>\n",
       "    </tr>\n",
       "  </thead>\n",
       "  <tbody>\n",
       "    <tr>\n",
       "      <th>0</th>\n",
       "      <td>-1.135052</td>\n",
       "      <td>1</td>\n",
       "      <td>True</td>\n",
       "      <td>-0.609615</td>\n",
       "      <td>&lt;1</td>\n",
       "      <td>[live, life, fullest]</td>\n",
       "      <td>0</td>\n",
       "      <td>0</td>\n",
       "      <td>1</td>\n",
       "    </tr>\n",
       "    <tr>\n",
       "      <th>1</th>\n",
       "      <td>-1.135052</td>\n",
       "      <td>0</td>\n",
       "      <td>True</td>\n",
       "      <td>-0.604820</td>\n",
       "      <td>&lt;1</td>\n",
       "      <td>[pen, mightier, sword]</td>\n",
       "      <td>0</td>\n",
       "      <td>0</td>\n",
       "      <td>1</td>\n",
       "    </tr>\n",
       "    <tr>\n",
       "      <th>2</th>\n",
       "      <td>-1.049790</td>\n",
       "      <td>1</td>\n",
       "      <td>False</td>\n",
       "      <td>-0.563121</td>\n",
       "      <td>1≤</td>\n",
       "      <td>[one, one]</td>\n",
       "      <td>0</td>\n",
       "      <td>1</td>\n",
       "      <td>0</td>\n",
       "    </tr>\n",
       "    <tr>\n",
       "      <th>3</th>\n",
       "      <td>-0.239800</td>\n",
       "      <td>1</td>\n",
       "      <td>True</td>\n",
       "      <td>-0.588140</td>\n",
       "      <td>1≤</td>\n",
       "      <td>[everi, life, precious]</td>\n",
       "      <td>0</td>\n",
       "      <td>0</td>\n",
       "      <td>0</td>\n",
       "    </tr>\n",
       "  </tbody>\n",
       "</table>\n",
       "</div>"
      ],
      "text/plain": [
       "        Age  Gender  Smoking   Savings Savings_bin                    Quote  \\\n",
       "0 -1.135052       1     True -0.609615          <1    [live, life, fullest]   \n",
       "1 -1.135052       0     True -0.604820          <1   [pen, mightier, sword]   \n",
       "2 -1.049790       1    False -0.563121          1≤               [one, one]   \n",
       "3 -0.239800       1     True -0.588140          1≤  [everi, life, precious]   \n",
       "\n",
       "   Country_Germany  Country_Greece  Country_USA  \n",
       "0                0               0            1  \n",
       "1                0               0            1  \n",
       "2                0               1            0  \n",
       "3                0               0            0  "
      ]
     },
     "execution_count": 13,
     "metadata": {},
     "output_type": "execute_result"
    }
   ],
   "source": [
    "pipeline(df, verbose=True).head(4)"
   ]
  },
  {
   "cell_type": "code",
   "execution_count": 11,
   "metadata": {},
   "outputs": [
    {
     "name": "stdout",
     "output_type": "stream",
     "text": [
      "- Bin Savings by [1].\n"
     ]
    },
    {
     "name": "stderr",
     "output_type": "stream",
     "text": [
      "Savings: 100%|███████████████████████████████████████████████████████████████████████████████████████████████████████████████████████████████████████████████████████████████| 1/1 [00:00<00:00, 274.59it/s]"
     ]
    },
    {
     "name": "stdout",
     "output_type": "stream",
     "text": [
      "- Scale columns Columns of dtypes <class 'numpy.number'>\n"
     ]
    },
    {
     "name": "stderr",
     "output_type": "stream",
     "text": [
      "\n"
     ]
    },
    {
     "data": {
      "text/html": [
       "<div>\n",
       "<style scoped>\n",
       "    .dataframe tbody tr th:only-of-type {\n",
       "        vertical-align: middle;\n",
       "    }\n",
       "\n",
       "    .dataframe tbody tr th {\n",
       "        vertical-align: top;\n",
       "    }\n",
       "\n",
       "    .dataframe thead th {\n",
       "        text-align: right;\n",
       "    }\n",
       "</style>\n",
       "<table border=\"1\" class=\"dataframe\">\n",
       "  <thead>\n",
       "    <tr style=\"text-align: right;\">\n",
       "      <th></th>\n",
       "      <th>Age</th>\n",
       "      <th>Name</th>\n",
       "      <th>Gender</th>\n",
       "      <th>Smoking</th>\n",
       "      <th>Savings</th>\n",
       "      <th>Savings_bin</th>\n",
       "      <th>Country</th>\n",
       "      <th>Quote</th>\n",
       "    </tr>\n",
       "  </thead>\n",
       "  <tbody>\n",
       "    <tr>\n",
       "      <th>0</th>\n",
       "      <td>-1.135052</td>\n",
       "      <td>Jo</td>\n",
       "      <td>M</td>\n",
       "      <td>True</td>\n",
       "      <td>-0.609615</td>\n",
       "      <td>&lt;1</td>\n",
       "      <td>USA</td>\n",
       "      <td>Living life to its fullest</td>\n",
       "    </tr>\n",
       "    <tr>\n",
       "      <th>1</th>\n",
       "      <td>-1.135052</td>\n",
       "      <td>Dana</td>\n",
       "      <td>F</td>\n",
       "      <td>True</td>\n",
       "      <td>-0.604820</td>\n",
       "      <td>&lt;1</td>\n",
       "      <td>USA</td>\n",
       "      <td>the pen is mightier then the sword</td>\n",
       "    </tr>\n",
       "    <tr>\n",
       "      <th>2</th>\n",
       "      <td>-1.049790</td>\n",
       "      <td>Bo</td>\n",
       "      <td>M</td>\n",
       "      <td>False</td>\n",
       "      <td>-0.563121</td>\n",
       "      <td>1≤</td>\n",
       "      <td>Greece</td>\n",
       "      <td>all for one and one for all</td>\n",
       "    </tr>\n",
       "    <tr>\n",
       "      <th>3</th>\n",
       "      <td>-0.239800</td>\n",
       "      <td>Derek</td>\n",
       "      <td>M</td>\n",
       "      <td>True</td>\n",
       "      <td>-0.588140</td>\n",
       "      <td>1≤</td>\n",
       "      <td>Denmark</td>\n",
       "      <td>every life is precious</td>\n",
       "    </tr>\n",
       "  </tbody>\n",
       "</table>\n",
       "</div>"
      ],
      "text/plain": [
       "        Age   Name Gender  Smoking   Savings Savings_bin  Country  \\\n",
       "0 -1.135052     Jo      M     True -0.609615          <1      USA   \n",
       "1 -1.135052   Dana      F     True -0.604820          <1      USA   \n",
       "2 -1.049790     Bo      M    False -0.563121          1≤   Greece   \n",
       "3 -0.239800  Derek      M     True -0.588140          1≤  Denmark   \n",
       "\n",
       "                                Quote  \n",
       "0          Living life to its fullest  \n",
       "1  the pen is mightier then the sword  \n",
       "2         all for one and one for all  \n",
       "3              every life is precious  "
      ]
     },
     "execution_count": 11,
     "metadata": {},
     "output_type": "execute_result"
    }
   ],
   "source": [
    "pipeline[2:4](df, verbose=True).head(4)"
   ]
  },
  {
   "cell_type": "code",
   "execution_count": 9,
   "metadata": {},
   "outputs": [],
   "source": [
    "pl = pdp.ColDrop('Name').RowDrop({'Savings': lambda x: x > 100}).Bin({'Savings': [1]}, drop=False).Scale(\n",
    "    'StandardScaler').TokenizeText('Quote').SnowballStem('EnglishStemmer', columns=['Quote']).RemoveStopwords(\n",
    "    'English', 'Quote').Encode(['Gender', 'Savings_bin']).OneHotEncode('Country')"
   ]
  },
  {
   "cell_type": "code",
   "execution_count": 12,
   "metadata": {},
   "outputs": [
    {
     "data": {
      "text/html": [
       "<div>\n",
       "<style scoped>\n",
       "    .dataframe tbody tr th:only-of-type {\n",
       "        vertical-align: middle;\n",
       "    }\n",
       "\n",
       "    .dataframe tbody tr th {\n",
       "        vertical-align: top;\n",
       "    }\n",
       "\n",
       "    .dataframe thead th {\n",
       "        text-align: right;\n",
       "    }\n",
       "</style>\n",
       "<table border=\"1\" class=\"dataframe\">\n",
       "  <thead>\n",
       "    <tr style=\"text-align: right;\">\n",
       "      <th></th>\n",
       "      <th>Age</th>\n",
       "      <th>Gender</th>\n",
       "      <th>Smoking</th>\n",
       "      <th>Savings</th>\n",
       "      <th>Savings_bin</th>\n",
       "      <th>Quote</th>\n",
       "      <th>Country_Germany</th>\n",
       "      <th>Country_Greece</th>\n",
       "      <th>Country_USA</th>\n",
       "    </tr>\n",
       "  </thead>\n",
       "  <tbody>\n",
       "    <tr>\n",
       "      <th>0</th>\n",
       "      <td>-0.917257</td>\n",
       "      <td>1</td>\n",
       "      <td>True</td>\n",
       "      <td>-0.718473</td>\n",
       "      <td>1</td>\n",
       "      <td>[live, life, fullest]</td>\n",
       "      <td>0</td>\n",
       "      <td>0</td>\n",
       "      <td>1</td>\n",
       "    </tr>\n",
       "    <tr>\n",
       "      <th>1</th>\n",
       "      <td>-0.917257</td>\n",
       "      <td>0</td>\n",
       "      <td>True</td>\n",
       "      <td>-0.625375</td>\n",
       "      <td>1</td>\n",
       "      <td>[pen, mightier, sword]</td>\n",
       "      <td>0</td>\n",
       "      <td>0</td>\n",
       "      <td>1</td>\n",
       "    </tr>\n",
       "    <tr>\n",
       "      <th>2</th>\n",
       "      <td>-0.806074</td>\n",
       "      <td>1</td>\n",
       "      <td>False</td>\n",
       "      <td>0.184172</td>\n",
       "      <td>0</td>\n",
       "      <td>[one, one]</td>\n",
       "      <td>0</td>\n",
       "      <td>1</td>\n",
       "      <td>0</td>\n",
       "    </tr>\n",
       "    <tr>\n",
       "      <th>3</th>\n",
       "      <td>0.250161</td>\n",
       "      <td>1</td>\n",
       "      <td>True</td>\n",
       "      <td>-0.301556</td>\n",
       "      <td>0</td>\n",
       "      <td>[everi, life, precious]</td>\n",
       "      <td>0</td>\n",
       "      <td>0</td>\n",
       "      <td>0</td>\n",
       "    </tr>\n",
       "  </tbody>\n",
       "</table>\n",
       "</div>"
      ],
      "text/plain": [
       "        Age  Gender  Smoking   Savings  Savings_bin                    Quote  \\\n",
       "0 -0.917257       1     True -0.718473            1    [live, life, fullest]   \n",
       "1 -0.917257       0     True -0.625375            1   [pen, mightier, sword]   \n",
       "2 -0.806074       1    False  0.184172            0               [one, one]   \n",
       "3  0.250161       1     True -0.301556            0  [everi, life, precious]   \n",
       "\n",
       "   Country_Germany  Country_Greece  Country_USA  \n",
       "0                0               0            1  \n",
       "1                0               0            1  \n",
       "2                0               1            0  \n",
       "3                0               0            0  "
      ]
     },
     "execution_count": 12,
     "metadata": {},
     "output_type": "execute_result"
    }
   ],
   "source": [
    "pl(df).head(4)"
   ]
  },
  {
   "cell_type": "code",
   "execution_count": null,
   "metadata": {},
   "outputs": [],
   "source": []
  }
 ],
 "metadata": {
  "kernelspec": {
   "display_name": "py3",
   "language": "python",
   "name": "py3"
  },
  "language_info": {
   "codemirror_mode": {
    "name": "ipython",
    "version": 3
   },
   "file_extension": ".py",
   "mimetype": "text/x-python",
   "name": "python",
   "nbconvert_exporter": "python",
   "pygments_lexer": "ipython3",
   "version": "3.8.5"
  }
 },
 "nbformat": 4,
 "nbformat_minor": 4
}
